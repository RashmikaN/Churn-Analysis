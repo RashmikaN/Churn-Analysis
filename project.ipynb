{
  "cells": [
    {
      "cell_type": "markdown",
      "metadata": {
        "id": "RZXWQQFUuEeH"
      },
      "source": [
        "CUSTOMER LOYALITY PREDICTION"
      ]
    },
    {
      "cell_type": "markdown",
      "metadata": {
        "id": "V_RIG97IuEeT"
      },
      "source": [
        "DATA SET"
      ]
    },
    {
      "cell_type": "code",
      "execution_count": null,
      "metadata": {
        "id": "O1Tsq29huEeU"
      },
      "outputs": [],
      "source": [
        "import numpy as np\n",
        "import pandas as pd\n",
        "from sklearn import preprocessing\n",
        "\n",
        "data1=pd.read_csv('Churn.csv')\n",
        "data1"
      ]
    },
    {
      "cell_type": "code",
      "execution_count": null,
      "metadata": {
        "id": "pbnPR7EYuEeV"
      },
      "outputs": [],
      "source": [
        "import hashlib\n",
        "import random\n",
        "import string\n",
        "d1 = data1[['CreditScore','Gender','Age','Tenure']].dropna()\n",
        "display(d1.head())"
      ]
    },
    {
      "cell_type": "code",
      "execution_count": null,
      "metadata": {
        "id": "dxBG1tB0uEeX"
      },
      "outputs": [],
      "source": [
        "data1"
      ]
    },
    {
      "cell_type": "code",
      "execution_count": null,
      "metadata": {
        "id": "KEFJ1ACTKVXv"
      },
      "outputs": [],
      "source": [
        "from tqdm.auto import tqdm\n",
        "import seaborn as sns\n",
        "import matplotlib.pyplot as plt\n",
        "\n",
        "# Selecting a few columns for distribution plots\n",
        "for column in tqdm(['Age', 'Tenure', 'Balance', 'EstimatedSalary'], desc='Plotting distributions'):\n",
        "    plt.figure(figsize=(10, 4))\n",
        "    sns.histplot(data1[column], kde=True)\n",
        "    plt.title('Distribution of ' + column)\n",
        "    plt.xlabel(column)\n",
        "    plt.ylabel('Frequency')\n",
        "    plt.show()\n"
      ]
    },
    {
      "cell_type": "markdown",
      "metadata": {
        "id": "TjzKoD90uEeY"
      },
      "source": [
        "Search and Display NULL Values"
      ]
    },
    {
      "cell_type": "code",
      "execution_count": null,
      "metadata": {
        "id": "ZKnb3aInuEeZ"
      },
      "outputs": [],
      "source": [
        "data1.apply(lambda x: sum(x.isnull()),axis=0)"
      ]
    },
    {
      "cell_type": "markdown",
      "metadata": {
        "id": "97pdjLr8uEea"
      },
      "source": [
        "DATA PREPROCESSING"
      ]
    },
    {
      "cell_type": "code",
      "execution_count": null,
      "metadata": {
        "id": "IvIFiz5HuEec"
      },
      "outputs": [],
      "source": [
        "data1['Gender'].replace(['Female','Male'],[hash('female'),hash('male')],inplace=True)"
      ]
    },
    {
      "cell_type": "code",
      "execution_count": null,
      "metadata": {
        "id": "cxa-IY_tuEed"
      },
      "outputs": [],
      "source": [
        "data1"
      ]
    },
    {
      "cell_type": "code",
      "execution_count": null,
      "metadata": {
        "id": "76ap0ugtuEee"
      },
      "outputs": [],
      "source": [
        "data1=data1.drop(['RowNumber','CustomerId','Surname','Geography'], axis=1)"
      ]
    },
    {
      "cell_type": "code",
      "execution_count": null,
      "metadata": {
        "id": "RLyK6rbNuEef"
      },
      "outputs": [],
      "source": [
        "data1['balancehash']=data1['Balance'].apply(hash)\n",
        "\n",
        "data1['estimatedhash']=data1['EstimatedSalary'].apply(hash)\n",
        "\n",
        "data1['agehash']=data1['Age'].apply(hash)\n",
        "\n",
        "data1['exihash']=data1['Exited'].apply(hash)"
      ]
    },
    {
      "cell_type": "code",
      "execution_count": null,
      "metadata": {
        "id": "j6c7-nQuuEef"
      },
      "outputs": [],
      "source": [
        "data1"
      ]
    },
    {
      "cell_type": "markdown",
      "metadata": {
        "id": "4r8u3O_4uEeg"
      },
      "source": [
        "Covariance and Correlation"
      ]
    },
    {
      "cell_type": "code",
      "execution_count": null,
      "metadata": {
        "id": "arvQAsz1uEeg"
      },
      "outputs": [],
      "source": [
        "data1.cov()"
      ]
    },
    {
      "cell_type": "code",
      "execution_count": null,
      "metadata": {
        "id": "0lvWDG7LuEeh"
      },
      "outputs": [],
      "source": [
        "data1.corr()"
      ]
    },
    {
      "cell_type": "code",
      "execution_count": null,
      "metadata": {
        "id": "XwAhubZwuEeh"
      },
      "outputs": [],
      "source": [
        "data1"
      ]
    },
    {
      "cell_type": "code",
      "execution_count": null,
      "metadata": {
        "id": "BOS8d9TB9_x3"
      },
      "outputs": [],
      "source": [
        "import seaborn as sns\n",
        "import matplotlib.pyplot as plt\n",
        "\n",
        "# Calculate the correlation matrix\n",
        "corr_matrix = data1.corr()\n",
        "\n",
        "# Generate a mask for the upper triangle\n",
        "mask = np.triu(np.ones_like(corr_matrix, dtype=bool))\n",
        "\n",
        "# Set up the matplotlib figure\n",
        "f, ax = plt.subplots(figsize=(11, 9))\n",
        "\n",
        "# Generate a custom diverging colormap\n",
        "cmap = sns.diverging_palette(230, 20, as_cmap=True)\n",
        "\n",
        "# Draw the heatmap with the mask and correct aspect ratio\n",
        "sns.heatmap(corr_matrix, mask=mask, cmap=cmap, vmax=.3, center=0,\n",
        "            square=True, linewidths=.5, cbar_kws={\"shrink\": .5})\n",
        "plt.show()"
      ]
    },
    {
      "cell_type": "code",
      "execution_count": null,
      "metadata": {
        "id": "Xjyrmowi-upq"
      },
      "outputs": [],
      "source": [
        "sns.heatmap(corr_matrix, cmap=cmap, vmax=.3, center=0,\n",
        "            square=True, linewidths=.5, cbar_kws={\"shrink\": .5})\n",
        "plt.show()"
      ]
    },
    {
      "cell_type": "markdown",
      "metadata": {
        "id": "7yVCrvbzuEe6"
      },
      "source": [
        "Outlier Detection"
      ]
    },
    {
      "cell_type": "code",
      "execution_count": null,
      "metadata": {
        "id": "PGbcyCsIuEe6"
      },
      "outputs": [],
      "source": [
        "%matplotlib inline\n",
        "data1.boxplot(column='balancehash')"
      ]
    },
    {
      "cell_type": "code",
      "execution_count": null,
      "metadata": {
        "id": "LAXFI6WmuEe7"
      },
      "outputs": [],
      "source": [
        "data1.boxplot(column='agehash')"
      ]
    },
    {
      "cell_type": "code",
      "execution_count": null,
      "metadata": {
        "id": "2Xk8uTRIuEe7"
      },
      "outputs": [],
      "source": [
        "data1.boxplot(column='Tenure')"
      ]
    },
    {
      "cell_type": "code",
      "execution_count": null,
      "metadata": {
        "id": "dziDqUDTuEe8"
      },
      "outputs": [],
      "source": [
        "data1.boxplot(column='Balance')"
      ]
    },
    {
      "cell_type": "code",
      "execution_count": null,
      "metadata": {
        "id": "4JBzTzKLuEe8"
      },
      "outputs": [],
      "source": [
        "data1.boxplot(column='NumOfProducts')"
      ]
    },
    {
      "cell_type": "code",
      "execution_count": null,
      "metadata": {
        "id": "eXuaYiRSuEe8"
      },
      "outputs": [],
      "source": [
        "data1.boxplot(column='HasCrCard')"
      ]
    },
    {
      "cell_type": "code",
      "execution_count": null,
      "metadata": {
        "id": "b1mFAbMluEe9"
      },
      "outputs": [],
      "source": [
        "data1.boxplot(column='IsActiveMember')"
      ]
    },
    {
      "cell_type": "code",
      "execution_count": null,
      "metadata": {
        "id": "2_QXzCdKuEe9"
      },
      "outputs": [],
      "source": [
        "data1.boxplot(column='estimatedhash')"
      ]
    },
    {
      "cell_type": "code",
      "execution_count": null,
      "metadata": {
        "id": "Xk1qYv-huEe-"
      },
      "outputs": [],
      "source": [
        "data1.boxplot(column='Gender')"
      ]
    },
    {
      "cell_type": "code",
      "execution_count": null,
      "metadata": {
        "id": "44f3RbdbuEe-"
      },
      "outputs": [],
      "source": [
        "data1.Age.value_counts()"
      ]
    },
    {
      "cell_type": "code",
      "execution_count": null,
      "metadata": {
        "id": "lOfeU3OyuEe-"
      },
      "outputs": [],
      "source": [
        "data1.CreditScore.value_counts()"
      ]
    },
    {
      "cell_type": "code",
      "execution_count": null,
      "metadata": {
        "id": "e1I-5WRRuEe_"
      },
      "outputs": [],
      "source": [
        "data1"
      ]
    },
    {
      "cell_type": "markdown",
      "metadata": {
        "id": "JcyA9rsCuEe_"
      },
      "source": [
        "Searching for Bell Graph of Some Attributes"
      ]
    },
    {
      "cell_type": "code",
      "execution_count": null,
      "metadata": {
        "id": "BnJHRcQGuEfA"
      },
      "outputs": [],
      "source": [
        "data1['Gender'].hist(bins=10)"
      ]
    },
    {
      "cell_type": "code",
      "execution_count": null,
      "metadata": {
        "id": "5h7lO9tPuEfA"
      },
      "outputs": [],
      "source": [
        "data1['CreditScore'].hist(bins=10)"
      ]
    },
    {
      "cell_type": "code",
      "execution_count": null,
      "metadata": {
        "id": "eRlpxd9huEfA"
      },
      "outputs": [],
      "source": [
        "data1['Age'].hist(bins=10)"
      ]
    },
    {
      "cell_type": "code",
      "execution_count": null,
      "metadata": {
        "id": "qhAeuNsCuEfB"
      },
      "outputs": [],
      "source": [
        "data1['Tenure'].hist(bins=10)"
      ]
    },
    {
      "cell_type": "code",
      "execution_count": null,
      "metadata": {
        "id": "z-1dNfbhuEfB"
      },
      "outputs": [],
      "source": [
        "data1['Balance'].hist(bins=10)"
      ]
    },
    {
      "cell_type": "code",
      "execution_count": null,
      "metadata": {
        "id": "rLOLI9S8uEfC"
      },
      "outputs": [],
      "source": [
        "data1['NumOfProducts'].hist(bins=10)"
      ]
    },
    {
      "cell_type": "code",
      "execution_count": null,
      "metadata": {
        "id": "VtmzTF6euEfC"
      },
      "outputs": [],
      "source": [
        "data1['HasCrCard'].hist(bins=10)"
      ]
    },
    {
      "cell_type": "code",
      "execution_count": null,
      "metadata": {
        "id": "AzmO4uQHuEfX"
      },
      "outputs": [],
      "source": [
        "data1['IsActiveMember'].hist(bins=10)"
      ]
    },
    {
      "cell_type": "code",
      "execution_count": null,
      "metadata": {
        "id": "b-MO6AK5uEfY"
      },
      "outputs": [],
      "source": [
        "data1['EstimatedSalary'].hist(bins=10)"
      ]
    },
    {
      "cell_type": "markdown",
      "metadata": {
        "id": "Z3mOzg22uEfY"
      },
      "source": [
        "Searching for histograms Graphs for some values"
      ]
    },
    {
      "cell_type": "code",
      "execution_count": null,
      "metadata": {
        "id": "2QtmpurWuEfZ"
      },
      "outputs": [],
      "source": [
        "import seaborn as sns\n",
        "#CreditScore\tGender\tTenure\tNumOfProducts\tHasCrCard\tIsActiveMember\tbalancehash\testimatedhash\tagehash\n",
        "sns.displot(data1['CreditScore'])"
      ]
    },
    {
      "cell_type": "code",
      "execution_count": null,
      "metadata": {
        "id": "pkxoCm1duEfZ"
      },
      "outputs": [],
      "source": [
        "sns.displot(data1['Gender'])"
      ]
    },
    {
      "cell_type": "code",
      "execution_count": null,
      "metadata": {
        "id": "Cd0MXgs7uEfa"
      },
      "outputs": [],
      "source": [
        "sns.displot(data1['Tenure'])"
      ]
    },
    {
      "cell_type": "code",
      "execution_count": null,
      "metadata": {
        "id": "B3pZBX-cuEfa"
      },
      "outputs": [],
      "source": [
        "sns.displot(data1['NumOfProducts'])"
      ]
    },
    {
      "cell_type": "code",
      "execution_count": null,
      "metadata": {
        "id": "p9fwWzzHuEfa"
      },
      "outputs": [],
      "source": [
        "sns.displot(data1['HasCrCard'])"
      ]
    },
    {
      "cell_type": "code",
      "execution_count": null,
      "metadata": {
        "id": "Wy6xdJHNuEfb"
      },
      "outputs": [],
      "source": [
        "sns.displot(data1['IsActiveMember'])"
      ]
    },
    {
      "cell_type": "code",
      "execution_count": null,
      "metadata": {
        "id": "w6fLXa1-uEfb"
      },
      "outputs": [],
      "source": [
        "sns.displot(data1['balancehash'])"
      ]
    },
    {
      "cell_type": "code",
      "execution_count": null,
      "metadata": {
        "id": "05evyq2WuEfc"
      },
      "outputs": [],
      "source": [
        "sns.displot(data1['estimatedhash'])"
      ]
    },
    {
      "cell_type": "code",
      "execution_count": null,
      "metadata": {
        "id": "6zL6CzHCuEfc"
      },
      "outputs": [],
      "source": [
        "sns.displot(data1['agehash'])"
      ]
    },
    {
      "cell_type": "code",
      "execution_count": null,
      "metadata": {
        "id": "4gr0hHY6uEfd"
      },
      "outputs": [],
      "source": [
        "data1.describe()"
      ]
    },
    {
      "cell_type": "code",
      "execution_count": null,
      "metadata": {
        "id": "lekkYOfwuEfd"
      },
      "outputs": [],
      "source": [
        "#replacing num products\n",
        "data1['NumOfProducts'].replace([4],[1],inplace=True)"
      ]
    },
    {
      "cell_type": "code",
      "execution_count": null,
      "metadata": {
        "id": "9mUWPnGOuEfe"
      },
      "outputs": [],
      "source": [
        "data1"
      ]
    },
    {
      "cell_type": "markdown",
      "metadata": {
        "id": "vRvFsGwzuEfe"
      },
      "source": [
        "Removing Outliers"
      ]
    },
    {
      "cell_type": "code",
      "execution_count": null,
      "metadata": {
        "id": "5P5Qt7cruEfe"
      },
      "outputs": [],
      "source": [
        "data1.boxplot(column='NumOfProducts')"
      ]
    },
    {
      "cell_type": "code",
      "execution_count": null,
      "metadata": {
        "id": "wPMlCT2ouEff"
      },
      "outputs": [],
      "source": [
        "data1['CreditScore'] = data1['CreditScore'].mask(data1['CreditScore'] < 380, 652)"
      ]
    },
    {
      "cell_type": "code",
      "execution_count": null,
      "metadata": {
        "id": "X2tNXlkKuEff"
      },
      "outputs": [],
      "source": [
        "data1.boxplot(column='CreditScore')"
      ]
    },
    {
      "cell_type": "code",
      "execution_count": null,
      "metadata": {
        "id": "eE14Nlr-uEfg"
      },
      "outputs": [],
      "source": [
        "data1['agehash'] = data1['agehash'].mask(data1['agehash'] > 62, 37)"
      ]
    },
    {
      "cell_type": "code",
      "execution_count": null,
      "metadata": {
        "id": "JpD279fAuEfg"
      },
      "outputs": [],
      "source": [
        "data1.boxplot(column='agehash')"
      ]
    },
    {
      "cell_type": "code",
      "execution_count": null,
      "metadata": {
        "id": "mY4eovdJuEfh"
      },
      "outputs": [],
      "source": [
        "exited=data1['Exited']\n",
        "mean_exited=data1['Exited'].mean()\n",
        "age=data1['Age']\n",
        "import matplotlib.pyplot as plt"
      ]
    },
    {
      "cell_type": "code",
      "execution_count": null,
      "metadata": {
        "id": "vAT8fEYvuEfh",
        "scrolled": true
      },
      "outputs": [],
      "source": [
        "import seaborn as sns\n",
        "plt.plot(age,exited,'o')\n",
        "plt.ylabel('Exited')\n",
        "plt.xlabel('Age')\n",
        "plt.axhline(mean_exited,color='r',linestyle='-')\n",
        "sns.regplot(x='Age',y='Exited',data=data1)"
      ]
    },
    {
      "cell_type": "code",
      "execution_count": null,
      "metadata": {
        "id": "MTPY4gaeuEfh"
      },
      "outputs": [],
      "source": [
        "age=data1['Balance']\n",
        "plt.plot(age,exited,'o')\n",
        "plt.ylabel('Exited')\n",
        "plt.xlabel('Balance')\n",
        "plt.axhline(mean_exited,color='r',linestyle='-')\n",
        "sns.regplot(x='Balance',y='Exited',data=data1)"
      ]
    },
    {
      "cell_type": "code",
      "execution_count": null,
      "metadata": {
        "id": "aheZdkVRuEfi"
      },
      "outputs": [],
      "source": [
        "gen=data1['Gender']\n",
        "plt.plot(gen,exited,'o')\n",
        "plt.ylabel('Exited')\n",
        "plt.xlabel('Gender')\n",
        "plt.axhline(mean_exited,color='r',linestyle='-')\n",
        "sns.regplot(x='Gender',y='Exited',data=data1)"
      ]
    },
    {
      "cell_type": "code",
      "execution_count": null,
      "metadata": {
        "id": "XVkRKgWLuEfi"
      },
      "outputs": [],
      "source": [
        "data1=data1.drop(['Exited'], axis=1)\n",
        "\n",
        "data1=data1.drop(['Age'], axis=1)\n",
        "\n",
        "data1=data1.drop(['Balance'], axis=1)"
      ]
    },
    {
      "cell_type": "code",
      "execution_count": null,
      "metadata": {
        "id": "-aD2uK7zuEfj"
      },
      "outputs": [],
      "source": [
        "data1"
      ]
    },
    {
      "cell_type": "code",
      "execution_count": null,
      "metadata": {
        "id": "GV9X7WaFuEfj"
      },
      "outputs": [],
      "source": [
        "data1=data1.drop(['EstimatedSalary'], axis=1)"
      ]
    },
    {
      "cell_type": "code",
      "execution_count": null,
      "metadata": {
        "id": "VifeCPq1uEfj"
      },
      "outputs": [],
      "source": [
        "data1"
      ]
    },
    {
      "cell_type": "markdown",
      "metadata": {
        "id": "F57-4aSjuEfk"
      },
      "source": [
        "Train and Split"
      ]
    },
    {
      "cell_type": "code",
      "execution_count": null,
      "metadata": {
        "id": "5OJsnkQhuEfk"
      },
      "outputs": [],
      "source": [
        "from sklearn import preprocessing\n",
        "minmax =preprocessing.MinMaxScaler(feature_range=(0,1))\n",
        "z = minmax.fit(data1).transform(data1)\n",
        "df2 = pd.DataFrame(z)\n",
        "df2"
      ]
    },
    {
      "cell_type": "code",
      "execution_count": null,
      "metadata": {
        "id": "DMGDMNjCuEfl"
      },
      "outputs": [],
      "source": [
        "data1"
      ]
    },
    {
      "cell_type": "code",
      "execution_count": null,
      "metadata": {
        "id": "jtQxDgbiuEfl"
      },
      "outputs": [],
      "source": [
        "df2 = df2.rename(columns={0:'CreditScore' , 1:'Gender', 2:'Tenure', 3:'NumOfProducts', 4:'HasCrCard', 5:'IsActiveMember', 6:'balancehash', 7:'estimatedhash', 8:'agehash',9:'exihash'})"
      ]
    },
    {
      "cell_type": "code",
      "execution_count": null,
      "metadata": {
        "id": "AWa7ypF0uEfm"
      },
      "outputs": [],
      "source": [
        "df2"
      ]
    },
    {
      "cell_type": "code",
      "execution_count": null,
      "metadata": {
        "id": "BpAhHFoyGqE7"
      },
      "outputs": [],
      "source": [
        "train=df2.groupby('exihash', group_keys=False).apply(lambda x: x.sample(frac=0.8))\n",
        "test=df2[~df2.isin(train)].dropna()"
      ]
    },
    {
      "cell_type": "code",
      "execution_count": null,
      "metadata": {
        "id": "rfBjG0FDGr_D"
      },
      "outputs": [],
      "source": [
        "y_train= train[['exihash']]\n",
        "y_test= test[['exihash']]\n",
        "x_train=train[['CreditScore','Gender','Tenure','NumOfProducts','HasCrCard','IsActiveMember','balancehash','estimatedhash','agehash']]\n",
        "x_test=test[['CreditScore','Gender','Tenure','NumOfProducts','HasCrCard','IsActiveMember','balancehash','estimatedhash','agehash']]"
      ]
    },
    {
      "cell_type": "code",
      "execution_count": null,
      "metadata": {
        "id": "ezAbmLloGtYX"
      },
      "outputs": [],
      "source": [
        "y_train['exihash'].value_counts()\n"
      ]
    },
    {
      "cell_type": "code",
      "execution_count": null,
      "metadata": {
        "id": "PqZEpJYhGuqZ"
      },
      "outputs": [],
      "source": [
        "y_test['exihash'].value_counts()\n"
      ]
    },
    {
      "cell_type": "code",
      "execution_count": null,
      "metadata": {
        "id": "_69kbQipuEfn"
      },
      "outputs": [],
      "source": [
        "import pandas as pd\n",
        "import hashlib\n",
        "import random\n",
        "import string\n",
        "d1 = data1[['CreditScore','Gender','Tenure']].dropna()\n",
        "display(d1.head())"
      ]
    },
    {
      "cell_type": "code",
      "execution_count": null,
      "metadata": {
        "id": "SyydWseDuEfo"
      },
      "outputs": [],
      "source": [
        "d2 = d1.copy()\n"
      ]
    },
    {
      "cell_type": "code",
      "execution_count": null,
      "metadata": {
        "id": "eyJ5Pl8cuEfp"
      },
      "outputs": [],
      "source": [
        "import matplotlib.pyplot as plt\n",
        "%matplotlib inline"
      ]
    },
    {
      "cell_type": "code",
      "execution_count": null,
      "metadata": {
        "id": "kKzdcBoDuEfq"
      },
      "outputs": [],
      "source": [
        "x_train.head()"
      ]
    },
    {
      "cell_type": "code",
      "execution_count": null,
      "metadata": {
        "id": "4X8UUmT5uEfq"
      },
      "outputs": [],
      "source": [
        "y_train=y_train.astype('int')"
      ]
    },
    {
      "cell_type": "code",
      "execution_count": null,
      "metadata": {
        "id": "bO8sQnXeuEfq"
      },
      "outputs": [],
      "source": [
        "pd.set_option('display.max_columns', None)\n",
        "pd.set_option('display.max_rows', None)"
      ]
    },
    {
      "cell_type": "code",
      "execution_count": null,
      "metadata": {
        "id": "GJkcHNhTuEfr",
        "scrolled": true
      },
      "outputs": [],
      "source": [
        "y_train.head()"
      ]
    },
    {
      "cell_type": "code",
      "execution_count": null,
      "metadata": {
        "id": "F-RLgDgyuEfr"
      },
      "outputs": [],
      "source": [
        "y_test=y_test.astype('int')"
      ]
    },
    {
      "cell_type": "code",
      "execution_count": null,
      "metadata": {
        "id": "Ny-Fwkl5uEfr"
      },
      "outputs": [],
      "source": [
        "y_test.head()"
      ]
    },
    {
      "cell_type": "markdown",
      "metadata": {
        "id": "CscM8WXEuEfs"
      },
      "source": [
        "KNN Algorithm"
      ]
    },
    {
      "cell_type": "markdown",
      "metadata": {
        "id": "i91_PUFXuEfs"
      },
      "source": [
        "Fitting classifer to the training set"
      ]
    },
    {
      "cell_type": "code",
      "execution_count": null,
      "metadata": {
        "id": "9UUjp2fYIDTS"
      },
      "outputs": [],
      "source": [
        "from sklearn import neighbors"
      ]
    },
    {
      "cell_type": "code",
      "execution_count": null,
      "metadata": {
        "id": "wt6Z1WSjuEfs"
      },
      "outputs": [],
      "source": [
        "clf=neighbors.KNeighborsClassifier()\n",
        "clf.fit(x_train,y_train.values.ravel())"
      ]
    },
    {
      "cell_type": "markdown",
      "metadata": {
        "id": "_C0GnG5MuEft"
      },
      "source": [
        "predict on test data"
      ]
    },
    {
      "cell_type": "code",
      "execution_count": null,
      "metadata": {
        "id": "OfUZM3PYuEft"
      },
      "outputs": [],
      "source": [
        "x_test.head()"
      ]
    },
    {
      "cell_type": "code",
      "execution_count": null,
      "metadata": {
        "id": "9VWYHUV7uEfu"
      },
      "outputs": [],
      "source": [
        "y_pred=clf.predict(x_test)"
      ]
    },
    {
      "cell_type": "code",
      "execution_count": null,
      "metadata": {
        "id": "mUYjo_OauEfu"
      },
      "outputs": [],
      "source": [
        "y_pred"
      ]
    },
    {
      "cell_type": "code",
      "execution_count": null,
      "metadata": {
        "id": "UAg4B8KOuEfu"
      },
      "outputs": [],
      "source": [
        "from sklearn.metrics import accuracy_score,recall_score,roc_auc_score,confusion_matrix"
      ]
    },
    {
      "cell_type": "code",
      "execution_count": null,
      "metadata": {
        "id": "FCTAAEoyuEfv"
      },
      "outputs": [],
      "source": [
        "print(\"\\n accuracy score:%f \"%(accuracy_score(y_test,y_pred)*100))\n",
        "print(\"\\n recall score:%f\"%(recall_score(y_test,y_pred)*100))\n",
        "print(\"\\n roc score :%f\"%(roc_auc_score(y_test,y_pred)*100))\n",
        "print(confusion_matrix(y_test,y_pred))\n",
        "accuracy_knn = accuracy_score(y_test,y_pred)*100"
      ]
    },
    {
      "cell_type": "code",
      "execution_count": null,
      "metadata": {
        "id": "96mjhrqXRqqP"
      },
      "outputs": [],
      "source": [
        "from sklearn.metrics import classification_report\n",
        "knn_report = classification_report(y_test, y_pred)\n",
        "print('Classification Report:\\n', knn_report)"
      ]
    },
    {
      "cell_type": "code",
      "execution_count": null,
      "metadata": {
        "id": "76C-EXypuEfv"
      },
      "outputs": [],
      "source": [
        "probas=clf.predict_proba(x_test)"
      ]
    },
    {
      "cell_type": "code",
      "execution_count": null,
      "metadata": {
        "id": "Ay1tMf8fuEfv"
      },
      "outputs": [],
      "source": [
        "probas"
      ]
    },
    {
      "cell_type": "code",
      "execution_count": null,
      "metadata": {
        "id": "GMI-i9KFuEfw"
      },
      "outputs": [],
      "source": [
        "import matplotlib.pyplot as plt\n",
        "plt.figure(dpi=150)\n",
        "plt.hist(probas,bins=20)\n",
        "plt.title('Classification Probabilities')\n",
        "plt.xlabel('Probability')\n",
        "plt.ylabel('# of instances')\n",
        "plt.xlim([0.5,1.0])\n",
        "plt.legend(y_test)\n",
        "plt.show()"
      ]
    },
    {
      "cell_type": "code",
      "execution_count": null,
      "metadata": {
        "id": "rlp_8iAbuEfw"
      },
      "outputs": [],
      "source": [
        "x_train_std=minmax.fit_transform(x_train)\n",
        "x_test_std=minmax.transform(x_test)"
      ]
    },
    {
      "cell_type": "code",
      "execution_count": null,
      "metadata": {
        "id": "gwY8DlPguEfx"
      },
      "outputs": [],
      "source": [
        "import numpy\n",
        "from sklearn.model_selection import cross_val_score,cross_val_predict\n",
        "clf_acc=cross_val_score(clf,x_train_std,y_train,cv=3,scoring=\"accuracy\",n_jobs=-1)\n",
        "clf_proba=cross_val_predict(clf,x_train_std,numpy.ravel(y_train,order = 'C'),cv=3,method='predict_proba')\n",
        "clf_score=clf_proba[:,1]\n",
        "clf_score"
      ]
    },
    {
      "cell_type": "code",
      "execution_count": null,
      "metadata": {
        "id": "OslRhY-AuEfx"
      },
      "outputs": [],
      "source": [
        "clf_acc"
      ]
    },
    {
      "cell_type": "markdown",
      "metadata": {
        "id": "OWJJ-7w7uEfy"
      },
      "source": [
        "Logistic Regression Model"
      ]
    },
    {
      "cell_type": "code",
      "execution_count": null,
      "metadata": {
        "id": "X_WhJgbwuEfy"
      },
      "outputs": [],
      "source": [
        "from sklearn.linear_model import LogisticRegression\n",
        "lr=LogisticRegression()\n",
        "lr.fit(x_train,y_train.values.ravel())\n",
        "lr.acc=cross_val_score(lr,x_train_std,numpy.ravel(y_train,order = 'C'),cv=3,scoring='accuracy',n_jobs=-1)\n",
        "lr_proba=cross_val_predict(lr,x_train_std,numpy.ravel(y_train,order = 'C'),cv=3,method='predict_proba')"
      ]
    },
    {
      "cell_type": "code",
      "execution_count": null,
      "metadata": {
        "id": "WnVYbuJpuEfy"
      },
      "outputs": [],
      "source": [
        "lr_scores=lr_proba[:,1]"
      ]
    },
    {
      "cell_type": "code",
      "execution_count": null,
      "metadata": {
        "id": "Jfvsvsq9uEfz"
      },
      "outputs": [],
      "source": [
        "lr_scores"
      ]
    },
    {
      "cell_type": "code",
      "execution_count": null,
      "metadata": {
        "id": "OIhMOPhduEfz"
      },
      "outputs": [],
      "source": [
        "lr.acc"
      ]
    },
    {
      "cell_type": "code",
      "execution_count": null,
      "metadata": {
        "id": "9zdOWPTUuEfz"
      },
      "outputs": [],
      "source": [
        "y_pred=lr.predict(x_test)"
      ]
    },
    {
      "cell_type": "code",
      "execution_count": null,
      "metadata": {
        "id": "0YkZEl7duEf0"
      },
      "outputs": [],
      "source": [
        "print(\"accuracy:%f\"%(accuracy_score(y_test,y_pred)*100))\n",
        "print(\"\\n recall score:%f\"%(recall_score(y_test,y_pred)*100))\n",
        "print(\"\\n roc score :%f\"%(roc_auc_score(y_test,y_pred)*100))\n",
        "print(confusion_matrix(y_test,y_pred))\n",
        "accuracy_logreg = accuracy_score(y_test,y_pred)*100"
      ]
    },
    {
      "cell_type": "code",
      "execution_count": null,
      "metadata": {
        "id": "o09QNRByR0JV"
      },
      "outputs": [],
      "source": [
        "from sklearn.metrics import classification_report\n",
        "lr_report = classification_report(y_test, y_pred)\n",
        "print('Classification Report:\\n', lr_report)"
      ]
    },
    {
      "cell_type": "markdown",
      "metadata": {
        "id": "ayQ4PWxPuEf0"
      },
      "source": [
        "Support Vector Machine Classifier"
      ]
    },
    {
      "cell_type": "code",
      "execution_count": null,
      "metadata": {
        "id": "4x-yhzEYHSI3"
      },
      "outputs": [],
      "source": [
        "from sklearn.model_selection import GridSearchCV\n",
        "from sklearn.svm import SVC\n",
        "\n",
        "parameters = {'kernel':('linear', 'poly', 'rbf', 'sigmoid'), 'C':[1, 10]}\n",
        "svc = SVC()\n",
        "clf = GridSearchCV(svc, parameters, verbose=1)\n",
        "clf.fit(x_train, numpy.ravel(y_train,order = 'C'))\n",
        "\n"
      ]
    },
    {
      "cell_type": "code",
      "execution_count": null,
      "metadata": {
        "id": "0LGpQAk5I0vk"
      },
      "outputs": [],
      "source": [
        "print (clf.best_params_)"
      ]
    },
    {
      "cell_type": "code",
      "execution_count": null,
      "metadata": {
        "id": "LmXtMD3euEf1"
      },
      "outputs": [],
      "source": [
        "from sklearn.svm import SVC\n",
        "svc=SVC(**clf.best_params_, probability=True)\n",
        "svc_classifier=svc.fit(x_train,numpy.ravel(y_train,order = 'C'))"
      ]
    },
    {
      "cell_type": "code",
      "execution_count": 103,
      "metadata": {
        "id": "2ZjIR2QRuEf1"
      },
      "outputs": [],
      "source": [
        "svc_acc=cross_val_score(svc_classifier,x_train_std,y_train,cv=3,scoring=\"accuracy\",n_jobs=-1)"
      ]
    },
    {
      "cell_type": "code",
      "execution_count": 104,
      "metadata": {
        "colab": {
          "base_uri": "https://localhost:8080/"
        },
        "id": "eR11EySOuEf1",
        "outputId": "94744904-2b25-438e-ddc6-cc39d826347d"
      },
      "outputs": [
        {
          "data": {
            "text/plain": [
              "array([0.84326959, 0.84626922, 0.84471118])"
            ]
          },
          "execution_count": 104,
          "metadata": {},
          "output_type": "execute_result"
        }
      ],
      "source": [
        "svc_acc"
      ]
    },
    {
      "cell_type": "code",
      "execution_count": 105,
      "metadata": {
        "id": "ZcWdSyIXuEf2"
      },
      "outputs": [],
      "source": [
        "svc_proba=cross_val_predict(svc_classifier,x_train_std,numpy.ravel(y_train,order = 'C'),cv=3,method='predict_proba')\n",
        "svc_scores=svc_proba[:,1]"
      ]
    },
    {
      "cell_type": "code",
      "execution_count": null,
      "metadata": {
        "colab": {
          "base_uri": "https://localhost:8080/"
        },
        "id": "2TTTuK56uEf2",
        "outputId": "32879041-e78c-4f7e-99eb-bc62b2c67c1f"
      },
      "outputs": [
        {
          "data": {
            "text/plain": [
              "array([0.21424011, 0.33670739, 0.14372448, ..., 0.81263498, 0.87965379,\n",
              "       0.10705212])"
            ]
          },
          "execution_count": 106,
          "metadata": {},
          "output_type": "execute_result"
        }
      ],
      "source": [
        "svc_scores"
      ]
    },
    {
      "cell_type": "markdown",
      "metadata": {
        "id": "z6NmRM3KuEf2"
      },
      "source": [
        "predict on test data"
      ]
    },
    {
      "cell_type": "code",
      "execution_count": null,
      "metadata": {
        "id": "oIupkXXHuEf3"
      },
      "outputs": [],
      "source": [
        "y_pred=svc.predict(x_test)"
      ]
    },
    {
      "cell_type": "code",
      "execution_count": null,
      "metadata": {
        "colab": {
          "base_uri": "https://localhost:8080/"
        },
        "id": "WvfS-t2EuEf3",
        "outputId": "2eab4671-7299-4bba-8ae5-12161fdd2fc5"
      },
      "outputs": [
        {
          "data": {
            "text/plain": [
              "array([0, 0, 0, ..., 0, 0, 0])"
            ]
          },
          "execution_count": 108,
          "metadata": {},
          "output_type": "execute_result"
        }
      ],
      "source": [
        "y_pred"
      ]
    },
    {
      "cell_type": "code",
      "execution_count": null,
      "metadata": {
        "id": "Qav6Qh9-uEf3"
      },
      "outputs": [],
      "source": [
        "from sklearn.metrics import accuracy_score,recall_score,roc_auc_score,confusion_matrix"
      ]
    },
    {
      "cell_type": "code",
      "execution_count": null,
      "metadata": {
        "colab": {
          "base_uri": "https://localhost:8080/"
        },
        "id": "Uhz8QBS3uEf4",
        "outputId": "cc616987-6422-48fd-ca1a-971fba6f4877"
      },
      "outputs": [
        {
          "name": "stdout",
          "output_type": "stream",
          "text": [
            "accuracy:85.050000\n",
            "\n",
            " recall score:35.135135\n",
            "\n",
            " roc score :66.469011\n",
            "[[1558   35]\n",
            " [ 264  143]]\n"
          ]
        }
      ],
      "source": [
        "print(\"accuracy:%f\"%(accuracy_score(y_test,y_pred)*100))\n",
        "print(\"\\n recall score:%f\"%(recall_score(y_test,y_pred)*100))\n",
        "print(\"\\n roc score :%f\"%(roc_auc_score(y_test,y_pred)*100))\n",
        "print(confusion_matrix(y_test,y_pred))\n",
        "accuracy_svc = accuracy_score(y_test,y_pred)*100"
      ]
    },
    {
      "cell_type": "code",
      "execution_count": null,
      "metadata": {
        "colab": {
          "base_uri": "https://localhost:8080/"
        },
        "id": "O7e9zvMsuEf4",
        "outputId": "20317780-279c-4974-ccae-af4d69996882"
      },
      "outputs": [
        {
          "data": {
            "text/plain": [
              "array([[1558,   35],\n",
              "       [ 264,  143]])"
            ]
          },
          "execution_count": 111,
          "metadata": {},
          "output_type": "execute_result"
        }
      ],
      "source": [
        "confusion_matrix(y_test,y_pred)"
      ]
    },
    {
      "cell_type": "code",
      "execution_count": null,
      "metadata": {
        "colab": {
          "base_uri": "https://localhost:8080/"
        },
        "id": "bBiEdHdsSGze",
        "outputId": "de1f162f-5277-46d6-840f-100b090100b6"
      },
      "outputs": [
        {
          "name": "stdout",
          "output_type": "stream",
          "text": [
            "Classification Report:\n",
            "               precision    recall  f1-score   support\n",
            "\n",
            "           0       0.86      0.98      0.91      1593\n",
            "           1       0.80      0.35      0.49       407\n",
            "\n",
            "    accuracy                           0.85      2000\n",
            "   macro avg       0.83      0.66      0.70      2000\n",
            "weighted avg       0.84      0.85      0.83      2000\n",
            "\n"
          ]
        }
      ],
      "source": [
        "from sklearn.metrics import classification_report\n",
        "svc_report = classification_report(y_test, y_pred)\n",
        "print('Classification Report:\\n', svc_report)"
      ]
    },
    {
      "cell_type": "markdown",
      "metadata": {
        "id": "FhpVFbhpuEf4"
      },
      "source": [
        "Decision Tree Classifier"
      ]
    },
    {
      "cell_type": "code",
      "execution_count": null,
      "metadata": {
        "id": "54dXeNHENP3j"
      },
      "outputs": [],
      "source": [
        "param_grid = {\n",
        "    'max_features': ['sqrt', 'log2'],\n",
        "    'max_depth' : [4,5,6,7,8],\n",
        "    'criterion' :['gini', 'entropy', 'log_loss'],\n",
        "    'splitter'  :['best', 'random']\n",
        "}\n"
      ]
    },
    {
      "cell_type": "code",
      "execution_count": null,
      "metadata": {
        "colab": {
          "base_uri": "https://localhost:8080/",
          "height": 134
        },
        "id": "sXeWxPKvuEf5",
        "outputId": "9b1d232b-6f29-42e4-fa18-362c818d81ef"
      },
      "outputs": [
        {
          "name": "stdout",
          "output_type": "stream",
          "text": [
            "Fitting 3 folds for each of 60 candidates, totalling 180 fits\n"
          ]
        },
        {
          "data": {
            "text/html": [
              "<style>#sk-container-id-3 {color: black;background-color: white;}#sk-container-id-3 pre{padding: 0;}#sk-container-id-3 div.sk-toggleable {background-color: white;}#sk-container-id-3 label.sk-toggleable__label {cursor: pointer;display: block;width: 100%;margin-bottom: 0;padding: 0.3em;box-sizing: border-box;text-align: center;}#sk-container-id-3 label.sk-toggleable__label-arrow:before {content: \"▸\";float: left;margin-right: 0.25em;color: #696969;}#sk-container-id-3 label.sk-toggleable__label-arrow:hover:before {color: black;}#sk-container-id-3 div.sk-estimator:hover label.sk-toggleable__label-arrow:before {color: black;}#sk-container-id-3 div.sk-toggleable__content {max-height: 0;max-width: 0;overflow: hidden;text-align: left;background-color: #f0f8ff;}#sk-container-id-3 div.sk-toggleable__content pre {margin: 0.2em;color: black;border-radius: 0.25em;background-color: #f0f8ff;}#sk-container-id-3 input.sk-toggleable__control:checked~div.sk-toggleable__content {max-height: 200px;max-width: 100%;overflow: auto;}#sk-container-id-3 input.sk-toggleable__control:checked~label.sk-toggleable__label-arrow:before {content: \"▾\";}#sk-container-id-3 div.sk-estimator input.sk-toggleable__control:checked~label.sk-toggleable__label {background-color: #d4ebff;}#sk-container-id-3 div.sk-label input.sk-toggleable__control:checked~label.sk-toggleable__label {background-color: #d4ebff;}#sk-container-id-3 input.sk-hidden--visually {border: 0;clip: rect(1px 1px 1px 1px);clip: rect(1px, 1px, 1px, 1px);height: 1px;margin: -1px;overflow: hidden;padding: 0;position: absolute;width: 1px;}#sk-container-id-3 div.sk-estimator {font-family: monospace;background-color: #f0f8ff;border: 1px dotted black;border-radius: 0.25em;box-sizing: border-box;margin-bottom: 0.5em;}#sk-container-id-3 div.sk-estimator:hover {background-color: #d4ebff;}#sk-container-id-3 div.sk-parallel-item::after {content: \"\";width: 100%;border-bottom: 1px solid gray;flex-grow: 1;}#sk-container-id-3 div.sk-label:hover label.sk-toggleable__label {background-color: #d4ebff;}#sk-container-id-3 div.sk-serial::before {content: \"\";position: absolute;border-left: 1px solid gray;box-sizing: border-box;top: 0;bottom: 0;left: 50%;z-index: 0;}#sk-container-id-3 div.sk-serial {display: flex;flex-direction: column;align-items: center;background-color: white;padding-right: 0.2em;padding-left: 0.2em;position: relative;}#sk-container-id-3 div.sk-item {position: relative;z-index: 1;}#sk-container-id-3 div.sk-parallel {display: flex;align-items: stretch;justify-content: center;background-color: white;position: relative;}#sk-container-id-3 div.sk-item::before, #sk-container-id-3 div.sk-parallel-item::before {content: \"\";position: absolute;border-left: 1px solid gray;box-sizing: border-box;top: 0;bottom: 0;left: 50%;z-index: -1;}#sk-container-id-3 div.sk-parallel-item {display: flex;flex-direction: column;z-index: 1;position: relative;background-color: white;}#sk-container-id-3 div.sk-parallel-item:first-child::after {align-self: flex-end;width: 50%;}#sk-container-id-3 div.sk-parallel-item:last-child::after {align-self: flex-start;width: 50%;}#sk-container-id-3 div.sk-parallel-item:only-child::after {width: 0;}#sk-container-id-3 div.sk-dashed-wrapped {border: 1px dashed gray;margin: 0 0.4em 0.5em 0.4em;box-sizing: border-box;padding-bottom: 0.4em;background-color: white;}#sk-container-id-3 div.sk-label label {font-family: monospace;font-weight: bold;display: inline-block;line-height: 1.2em;}#sk-container-id-3 div.sk-label-container {text-align: center;}#sk-container-id-3 div.sk-container {/* jupyter's `normalize.less` sets `[hidden] { display: none; }` but bootstrap.min.css set `[hidden] { display: none !important; }` so we also need the `!important` here to be able to override the default hidden behavior on the sphinx rendered scikit-learn.org. See: https://github.com/scikit-learn/scikit-learn/issues/21755 */display: inline-block !important;position: relative;}#sk-container-id-3 div.sk-text-repr-fallback {display: none;}</style><div id=\"sk-container-id-3\" class=\"sk-top-container\"><div class=\"sk-text-repr-fallback\"><pre>GridSearchCV(cv=3, estimator=DecisionTreeClassifier(),\n",
              "             param_grid={&#x27;criterion&#x27;: [&#x27;gini&#x27;, &#x27;entropy&#x27;, &#x27;log_loss&#x27;],\n",
              "                         &#x27;max_depth&#x27;: [4, 5, 6, 7, 8],\n",
              "                         &#x27;max_features&#x27;: [&#x27;sqrt&#x27;, &#x27;log2&#x27;],\n",
              "                         &#x27;splitter&#x27;: [&#x27;best&#x27;, &#x27;random&#x27;]},\n",
              "             verbose=1)</pre><b>In a Jupyter environment, please rerun this cell to show the HTML representation or trust the notebook. <br />On GitHub, the HTML representation is unable to render, please try loading this page with nbviewer.org.</b></div><div class=\"sk-container\" hidden><div class=\"sk-item sk-dashed-wrapped\"><div class=\"sk-label-container\"><div class=\"sk-label sk-toggleable\"><input class=\"sk-toggleable__control sk-hidden--visually\" id=\"sk-estimator-id-5\" type=\"checkbox\" ><label for=\"sk-estimator-id-5\" class=\"sk-toggleable__label sk-toggleable__label-arrow\">GridSearchCV</label><div class=\"sk-toggleable__content\"><pre>GridSearchCV(cv=3, estimator=DecisionTreeClassifier(),\n",
              "             param_grid={&#x27;criterion&#x27;: [&#x27;gini&#x27;, &#x27;entropy&#x27;, &#x27;log_loss&#x27;],\n",
              "                         &#x27;max_depth&#x27;: [4, 5, 6, 7, 8],\n",
              "                         &#x27;max_features&#x27;: [&#x27;sqrt&#x27;, &#x27;log2&#x27;],\n",
              "                         &#x27;splitter&#x27;: [&#x27;best&#x27;, &#x27;random&#x27;]},\n",
              "             verbose=1)</pre></div></div></div><div class=\"sk-parallel\"><div class=\"sk-parallel-item\"><div class=\"sk-item\"><div class=\"sk-label-container\"><div class=\"sk-label sk-toggleable\"><input class=\"sk-toggleable__control sk-hidden--visually\" id=\"sk-estimator-id-6\" type=\"checkbox\" ><label for=\"sk-estimator-id-6\" class=\"sk-toggleable__label sk-toggleable__label-arrow\">estimator: DecisionTreeClassifier</label><div class=\"sk-toggleable__content\"><pre>DecisionTreeClassifier()</pre></div></div></div><div class=\"sk-serial\"><div class=\"sk-item\"><div class=\"sk-estimator sk-toggleable\"><input class=\"sk-toggleable__control sk-hidden--visually\" id=\"sk-estimator-id-7\" type=\"checkbox\" ><label for=\"sk-estimator-id-7\" class=\"sk-toggleable__label sk-toggleable__label-arrow\">DecisionTreeClassifier</label><div class=\"sk-toggleable__content\"><pre>DecisionTreeClassifier()</pre></div></div></div></div></div></div></div></div></div></div>"
            ],
            "text/plain": [
              "GridSearchCV(cv=3, estimator=DecisionTreeClassifier(),\n",
              "             param_grid={'criterion': ['gini', 'entropy', 'log_loss'],\n",
              "                         'max_depth': [4, 5, 6, 7, 8],\n",
              "                         'max_features': ['sqrt', 'log2'],\n",
              "                         'splitter': ['best', 'random']},\n",
              "             verbose=1)"
            ]
          },
          "execution_count": 114,
          "metadata": {},
          "output_type": "execute_result"
        }
      ],
      "source": [
        "from sklearn.tree import DecisionTreeClassifier\n",
        "dtc_clf=DecisionTreeClassifier()\n",
        "\n",
        "CV_dtc_clf=GridSearchCV(estimator=DecisionTreeClassifier(), param_grid=param_grid, cv= 3, verbose=1)\n",
        "\n",
        "CV_dtc_clf.fit(x_train,y_train)"
      ]
    },
    {
      "cell_type": "code",
      "execution_count": null,
      "metadata": {
        "colab": {
          "base_uri": "https://localhost:8080/"
        },
        "id": "aZBp1mywOujl",
        "outputId": "8ab11c19-bb0c-4753-ba5a-0d0248428d46"
      },
      "outputs": [
        {
          "data": {
            "text/plain": [
              "{'criterion': 'gini',\n",
              " 'max_depth': 6,\n",
              " 'max_features': 'log2',\n",
              " 'splitter': 'best'}"
            ]
          },
          "execution_count": 115,
          "metadata": {},
          "output_type": "execute_result"
        }
      ],
      "source": [
        "CV_dtc_clf.best_params_"
      ]
    },
    {
      "cell_type": "code",
      "execution_count": null,
      "metadata": {
        "id": "BesuApSXO7fn"
      },
      "outputs": [],
      "source": [
        "dtc_clf=DecisionTreeClassifier(criterion= 'log_loss',\n",
        "                               max_depth=6,\n",
        "                               max_features= 'sqrt',\n",
        "                               splitter= 'best')\n"
      ]
    },
    {
      "cell_type": "code",
      "execution_count": null,
      "metadata": {
        "colab": {
          "base_uri": "https://localhost:8080/",
          "height": 74
        },
        "id": "RJHsecrJPTlB",
        "outputId": "03757a2a-f726-4398-e4df-a987575774b7"
      },
      "outputs": [
        {
          "data": {
            "text/html": [
              "<style>#sk-container-id-4 {color: black;background-color: white;}#sk-container-id-4 pre{padding: 0;}#sk-container-id-4 div.sk-toggleable {background-color: white;}#sk-container-id-4 label.sk-toggleable__label {cursor: pointer;display: block;width: 100%;margin-bottom: 0;padding: 0.3em;box-sizing: border-box;text-align: center;}#sk-container-id-4 label.sk-toggleable__label-arrow:before {content: \"▸\";float: left;margin-right: 0.25em;color: #696969;}#sk-container-id-4 label.sk-toggleable__label-arrow:hover:before {color: black;}#sk-container-id-4 div.sk-estimator:hover label.sk-toggleable__label-arrow:before {color: black;}#sk-container-id-4 div.sk-toggleable__content {max-height: 0;max-width: 0;overflow: hidden;text-align: left;background-color: #f0f8ff;}#sk-container-id-4 div.sk-toggleable__content pre {margin: 0.2em;color: black;border-radius: 0.25em;background-color: #f0f8ff;}#sk-container-id-4 input.sk-toggleable__control:checked~div.sk-toggleable__content {max-height: 200px;max-width: 100%;overflow: auto;}#sk-container-id-4 input.sk-toggleable__control:checked~label.sk-toggleable__label-arrow:before {content: \"▾\";}#sk-container-id-4 div.sk-estimator input.sk-toggleable__control:checked~label.sk-toggleable__label {background-color: #d4ebff;}#sk-container-id-4 div.sk-label input.sk-toggleable__control:checked~label.sk-toggleable__label {background-color: #d4ebff;}#sk-container-id-4 input.sk-hidden--visually {border: 0;clip: rect(1px 1px 1px 1px);clip: rect(1px, 1px, 1px, 1px);height: 1px;margin: -1px;overflow: hidden;padding: 0;position: absolute;width: 1px;}#sk-container-id-4 div.sk-estimator {font-family: monospace;background-color: #f0f8ff;border: 1px dotted black;border-radius: 0.25em;box-sizing: border-box;margin-bottom: 0.5em;}#sk-container-id-4 div.sk-estimator:hover {background-color: #d4ebff;}#sk-container-id-4 div.sk-parallel-item::after {content: \"\";width: 100%;border-bottom: 1px solid gray;flex-grow: 1;}#sk-container-id-4 div.sk-label:hover label.sk-toggleable__label {background-color: #d4ebff;}#sk-container-id-4 div.sk-serial::before {content: \"\";position: absolute;border-left: 1px solid gray;box-sizing: border-box;top: 0;bottom: 0;left: 50%;z-index: 0;}#sk-container-id-4 div.sk-serial {display: flex;flex-direction: column;align-items: center;background-color: white;padding-right: 0.2em;padding-left: 0.2em;position: relative;}#sk-container-id-4 div.sk-item {position: relative;z-index: 1;}#sk-container-id-4 div.sk-parallel {display: flex;align-items: stretch;justify-content: center;background-color: white;position: relative;}#sk-container-id-4 div.sk-item::before, #sk-container-id-4 div.sk-parallel-item::before {content: \"\";position: absolute;border-left: 1px solid gray;box-sizing: border-box;top: 0;bottom: 0;left: 50%;z-index: -1;}#sk-container-id-4 div.sk-parallel-item {display: flex;flex-direction: column;z-index: 1;position: relative;background-color: white;}#sk-container-id-4 div.sk-parallel-item:first-child::after {align-self: flex-end;width: 50%;}#sk-container-id-4 div.sk-parallel-item:last-child::after {align-self: flex-start;width: 50%;}#sk-container-id-4 div.sk-parallel-item:only-child::after {width: 0;}#sk-container-id-4 div.sk-dashed-wrapped {border: 1px dashed gray;margin: 0 0.4em 0.5em 0.4em;box-sizing: border-box;padding-bottom: 0.4em;background-color: white;}#sk-container-id-4 div.sk-label label {font-family: monospace;font-weight: bold;display: inline-block;line-height: 1.2em;}#sk-container-id-4 div.sk-label-container {text-align: center;}#sk-container-id-4 div.sk-container {/* jupyter's `normalize.less` sets `[hidden] { display: none; }` but bootstrap.min.css set `[hidden] { display: none !important; }` so we also need the `!important` here to be able to override the default hidden behavior on the sphinx rendered scikit-learn.org. See: https://github.com/scikit-learn/scikit-learn/issues/21755 */display: inline-block !important;position: relative;}#sk-container-id-4 div.sk-text-repr-fallback {display: none;}</style><div id=\"sk-container-id-4\" class=\"sk-top-container\"><div class=\"sk-text-repr-fallback\"><pre>DecisionTreeClassifier(criterion=&#x27;log_loss&#x27;, max_depth=6, max_features=&#x27;sqrt&#x27;)</pre><b>In a Jupyter environment, please rerun this cell to show the HTML representation or trust the notebook. <br />On GitHub, the HTML representation is unable to render, please try loading this page with nbviewer.org.</b></div><div class=\"sk-container\" hidden><div class=\"sk-item\"><div class=\"sk-estimator sk-toggleable\"><input class=\"sk-toggleable__control sk-hidden--visually\" id=\"sk-estimator-id-8\" type=\"checkbox\" checked><label for=\"sk-estimator-id-8\" class=\"sk-toggleable__label sk-toggleable__label-arrow\">DecisionTreeClassifier</label><div class=\"sk-toggleable__content\"><pre>DecisionTreeClassifier(criterion=&#x27;log_loss&#x27;, max_depth=6, max_features=&#x27;sqrt&#x27;)</pre></div></div></div></div></div>"
            ],
            "text/plain": [
              "DecisionTreeClassifier(criterion='log_loss', max_depth=6, max_features='sqrt')"
            ]
          },
          "execution_count": 117,
          "metadata": {},
          "output_type": "execute_result"
        }
      ],
      "source": [
        "dtc_clf.fit(x_train,y_train)"
      ]
    },
    {
      "cell_type": "code",
      "execution_count": null,
      "metadata": {
        "id": "e39pS1EAuEf5"
      },
      "outputs": [],
      "source": [
        "dtc_clf_acc=cross_val_score(dtc_clf,x_train_std,y_train,cv=3,scoring=\"accuracy\",n_jobs=-1)\n",
        "dtc_proba=cross_val_predict(dtc_clf,x_train_std,numpy.ravel(y_train,order = 'C'),cv=3,method='predict_proba')\n",
        "dtc_clf_scores=dtc_proba[:,1]"
      ]
    },
    {
      "cell_type": "code",
      "execution_count": null,
      "metadata": {
        "id": "2vmwsREluEf5"
      },
      "outputs": [],
      "source": [
        "y_pred=dtc_clf.predict(x_test)"
      ]
    },
    {
      "cell_type": "code",
      "execution_count": null,
      "metadata": {
        "colab": {
          "base_uri": "https://localhost:8080/"
        },
        "id": "vSiPZ01KuEf6",
        "outputId": "288eabf2-d5ce-46ef-e9b7-e6f6a92b1f12"
      },
      "outputs": [
        {
          "data": {
            "text/plain": [
              "array([0, 0, 0, ..., 0, 0, 0])"
            ]
          },
          "execution_count": 120,
          "metadata": {},
          "output_type": "execute_result"
        }
      ],
      "source": [
        "y_pred"
      ]
    },
    {
      "cell_type": "code",
      "execution_count": null,
      "metadata": {
        "colab": {
          "base_uri": "https://localhost:8080/"
        },
        "id": "ea5O0BakuEf6",
        "outputId": "777173f4-866d-4cff-804c-b00dcf179746"
      },
      "outputs": [
        {
          "data": {
            "text/plain": [
              "array([0.84326959, 0.84289464, 0.83045761])"
            ]
          },
          "execution_count": 121,
          "metadata": {},
          "output_type": "execute_result"
        }
      ],
      "source": [
        "dtc_clf_acc"
      ]
    },
    {
      "cell_type": "code",
      "execution_count": null,
      "metadata": {
        "colab": {
          "base_uri": "https://localhost:8080/"
        },
        "id": "Fh3kCEw-uEf7",
        "outputId": "cbde4d9a-ccc5-4ed5-ea46-5b8aa9ef07f2"
      },
      "outputs": [
        {
          "name": "stdout",
          "output_type": "stream",
          "text": [
            "accuracy:84.700000\n",
            "\n",
            " recall score:39.557740\n",
            "\n",
            " roc score :67.895631\n",
            "[[1533   60]\n",
            " [ 246  161]]\n"
          ]
        }
      ],
      "source": [
        "print(\"accuracy:%f\"%(accuracy_score(y_test,y_pred)*100))\n",
        "print(\"\\n recall score:%f\"%(recall_score(y_test,y_pred)*100))\n",
        "print(\"\\n roc score :%f\"%(roc_auc_score(y_test,y_pred)*100))\n",
        "print(confusion_matrix(y_test,y_pred))\n",
        "accuracy_dct = accuracy_score(y_test,y_pred)*100"
      ]
    },
    {
      "cell_type": "code",
      "execution_count": null,
      "metadata": {
        "colab": {
          "base_uri": "https://localhost:8080/"
        },
        "id": "WTCo3EwFuEf7",
        "outputId": "31740d98-c111-45c4-f5f2-e6ee60127cd6"
      },
      "outputs": [
        {
          "data": {
            "text/plain": [
              "array([[1533,   60],\n",
              "       [ 246,  161]])"
            ]
          },
          "execution_count": 123,
          "metadata": {},
          "output_type": "execute_result"
        }
      ],
      "source": [
        "confusion_matrix(y_test,y_pred)"
      ]
    },
    {
      "cell_type": "code",
      "execution_count": null,
      "metadata": {
        "colab": {
          "base_uri": "https://localhost:8080/"
        },
        "id": "t45woJSFSeB6",
        "outputId": "a1228327-b766-4f97-a62a-277412a1cedc"
      },
      "outputs": [
        {
          "name": "stdout",
          "output_type": "stream",
          "text": [
            "Classification Report:\n",
            "               precision    recall  f1-score   support\n",
            "\n",
            "           0       0.86      0.96      0.91      1593\n",
            "           1       0.73      0.40      0.51       407\n",
            "\n",
            "    accuracy                           0.85      2000\n",
            "   macro avg       0.80      0.68      0.71      2000\n",
            "weighted avg       0.83      0.85      0.83      2000\n",
            "\n"
          ]
        }
      ],
      "source": [
        "from sklearn.metrics import classification_report\n",
        "dtc_report = classification_report(y_test, y_pred)\n",
        "print('Classification Report:\\n', dtc_report)"
      ]
    },
    {
      "cell_type": "markdown",
      "metadata": {
        "id": "314VC4QeFgLY"
      },
      "source": [
        "Gradient Boosting Classifier"
      ]
    },
    {
      "cell_type": "code",
      "execution_count": null,
      "metadata": {
        "id": "nz5YGYs-PxUw"
      },
      "outputs": [],
      "source": [
        "param_grid = {\n",
        "    'loss': ['log_loss', 'exponential'],\n",
        "    'n_estimators' : [50,60,70,80,90,100,110],\n",
        "    'criterion' :['friedman_mse', 'squared_error'],\n",
        "    'max_depth'  :[3,4,5,6]\n",
        "}\n",
        "\n"
      ]
    },
    {
      "cell_type": "code",
      "execution_count": null,
      "metadata": {
        "colab": {
          "base_uri": "https://localhost:8080/",
          "height": 1000
        },
        "id": "huphfYznFe9w",
        "outputId": "777d86e4-d939-4184-c03c-a994b6d26339"
      },
      "outputs": [
        {
          "name": "stdout",
          "output_type": "stream",
          "text": [
            "Fitting 3 folds for each of 112 candidates, totalling 336 fits\n",
            "[CV] END criterion=friedman_mse, loss=log_loss, max_depth=3, n_estimators=50; total time=   0.4s\n",
            "[CV] END criterion=friedman_mse, loss=log_loss, max_depth=3, n_estimators=50; total time=   0.3s\n",
            "[CV] END criterion=friedman_mse, loss=log_loss, max_depth=3, n_estimators=50; total time=   0.3s\n",
            "[CV] END criterion=friedman_mse, loss=log_loss, max_depth=3, n_estimators=60; total time=   0.4s\n",
            "[CV] END criterion=friedman_mse, loss=log_loss, max_depth=3, n_estimators=60; total time=   0.4s\n",
            "[CV] END criterion=friedman_mse, loss=log_loss, max_depth=3, n_estimators=60; total time=   0.5s\n",
            "[CV] END criterion=friedman_mse, loss=log_loss, max_depth=3, n_estimators=70; total time=   0.7s\n",
            "[CV] END criterion=friedman_mse, loss=log_loss, max_depth=3, n_estimators=70; total time=   0.7s\n",
            "[CV] END criterion=friedman_mse, loss=log_loss, max_depth=3, n_estimators=70; total time=   0.7s\n",
            "[CV] END criterion=friedman_mse, loss=log_loss, max_depth=3, n_estimators=80; total time=   0.8s\n",
            "[CV] END criterion=friedman_mse, loss=log_loss, max_depth=3, n_estimators=80; total time=   0.8s\n",
            "[CV] END criterion=friedman_mse, loss=log_loss, max_depth=3, n_estimators=80; total time=   0.8s\n",
            "[CV] END criterion=friedman_mse, loss=log_loss, max_depth=3, n_estimators=90; total time=   0.8s\n",
            "[CV] END criterion=friedman_mse, loss=log_loss, max_depth=3, n_estimators=90; total time=   0.6s\n",
            "[CV] END criterion=friedman_mse, loss=log_loss, max_depth=3, n_estimators=90; total time=   0.6s\n",
            "[CV] END criterion=friedman_mse, loss=log_loss, max_depth=3, n_estimators=100; total time=   0.7s\n",
            "[CV] END criterion=friedman_mse, loss=log_loss, max_depth=3, n_estimators=100; total time=   0.7s\n",
            "[CV] END criterion=friedman_mse, loss=log_loss, max_depth=3, n_estimators=100; total time=   0.7s\n",
            "[CV] END criterion=friedman_mse, loss=log_loss, max_depth=3, n_estimators=110; total time=   0.7s\n",
            "[CV] END criterion=friedman_mse, loss=log_loss, max_depth=3, n_estimators=110; total time=   0.8s\n",
            "[CV] END criterion=friedman_mse, loss=log_loss, max_depth=3, n_estimators=110; total time=   0.7s\n",
            "[CV] END criterion=friedman_mse, loss=log_loss, max_depth=4, n_estimators=50; total time=   0.4s\n",
            "[CV] END criterion=friedman_mse, loss=log_loss, max_depth=4, n_estimators=50; total time=   0.4s\n",
            "[CV] END criterion=friedman_mse, loss=log_loss, max_depth=4, n_estimators=50; total time=   0.4s\n",
            "[CV] END criterion=friedman_mse, loss=log_loss, max_depth=4, n_estimators=60; total time=   0.5s\n",
            "[CV] END criterion=friedman_mse, loss=log_loss, max_depth=4, n_estimators=60; total time=   0.5s\n",
            "[CV] END criterion=friedman_mse, loss=log_loss, max_depth=4, n_estimators=60; total time=   0.5s\n",
            "[CV] END criterion=friedman_mse, loss=log_loss, max_depth=4, n_estimators=70; total time=   0.6s\n",
            "[CV] END criterion=friedman_mse, loss=log_loss, max_depth=4, n_estimators=70; total time=   0.6s\n",
            "[CV] END criterion=friedman_mse, loss=log_loss, max_depth=4, n_estimators=70; total time=   0.6s\n",
            "[CV] END criterion=friedman_mse, loss=log_loss, max_depth=4, n_estimators=80; total time=   1.0s\n",
            "[CV] END criterion=friedman_mse, loss=log_loss, max_depth=4, n_estimators=80; total time=   0.9s\n",
            "[CV] END criterion=friedman_mse, loss=log_loss, max_depth=4, n_estimators=80; total time=   1.0s\n",
            "[CV] END criterion=friedman_mse, loss=log_loss, max_depth=4, n_estimators=90; total time=   1.1s\n",
            "[CV] END criterion=friedman_mse, loss=log_loss, max_depth=4, n_estimators=90; total time=   1.0s\n",
            "[CV] END criterion=friedman_mse, loss=log_loss, max_depth=4, n_estimators=90; total time=   0.8s\n",
            "[CV] END criterion=friedman_mse, loss=log_loss, max_depth=4, n_estimators=100; total time=   0.8s\n",
            "[CV] END criterion=friedman_mse, loss=log_loss, max_depth=4, n_estimators=100; total time=   0.8s\n",
            "[CV] END criterion=friedman_mse, loss=log_loss, max_depth=4, n_estimators=100; total time=   0.9s\n",
            "[CV] END criterion=friedman_mse, loss=log_loss, max_depth=4, n_estimators=110; total time=   1.0s\n",
            "[CV] END criterion=friedman_mse, loss=log_loss, max_depth=4, n_estimators=110; total time=   0.9s\n",
            "[CV] END criterion=friedman_mse, loss=log_loss, max_depth=4, n_estimators=110; total time=   0.9s\n",
            "[CV] END criterion=friedman_mse, loss=log_loss, max_depth=5, n_estimators=50; total time=   0.5s\n",
            "[CV] END criterion=friedman_mse, loss=log_loss, max_depth=5, n_estimators=50; total time=   0.5s\n",
            "[CV] END criterion=friedman_mse, loss=log_loss, max_depth=5, n_estimators=50; total time=   0.6s\n",
            "[CV] END criterion=friedman_mse, loss=log_loss, max_depth=5, n_estimators=60; total time=   0.6s\n",
            "[CV] END criterion=friedman_mse, loss=log_loss, max_depth=5, n_estimators=60; total time=   0.7s\n",
            "[CV] END criterion=friedman_mse, loss=log_loss, max_depth=5, n_estimators=60; total time=   0.7s\n",
            "[CV] END criterion=friedman_mse, loss=log_loss, max_depth=5, n_estimators=70; total time=   1.0s\n",
            "[CV] END criterion=friedman_mse, loss=log_loss, max_depth=5, n_estimators=70; total time=   1.1s\n",
            "[CV] END criterion=friedman_mse, loss=log_loss, max_depth=5, n_estimators=70; total time=   1.1s\n",
            "[CV] END criterion=friedman_mse, loss=log_loss, max_depth=5, n_estimators=80; total time=   1.2s\n",
            "[CV] END criterion=friedman_mse, loss=log_loss, max_depth=5, n_estimators=80; total time=   1.2s\n",
            "[CV] END criterion=friedman_mse, loss=log_loss, max_depth=5, n_estimators=80; total time=   0.9s\n",
            "[CV] END criterion=friedman_mse, loss=log_loss, max_depth=5, n_estimators=90; total time=   1.0s\n",
            "[CV] END criterion=friedman_mse, loss=log_loss, max_depth=5, n_estimators=90; total time=   1.0s\n",
            "[CV] END criterion=friedman_mse, loss=log_loss, max_depth=5, n_estimators=90; total time=   1.0s\n",
            "[CV] END criterion=friedman_mse, loss=log_loss, max_depth=5, n_estimators=100; total time=   1.1s\n",
            "[CV] END criterion=friedman_mse, loss=log_loss, max_depth=5, n_estimators=100; total time=   1.1s\n",
            "[CV] END criterion=friedman_mse, loss=log_loss, max_depth=5, n_estimators=100; total time=   1.1s\n",
            "[CV] END criterion=friedman_mse, loss=log_loss, max_depth=5, n_estimators=110; total time=   1.2s\n",
            "[CV] END criterion=friedman_mse, loss=log_loss, max_depth=5, n_estimators=110; total time=   1.2s\n",
            "[CV] END criterion=friedman_mse, loss=log_loss, max_depth=5, n_estimators=110; total time=   1.4s\n",
            "[CV] END criterion=friedman_mse, loss=log_loss, max_depth=6, n_estimators=50; total time=   0.9s\n",
            "[CV] END criterion=friedman_mse, loss=log_loss, max_depth=6, n_estimators=50; total time=   0.9s\n",
            "[CV] END criterion=friedman_mse, loss=log_loss, max_depth=6, n_estimators=50; total time=   1.0s\n",
            "[CV] END criterion=friedman_mse, loss=log_loss, max_depth=6, n_estimators=60; total time=   1.1s\n",
            "[CV] END criterion=friedman_mse, loss=log_loss, max_depth=6, n_estimators=60; total time=   0.9s\n",
            "[CV] END criterion=friedman_mse, loss=log_loss, max_depth=6, n_estimators=60; total time=   0.8s\n",
            "[CV] END criterion=friedman_mse, loss=log_loss, max_depth=6, n_estimators=70; total time=   0.9s\n",
            "[CV] END criterion=friedman_mse, loss=log_loss, max_depth=6, n_estimators=70; total time=   0.9s\n",
            "[CV] END criterion=friedman_mse, loss=log_loss, max_depth=6, n_estimators=70; total time=   0.9s\n",
            "[CV] END criterion=friedman_mse, loss=log_loss, max_depth=6, n_estimators=80; total time=   1.0s\n",
            "[CV] END criterion=friedman_mse, loss=log_loss, max_depth=6, n_estimators=80; total time=   1.0s\n",
            "[CV] END criterion=friedman_mse, loss=log_loss, max_depth=6, n_estimators=80; total time=   1.1s\n",
            "[CV] END criterion=friedman_mse, loss=log_loss, max_depth=6, n_estimators=90; total time=   1.2s\n",
            "[CV] END criterion=friedman_mse, loss=log_loss, max_depth=6, n_estimators=90; total time=   1.2s\n",
            "[CV] END criterion=friedman_mse, loss=log_loss, max_depth=6, n_estimators=90; total time=   1.5s\n",
            "[CV] END criterion=friedman_mse, loss=log_loss, max_depth=6, n_estimators=100; total time=   2.0s\n",
            "[CV] END criterion=friedman_mse, loss=log_loss, max_depth=6, n_estimators=100; total time=   3.6s\n",
            "[CV] END criterion=friedman_mse, loss=log_loss, max_depth=6, n_estimators=100; total time=   1.8s\n",
            "[CV] END criterion=friedman_mse, loss=log_loss, max_depth=6, n_estimators=110; total time=   1.5s\n",
            "[CV] END criterion=friedman_mse, loss=log_loss, max_depth=6, n_estimators=110; total time=   1.5s\n",
            "[CV] END criterion=friedman_mse, loss=log_loss, max_depth=6, n_estimators=110; total time=   1.5s\n",
            "[CV] END criterion=friedman_mse, loss=exponential, max_depth=3, n_estimators=50; total time=   0.3s\n",
            "[CV] END criterion=friedman_mse, loss=exponential, max_depth=3, n_estimators=50; total time=   0.3s\n",
            "[CV] END criterion=friedman_mse, loss=exponential, max_depth=3, n_estimators=50; total time=   0.4s\n",
            "[CV] END criterion=friedman_mse, loss=exponential, max_depth=3, n_estimators=60; total time=   0.4s\n",
            "[CV] END criterion=friedman_mse, loss=exponential, max_depth=3, n_estimators=60; total time=   0.4s\n",
            "[CV] END criterion=friedman_mse, loss=exponential, max_depth=3, n_estimators=60; total time=   0.4s\n",
            "[CV] END criterion=friedman_mse, loss=exponential, max_depth=3, n_estimators=70; total time=   0.5s\n",
            "[CV] END criterion=friedman_mse, loss=exponential, max_depth=3, n_estimators=70; total time=   0.5s\n",
            "[CV] END criterion=friedman_mse, loss=exponential, max_depth=3, n_estimators=70; total time=   0.7s\n",
            "[CV] END criterion=friedman_mse, loss=exponential, max_depth=3, n_estimators=80; total time=   0.8s\n",
            "[CV] END criterion=friedman_mse, loss=exponential, max_depth=3, n_estimators=80; total time=   0.8s\n",
            "[CV] END criterion=friedman_mse, loss=exponential, max_depth=3, n_estimators=80; total time=   0.8s\n",
            "[CV] END criterion=friedman_mse, loss=exponential, max_depth=3, n_estimators=90; total time=   0.9s\n",
            "[CV] END criterion=friedman_mse, loss=exponential, max_depth=3, n_estimators=90; total time=   0.8s\n",
            "[CV] END criterion=friedman_mse, loss=exponential, max_depth=3, n_estimators=90; total time=   0.8s\n",
            "[CV] END criterion=friedman_mse, loss=exponential, max_depth=3, n_estimators=100; total time=   0.7s\n",
            "[CV] END criterion=friedman_mse, loss=exponential, max_depth=3, n_estimators=100; total time=   0.7s\n",
            "[CV] END criterion=friedman_mse, loss=exponential, max_depth=3, n_estimators=100; total time=   0.7s\n",
            "[CV] END criterion=friedman_mse, loss=exponential, max_depth=3, n_estimators=110; total time=   0.7s\n",
            "[CV] END criterion=friedman_mse, loss=exponential, max_depth=3, n_estimators=110; total time=   0.7s\n",
            "[CV] END criterion=friedman_mse, loss=exponential, max_depth=3, n_estimators=110; total time=   0.7s\n",
            "[CV] END criterion=friedman_mse, loss=exponential, max_depth=4, n_estimators=50; total time=   0.5s\n",
            "[CV] END criterion=friedman_mse, loss=exponential, max_depth=4, n_estimators=50; total time=   0.4s\n",
            "[CV] END criterion=friedman_mse, loss=exponential, max_depth=4, n_estimators=50; total time=   0.5s\n",
            "[CV] END criterion=friedman_mse, loss=exponential, max_depth=4, n_estimators=60; total time=   0.5s\n",
            "[CV] END criterion=friedman_mse, loss=exponential, max_depth=4, n_estimators=60; total time=   0.5s\n",
            "[CV] END criterion=friedman_mse, loss=exponential, max_depth=4, n_estimators=60; total time=   0.5s\n",
            "[CV] END criterion=friedman_mse, loss=exponential, max_depth=4, n_estimators=70; total time=   0.6s\n",
            "[CV] END criterion=friedman_mse, loss=exponential, max_depth=4, n_estimators=70; total time=   0.6s\n",
            "[CV] END criterion=friedman_mse, loss=exponential, max_depth=4, n_estimators=70; total time=   0.6s\n",
            "[CV] END criterion=friedman_mse, loss=exponential, max_depth=4, n_estimators=80; total time=   0.7s\n",
            "[CV] END criterion=friedman_mse, loss=exponential, max_depth=4, n_estimators=80; total time=   0.9s\n",
            "[CV] END criterion=friedman_mse, loss=exponential, max_depth=4, n_estimators=80; total time=   1.1s\n",
            "[CV] END criterion=friedman_mse, loss=exponential, max_depth=4, n_estimators=90; total time=   1.1s\n",
            "[CV] END criterion=friedman_mse, loss=exponential, max_depth=4, n_estimators=90; total time=   1.1s\n",
            "[CV] END criterion=friedman_mse, loss=exponential, max_depth=4, n_estimators=90; total time=   1.1s\n",
            "[CV] END criterion=friedman_mse, loss=exponential, max_depth=4, n_estimators=100; total time=   1.0s\n",
            "[CV] END criterion=friedman_mse, loss=exponential, max_depth=4, n_estimators=100; total time=   0.9s\n",
            "[CV] END criterion=friedman_mse, loss=exponential, max_depth=4, n_estimators=100; total time=   0.8s\n",
            "[CV] END criterion=friedman_mse, loss=exponential, max_depth=4, n_estimators=110; total time=   1.0s\n",
            "[CV] END criterion=friedman_mse, loss=exponential, max_depth=4, n_estimators=110; total time=   1.0s\n",
            "[CV] END criterion=friedman_mse, loss=exponential, max_depth=4, n_estimators=110; total time=   1.0s\n",
            "[CV] END criterion=friedman_mse, loss=exponential, max_depth=5, n_estimators=50; total time=   0.6s\n",
            "[CV] END criterion=friedman_mse, loss=exponential, max_depth=5, n_estimators=50; total time=   0.6s\n",
            "[CV] END criterion=friedman_mse, loss=exponential, max_depth=5, n_estimators=50; total time=   0.6s\n",
            "[CV] END criterion=friedman_mse, loss=exponential, max_depth=5, n_estimators=60; total time=   0.7s\n",
            "[CV] END criterion=friedman_mse, loss=exponential, max_depth=5, n_estimators=60; total time=   0.6s\n",
            "[CV] END criterion=friedman_mse, loss=exponential, max_depth=5, n_estimators=60; total time=   0.7s\n",
            "[CV] END criterion=friedman_mse, loss=exponential, max_depth=5, n_estimators=70; total time=   0.8s\n",
            "[CV] END criterion=friedman_mse, loss=exponential, max_depth=5, n_estimators=70; total time=   1.0s\n",
            "[CV] END criterion=friedman_mse, loss=exponential, max_depth=5, n_estimators=70; total time=   1.1s\n",
            "[CV] END criterion=friedman_mse, loss=exponential, max_depth=5, n_estimators=80; total time=   1.2s\n",
            "[CV] END criterion=friedman_mse, loss=exponential, max_depth=5, n_estimators=80; total time=   1.3s\n",
            "[CV] END criterion=friedman_mse, loss=exponential, max_depth=5, n_estimators=80; total time=   1.2s\n",
            "[CV] END criterion=friedman_mse, loss=exponential, max_depth=5, n_estimators=90; total time=   1.0s\n",
            "[CV] END criterion=friedman_mse, loss=exponential, max_depth=5, n_estimators=90; total time=   1.0s\n",
            "[CV] END criterion=friedman_mse, loss=exponential, max_depth=5, n_estimators=90; total time=   1.0s\n",
            "[CV] END criterion=friedman_mse, loss=exponential, max_depth=5, n_estimators=100; total time=   1.1s\n",
            "[CV] END criterion=friedman_mse, loss=exponential, max_depth=5, n_estimators=100; total time=   1.1s\n",
            "[CV] END criterion=friedman_mse, loss=exponential, max_depth=5, n_estimators=100; total time=   1.1s\n",
            "[CV] END criterion=friedman_mse, loss=exponential, max_depth=5, n_estimators=110; total time=   1.2s\n",
            "[CV] END criterion=friedman_mse, loss=exponential, max_depth=5, n_estimators=110; total time=   1.3s\n",
            "[CV] END criterion=friedman_mse, loss=exponential, max_depth=5, n_estimators=110; total time=   1.3s\n",
            "[CV] END criterion=friedman_mse, loss=exponential, max_depth=6, n_estimators=50; total time=   1.0s\n",
            "[CV] END criterion=friedman_mse, loss=exponential, max_depth=6, n_estimators=50; total time=   1.0s\n",
            "[CV] END criterion=friedman_mse, loss=exponential, max_depth=6, n_estimators=50; total time=   1.0s\n",
            "[CV] END criterion=friedman_mse, loss=exponential, max_depth=6, n_estimators=60; total time=   1.2s\n",
            "[CV] END criterion=friedman_mse, loss=exponential, max_depth=6, n_estimators=60; total time=   1.1s\n",
            "[CV] END criterion=friedman_mse, loss=exponential, max_depth=6, n_estimators=60; total time=   0.8s\n",
            "[CV] END criterion=friedman_mse, loss=exponential, max_depth=6, n_estimators=70; total time=   1.0s\n",
            "[CV] END criterion=friedman_mse, loss=exponential, max_depth=6, n_estimators=70; total time=   1.0s\n",
            "[CV] END criterion=friedman_mse, loss=exponential, max_depth=6, n_estimators=70; total time=   0.9s\n",
            "[CV] END criterion=friedman_mse, loss=exponential, max_depth=6, n_estimators=80; total time=   1.1s\n",
            "[CV] END criterion=friedman_mse, loss=exponential, max_depth=6, n_estimators=80; total time=   1.1s\n",
            "[CV] END criterion=friedman_mse, loss=exponential, max_depth=6, n_estimators=80; total time=   1.1s\n",
            "[CV] END criterion=friedman_mse, loss=exponential, max_depth=6, n_estimators=90; total time=   1.2s\n",
            "[CV] END criterion=friedman_mse, loss=exponential, max_depth=6, n_estimators=90; total time=   1.2s\n",
            "[CV] END criterion=friedman_mse, loss=exponential, max_depth=6, n_estimators=90; total time=   1.6s\n",
            "[CV] END criterion=friedman_mse, loss=exponential, max_depth=6, n_estimators=100; total time=   1.9s\n",
            "[CV] END criterion=friedman_mse, loss=exponential, max_depth=6, n_estimators=100; total time=   2.0s\n",
            "[CV] END criterion=friedman_mse, loss=exponential, max_depth=6, n_estimators=100; total time=   1.3s\n",
            "[CV] END criterion=friedman_mse, loss=exponential, max_depth=6, n_estimators=110; total time=   1.4s\n",
            "[CV] END criterion=friedman_mse, loss=exponential, max_depth=6, n_estimators=110; total time=   1.5s\n",
            "[CV] END criterion=friedman_mse, loss=exponential, max_depth=6, n_estimators=110; total time=   1.5s\n",
            "[CV] END criterion=squared_error, loss=log_loss, max_depth=3, n_estimators=50; total time=   0.3s\n",
            "[CV] END criterion=squared_error, loss=log_loss, max_depth=3, n_estimators=50; total time=   0.3s\n",
            "[CV] END criterion=squared_error, loss=log_loss, max_depth=3, n_estimators=50; total time=   0.3s\n",
            "[CV] END criterion=squared_error, loss=log_loss, max_depth=3, n_estimators=60; total time=   0.4s\n",
            "[CV] END criterion=squared_error, loss=log_loss, max_depth=3, n_estimators=60; total time=   0.4s\n",
            "[CV] END criterion=squared_error, loss=log_loss, max_depth=3, n_estimators=60; total time=   0.4s\n",
            "[CV] END criterion=squared_error, loss=log_loss, max_depth=3, n_estimators=70; total time=   0.5s\n",
            "[CV] END criterion=squared_error, loss=log_loss, max_depth=3, n_estimators=70; total time=   0.5s\n",
            "[CV] END criterion=squared_error, loss=log_loss, max_depth=3, n_estimators=70; total time=   0.5s\n",
            "[CV] END criterion=squared_error, loss=log_loss, max_depth=3, n_estimators=80; total time=   0.5s\n",
            "[CV] END criterion=squared_error, loss=log_loss, max_depth=3, n_estimators=80; total time=   0.8s\n",
            "[CV] END criterion=squared_error, loss=log_loss, max_depth=3, n_estimators=80; total time=   0.8s\n",
            "[CV] END criterion=squared_error, loss=log_loss, max_depth=3, n_estimators=90; total time=   0.9s\n",
            "[CV] END criterion=squared_error, loss=log_loss, max_depth=3, n_estimators=90; total time=   0.9s\n",
            "[CV] END criterion=squared_error, loss=log_loss, max_depth=3, n_estimators=90; total time=   0.9s\n",
            "[CV] END criterion=squared_error, loss=log_loss, max_depth=3, n_estimators=100; total time=   1.0s\n",
            "[CV] END criterion=squared_error, loss=log_loss, max_depth=3, n_estimators=100; total time=   0.8s\n",
            "[CV] END criterion=squared_error, loss=log_loss, max_depth=3, n_estimators=100; total time=   0.7s\n",
            "[CV] END criterion=squared_error, loss=log_loss, max_depth=3, n_estimators=110; total time=   0.8s\n",
            "[CV] END criterion=squared_error, loss=log_loss, max_depth=3, n_estimators=110; total time=   0.8s\n",
            "[CV] END criterion=squared_error, loss=log_loss, max_depth=3, n_estimators=110; total time=   0.7s\n",
            "[CV] END criterion=squared_error, loss=log_loss, max_depth=4, n_estimators=50; total time=   0.4s\n",
            "[CV] END criterion=squared_error, loss=log_loss, max_depth=4, n_estimators=50; total time=   0.5s\n",
            "[CV] END criterion=squared_error, loss=log_loss, max_depth=4, n_estimators=50; total time=   0.5s\n",
            "[CV] END criterion=squared_error, loss=log_loss, max_depth=4, n_estimators=60; total time=   0.5s\n",
            "[CV] END criterion=squared_error, loss=log_loss, max_depth=4, n_estimators=60; total time=   0.5s\n",
            "[CV] END criterion=squared_error, loss=log_loss, max_depth=4, n_estimators=60; total time=   0.5s\n",
            "[CV] END criterion=squared_error, loss=log_loss, max_depth=4, n_estimators=70; total time=   0.6s\n",
            "[CV] END criterion=squared_error, loss=log_loss, max_depth=4, n_estimators=70; total time=   0.6s\n",
            "[CV] END criterion=squared_error, loss=log_loss, max_depth=4, n_estimators=70; total time=   0.6s\n",
            "[CV] END criterion=squared_error, loss=log_loss, max_depth=4, n_estimators=80; total time=   0.7s\n",
            "[CV] END criterion=squared_error, loss=log_loss, max_depth=4, n_estimators=80; total time=   0.7s\n",
            "[CV] END criterion=squared_error, loss=log_loss, max_depth=4, n_estimators=80; total time=   0.8s\n",
            "[CV] END criterion=squared_error, loss=log_loss, max_depth=4, n_estimators=90; total time=   1.1s\n",
            "[CV] END criterion=squared_error, loss=log_loss, max_depth=4, n_estimators=90; total time=   1.1s\n",
            "[CV] END criterion=squared_error, loss=log_loss, max_depth=4, n_estimators=90; total time=   1.1s\n",
            "[CV] END criterion=squared_error, loss=log_loss, max_depth=4, n_estimators=100; total time=   1.2s\n",
            "[CV] END criterion=squared_error, loss=log_loss, max_depth=4, n_estimators=100; total time=   0.9s\n",
            "[CV] END criterion=squared_error, loss=log_loss, max_depth=4, n_estimators=100; total time=   0.9s\n",
            "[CV] END criterion=squared_error, loss=log_loss, max_depth=4, n_estimators=110; total time=   0.9s\n",
            "[CV] END criterion=squared_error, loss=log_loss, max_depth=4, n_estimators=110; total time=   0.9s\n",
            "[CV] END criterion=squared_error, loss=log_loss, max_depth=4, n_estimators=110; total time=   0.9s\n",
            "[CV] END criterion=squared_error, loss=log_loss, max_depth=5, n_estimators=50; total time=   0.5s\n",
            "[CV] END criterion=squared_error, loss=log_loss, max_depth=5, n_estimators=50; total time=   0.5s\n",
            "[CV] END criterion=squared_error, loss=log_loss, max_depth=5, n_estimators=50; total time=   0.5s\n",
            "[CV] END criterion=squared_error, loss=log_loss, max_depth=5, n_estimators=60; total time=   0.6s\n",
            "[CV] END criterion=squared_error, loss=log_loss, max_depth=5, n_estimators=60; total time=   0.6s\n",
            "[CV] END criterion=squared_error, loss=log_loss, max_depth=5, n_estimators=60; total time=   0.7s\n",
            "[CV] END criterion=squared_error, loss=log_loss, max_depth=5, n_estimators=70; total time=   0.7s\n",
            "[CV] END criterion=squared_error, loss=log_loss, max_depth=5, n_estimators=70; total time=   0.7s\n",
            "[CV] END criterion=squared_error, loss=log_loss, max_depth=5, n_estimators=70; total time=   0.8s\n",
            "[CV] END criterion=squared_error, loss=log_loss, max_depth=5, n_estimators=80; total time=   1.2s\n",
            "[CV] END criterion=squared_error, loss=log_loss, max_depth=5, n_estimators=80; total time=   1.2s\n",
            "[CV] END criterion=squared_error, loss=log_loss, max_depth=5, n_estimators=80; total time=   1.2s\n",
            "[CV] END criterion=squared_error, loss=log_loss, max_depth=5, n_estimators=90; total time=   1.4s\n",
            "[CV] END criterion=squared_error, loss=log_loss, max_depth=5, n_estimators=90; total time=   1.0s\n",
            "[CV] END criterion=squared_error, loss=log_loss, max_depth=5, n_estimators=90; total time=   1.0s\n",
            "[CV] END criterion=squared_error, loss=log_loss, max_depth=5, n_estimators=100; total time=   1.1s\n",
            "[CV] END criterion=squared_error, loss=log_loss, max_depth=5, n_estimators=100; total time=   1.1s\n",
            "[CV] END criterion=squared_error, loss=log_loss, max_depth=5, n_estimators=100; total time=   1.1s\n",
            "[CV] END criterion=squared_error, loss=log_loss, max_depth=5, n_estimators=110; total time=   1.2s\n",
            "[CV] END criterion=squared_error, loss=log_loss, max_depth=5, n_estimators=110; total time=   1.2s\n",
            "[CV] END criterion=squared_error, loss=log_loss, max_depth=5, n_estimators=110; total time=   1.2s\n",
            "[CV] END criterion=squared_error, loss=log_loss, max_depth=6, n_estimators=50; total time=   0.7s\n",
            "[CV] END criterion=squared_error, loss=log_loss, max_depth=6, n_estimators=50; total time=   0.9s\n",
            "[CV] END criterion=squared_error, loss=log_loss, max_depth=6, n_estimators=50; total time=   1.0s\n",
            "[CV] END criterion=squared_error, loss=log_loss, max_depth=6, n_estimators=60; total time=   1.1s\n",
            "[CV] END criterion=squared_error, loss=log_loss, max_depth=6, n_estimators=60; total time=   1.2s\n",
            "[CV] END criterion=squared_error, loss=log_loss, max_depth=6, n_estimators=60; total time=   1.2s\n",
            "[CV] END criterion=squared_error, loss=log_loss, max_depth=6, n_estimators=70; total time=   1.0s\n",
            "[CV] END criterion=squared_error, loss=log_loss, max_depth=6, n_estimators=70; total time=   0.9s\n",
            "[CV] END criterion=squared_error, loss=log_loss, max_depth=6, n_estimators=70; total time=   0.9s\n",
            "[CV] END criterion=squared_error, loss=log_loss, max_depth=6, n_estimators=80; total time=   1.1s\n",
            "[CV] END criterion=squared_error, loss=log_loss, max_depth=6, n_estimators=80; total time=   1.0s\n",
            "[CV] END criterion=squared_error, loss=log_loss, max_depth=6, n_estimators=80; total time=   1.0s\n",
            "[CV] END criterion=squared_error, loss=log_loss, max_depth=6, n_estimators=90; total time=   1.2s\n",
            "[CV] END criterion=squared_error, loss=log_loss, max_depth=6, n_estimators=90; total time=   1.2s\n",
            "[CV] END criterion=squared_error, loss=log_loss, max_depth=6, n_estimators=90; total time=   1.2s\n",
            "[CV] END criterion=squared_error, loss=log_loss, max_depth=6, n_estimators=100; total time=   1.7s\n",
            "[CV] END criterion=squared_error, loss=log_loss, max_depth=6, n_estimators=100; total time=   2.0s\n",
            "[CV] END criterion=squared_error, loss=log_loss, max_depth=6, n_estimators=100; total time=   2.0s\n",
            "[CV] END criterion=squared_error, loss=log_loss, max_depth=6, n_estimators=110; total time=   1.6s\n",
            "[CV] END criterion=squared_error, loss=log_loss, max_depth=6, n_estimators=110; total time=   1.5s\n",
            "[CV] END criterion=squared_error, loss=log_loss, max_depth=6, n_estimators=110; total time=   1.4s\n",
            "[CV] END criterion=squared_error, loss=exponential, max_depth=3, n_estimators=50; total time=   0.3s\n",
            "[CV] END criterion=squared_error, loss=exponential, max_depth=3, n_estimators=50; total time=   0.3s\n",
            "[CV] END criterion=squared_error, loss=exponential, max_depth=3, n_estimators=50; total time=   0.3s\n",
            "[CV] END criterion=squared_error, loss=exponential, max_depth=3, n_estimators=60; total time=   0.4s\n",
            "[CV] END criterion=squared_error, loss=exponential, max_depth=3, n_estimators=60; total time=   0.4s\n",
            "[CV] END criterion=squared_error, loss=exponential, max_depth=3, n_estimators=60; total time=   0.4s\n",
            "[CV] END criterion=squared_error, loss=exponential, max_depth=3, n_estimators=70; total time=   0.5s\n",
            "[CV] END criterion=squared_error, loss=exponential, max_depth=3, n_estimators=70; total time=   0.5s\n",
            "[CV] END criterion=squared_error, loss=exponential, max_depth=3, n_estimators=70; total time=   0.5s\n",
            "[CV] END criterion=squared_error, loss=exponential, max_depth=3, n_estimators=80; total time=   0.5s\n",
            "[CV] END criterion=squared_error, loss=exponential, max_depth=3, n_estimators=80; total time=   0.6s\n",
            "[CV] END criterion=squared_error, loss=exponential, max_depth=3, n_estimators=80; total time=   0.6s\n",
            "[CV] END criterion=squared_error, loss=exponential, max_depth=3, n_estimators=90; total time=   0.7s\n",
            "[CV] END criterion=squared_error, loss=exponential, max_depth=3, n_estimators=90; total time=   0.9s\n",
            "[CV] END criterion=squared_error, loss=exponential, max_depth=3, n_estimators=90; total time=   0.9s\n",
            "[CV] END criterion=squared_error, loss=exponential, max_depth=3, n_estimators=100; total time=   1.0s\n",
            "[CV] END criterion=squared_error, loss=exponential, max_depth=3, n_estimators=100; total time=   1.0s\n",
            "[CV] END criterion=squared_error, loss=exponential, max_depth=3, n_estimators=100; total time=   0.9s\n",
            "[CV] END criterion=squared_error, loss=exponential, max_depth=3, n_estimators=110; total time=   1.0s\n",
            "[CV] END criterion=squared_error, loss=exponential, max_depth=3, n_estimators=110; total time=   0.7s\n",
            "[CV] END criterion=squared_error, loss=exponential, max_depth=3, n_estimators=110; total time=   0.7s\n",
            "[CV] END criterion=squared_error, loss=exponential, max_depth=4, n_estimators=50; total time=   0.4s\n",
            "[CV] END criterion=squared_error, loss=exponential, max_depth=4, n_estimators=50; total time=   0.4s\n",
            "[CV] END criterion=squared_error, loss=exponential, max_depth=4, n_estimators=50; total time=   0.4s\n",
            "[CV] END criterion=squared_error, loss=exponential, max_depth=4, n_estimators=60; total time=   0.5s\n",
            "[CV] END criterion=squared_error, loss=exponential, max_depth=4, n_estimators=60; total time=   0.5s\n",
            "[CV] END criterion=squared_error, loss=exponential, max_depth=4, n_estimators=60; total time=   0.5s\n",
            "[CV] END criterion=squared_error, loss=exponential, max_depth=4, n_estimators=70; total time=   0.6s\n",
            "[CV] END criterion=squared_error, loss=exponential, max_depth=4, n_estimators=70; total time=   0.6s\n",
            "[CV] END criterion=squared_error, loss=exponential, max_depth=4, n_estimators=70; total time=   0.6s\n",
            "[CV] END criterion=squared_error, loss=exponential, max_depth=4, n_estimators=80; total time=   0.7s\n",
            "[CV] END criterion=squared_error, loss=exponential, max_depth=4, n_estimators=80; total time=   0.8s\n",
            "[CV] END criterion=squared_error, loss=exponential, max_depth=4, n_estimators=80; total time=   0.7s\n",
            "[CV] END criterion=squared_error, loss=exponential, max_depth=4, n_estimators=90; total time=   0.8s\n",
            "[CV] END criterion=squared_error, loss=exponential, max_depth=4, n_estimators=90; total time=   0.8s\n",
            "[CV] END criterion=squared_error, loss=exponential, max_depth=4, n_estimators=90; total time=   1.1s\n",
            "[CV] END criterion=squared_error, loss=exponential, max_depth=4, n_estimators=100; total time=   1.2s\n",
            "[CV] END criterion=squared_error, loss=exponential, max_depth=4, n_estimators=100; total time=   1.3s\n",
            "[CV] END criterion=squared_error, loss=exponential, max_depth=4, n_estimators=100; total time=   1.2s\n",
            "[CV] END criterion=squared_error, loss=exponential, max_depth=4, n_estimators=110; total time=   1.1s\n",
            "[CV] END criterion=squared_error, loss=exponential, max_depth=4, n_estimators=110; total time=   1.0s\n",
            "[CV] END criterion=squared_error, loss=exponential, max_depth=4, n_estimators=110; total time=   1.0s\n",
            "[CV] END criterion=squared_error, loss=exponential, max_depth=5, n_estimators=50; total time=   0.5s\n",
            "[CV] END criterion=squared_error, loss=exponential, max_depth=5, n_estimators=50; total time=   0.6s\n",
            "[CV] END criterion=squared_error, loss=exponential, max_depth=5, n_estimators=50; total time=   0.5s\n",
            "[CV] END criterion=squared_error, loss=exponential, max_depth=5, n_estimators=60; total time=   0.6s\n",
            "[CV] END criterion=squared_error, loss=exponential, max_depth=5, n_estimators=60; total time=   0.7s\n",
            "[CV] END criterion=squared_error, loss=exponential, max_depth=5, n_estimators=60; total time=   0.6s\n",
            "[CV] END criterion=squared_error, loss=exponential, max_depth=5, n_estimators=70; total time=   0.8s\n",
            "[CV] END criterion=squared_error, loss=exponential, max_depth=5, n_estimators=70; total time=   0.8s\n",
            "[CV] END criterion=squared_error, loss=exponential, max_depth=5, n_estimators=70; total time=   0.8s\n",
            "[CV] END criterion=squared_error, loss=exponential, max_depth=5, n_estimators=80; total time=   0.9s\n",
            "[CV] END criterion=squared_error, loss=exponential, max_depth=5, n_estimators=80; total time=   1.0s\n",
            "[CV] END criterion=squared_error, loss=exponential, max_depth=5, n_estimators=80; total time=   1.3s\n",
            "[CV] END criterion=squared_error, loss=exponential, max_depth=5, n_estimators=90; total time=   1.4s\n",
            "[CV] END criterion=squared_error, loss=exponential, max_depth=5, n_estimators=90; total time=   1.4s\n",
            "[CV] END criterion=squared_error, loss=exponential, max_depth=5, n_estimators=90; total time=   1.2s\n",
            "[CV] END criterion=squared_error, loss=exponential, max_depth=5, n_estimators=100; total time=   1.1s\n",
            "[CV] END criterion=squared_error, loss=exponential, max_depth=5, n_estimators=100; total time=   1.1s\n",
            "[CV] END criterion=squared_error, loss=exponential, max_depth=5, n_estimators=100; total time=   1.1s\n",
            "[CV] END criterion=squared_error, loss=exponential, max_depth=5, n_estimators=110; total time=   1.2s\n",
            "[CV] END criterion=squared_error, loss=exponential, max_depth=5, n_estimators=110; total time=   1.2s\n",
            "[CV] END criterion=squared_error, loss=exponential, max_depth=5, n_estimators=110; total time=   1.2s\n",
            "[CV] END criterion=squared_error, loss=exponential, max_depth=6, n_estimators=50; total time=   0.7s\n",
            "[CV] END criterion=squared_error, loss=exponential, max_depth=6, n_estimators=50; total time=   0.7s\n",
            "[CV] END criterion=squared_error, loss=exponential, max_depth=6, n_estimators=50; total time=   0.7s\n",
            "[CV] END criterion=squared_error, loss=exponential, max_depth=6, n_estimators=60; total time=   0.8s\n",
            "[CV] END criterion=squared_error, loss=exponential, max_depth=6, n_estimators=60; total time=   1.2s\n",
            "[CV] END criterion=squared_error, loss=exponential, max_depth=6, n_estimators=60; total time=   1.2s\n",
            "[CV] END criterion=squared_error, loss=exponential, max_depth=6, n_estimators=70; total time=   1.4s\n",
            "[CV] END criterion=squared_error, loss=exponential, max_depth=6, n_estimators=70; total time=   1.3s\n",
            "[CV] END criterion=squared_error, loss=exponential, max_depth=6, n_estimators=70; total time=   0.9s\n",
            "[CV] END criterion=squared_error, loss=exponential, max_depth=6, n_estimators=80; total time=   1.1s\n",
            "[CV] END criterion=squared_error, loss=exponential, max_depth=6, n_estimators=80; total time=   1.1s\n",
            "[CV] END criterion=squared_error, loss=exponential, max_depth=6, n_estimators=80; total time=   1.2s\n",
            "[CV] END criterion=squared_error, loss=exponential, max_depth=6, n_estimators=90; total time=   1.3s\n",
            "[CV] END criterion=squared_error, loss=exponential, max_depth=6, n_estimators=90; total time=   1.2s\n",
            "[CV] END criterion=squared_error, loss=exponential, max_depth=6, n_estimators=90; total time=   1.2s\n",
            "[CV] END criterion=squared_error, loss=exponential, max_depth=6, n_estimators=100; total time=   1.4s\n",
            "[CV] END criterion=squared_error, loss=exponential, max_depth=6, n_estimators=100; total time=   1.6s\n",
            "[CV] END criterion=squared_error, loss=exponential, max_depth=6, n_estimators=100; total time=   1.9s\n",
            "[CV] END criterion=squared_error, loss=exponential, max_depth=6, n_estimators=110; total time=   2.2s\n",
            "[CV] END criterion=squared_error, loss=exponential, max_depth=6, n_estimators=110; total time=   1.7s\n",
            "[CV] END criterion=squared_error, loss=exponential, max_depth=6, n_estimators=110; total time=   1.5s\n"
          ]
        },
        {
          "data": {
            "text/html": [
              "<style>#sk-container-id-5 {color: black;background-color: white;}#sk-container-id-5 pre{padding: 0;}#sk-container-id-5 div.sk-toggleable {background-color: white;}#sk-container-id-5 label.sk-toggleable__label {cursor: pointer;display: block;width: 100%;margin-bottom: 0;padding: 0.3em;box-sizing: border-box;text-align: center;}#sk-container-id-5 label.sk-toggleable__label-arrow:before {content: \"▸\";float: left;margin-right: 0.25em;color: #696969;}#sk-container-id-5 label.sk-toggleable__label-arrow:hover:before {color: black;}#sk-container-id-5 div.sk-estimator:hover label.sk-toggleable__label-arrow:before {color: black;}#sk-container-id-5 div.sk-toggleable__content {max-height: 0;max-width: 0;overflow: hidden;text-align: left;background-color: #f0f8ff;}#sk-container-id-5 div.sk-toggleable__content pre {margin: 0.2em;color: black;border-radius: 0.25em;background-color: #f0f8ff;}#sk-container-id-5 input.sk-toggleable__control:checked~div.sk-toggleable__content {max-height: 200px;max-width: 100%;overflow: auto;}#sk-container-id-5 input.sk-toggleable__control:checked~label.sk-toggleable__label-arrow:before {content: \"▾\";}#sk-container-id-5 div.sk-estimator input.sk-toggleable__control:checked~label.sk-toggleable__label {background-color: #d4ebff;}#sk-container-id-5 div.sk-label input.sk-toggleable__control:checked~label.sk-toggleable__label {background-color: #d4ebff;}#sk-container-id-5 input.sk-hidden--visually {border: 0;clip: rect(1px 1px 1px 1px);clip: rect(1px, 1px, 1px, 1px);height: 1px;margin: -1px;overflow: hidden;padding: 0;position: absolute;width: 1px;}#sk-container-id-5 div.sk-estimator {font-family: monospace;background-color: #f0f8ff;border: 1px dotted black;border-radius: 0.25em;box-sizing: border-box;margin-bottom: 0.5em;}#sk-container-id-5 div.sk-estimator:hover {background-color: #d4ebff;}#sk-container-id-5 div.sk-parallel-item::after {content: \"\";width: 100%;border-bottom: 1px solid gray;flex-grow: 1;}#sk-container-id-5 div.sk-label:hover label.sk-toggleable__label {background-color: #d4ebff;}#sk-container-id-5 div.sk-serial::before {content: \"\";position: absolute;border-left: 1px solid gray;box-sizing: border-box;top: 0;bottom: 0;left: 50%;z-index: 0;}#sk-container-id-5 div.sk-serial {display: flex;flex-direction: column;align-items: center;background-color: white;padding-right: 0.2em;padding-left: 0.2em;position: relative;}#sk-container-id-5 div.sk-item {position: relative;z-index: 1;}#sk-container-id-5 div.sk-parallel {display: flex;align-items: stretch;justify-content: center;background-color: white;position: relative;}#sk-container-id-5 div.sk-item::before, #sk-container-id-5 div.sk-parallel-item::before {content: \"\";position: absolute;border-left: 1px solid gray;box-sizing: border-box;top: 0;bottom: 0;left: 50%;z-index: -1;}#sk-container-id-5 div.sk-parallel-item {display: flex;flex-direction: column;z-index: 1;position: relative;background-color: white;}#sk-container-id-5 div.sk-parallel-item:first-child::after {align-self: flex-end;width: 50%;}#sk-container-id-5 div.sk-parallel-item:last-child::after {align-self: flex-start;width: 50%;}#sk-container-id-5 div.sk-parallel-item:only-child::after {width: 0;}#sk-container-id-5 div.sk-dashed-wrapped {border: 1px dashed gray;margin: 0 0.4em 0.5em 0.4em;box-sizing: border-box;padding-bottom: 0.4em;background-color: white;}#sk-container-id-5 div.sk-label label {font-family: monospace;font-weight: bold;display: inline-block;line-height: 1.2em;}#sk-container-id-5 div.sk-label-container {text-align: center;}#sk-container-id-5 div.sk-container {/* jupyter's `normalize.less` sets `[hidden] { display: none; }` but bootstrap.min.css set `[hidden] { display: none !important; }` so we also need the `!important` here to be able to override the default hidden behavior on the sphinx rendered scikit-learn.org. See: https://github.com/scikit-learn/scikit-learn/issues/21755 */display: inline-block !important;position: relative;}#sk-container-id-5 div.sk-text-repr-fallback {display: none;}</style><div id=\"sk-container-id-5\" class=\"sk-top-container\"><div class=\"sk-text-repr-fallback\"><pre>GridSearchCV(cv=3, estimator=GradientBoostingClassifier(),\n",
              "             param_grid={&#x27;criterion&#x27;: [&#x27;friedman_mse&#x27;, &#x27;squared_error&#x27;],\n",
              "                         &#x27;loss&#x27;: [&#x27;log_loss&#x27;, &#x27;exponential&#x27;],\n",
              "                         &#x27;max_depth&#x27;: [3, 4, 5, 6],\n",
              "                         &#x27;n_estimators&#x27;: [50, 60, 70, 80, 90, 100, 110]},\n",
              "             verbose=2)</pre><b>In a Jupyter environment, please rerun this cell to show the HTML representation or trust the notebook. <br />On GitHub, the HTML representation is unable to render, please try loading this page with nbviewer.org.</b></div><div class=\"sk-container\" hidden><div class=\"sk-item sk-dashed-wrapped\"><div class=\"sk-label-container\"><div class=\"sk-label sk-toggleable\"><input class=\"sk-toggleable__control sk-hidden--visually\" id=\"sk-estimator-id-9\" type=\"checkbox\" ><label for=\"sk-estimator-id-9\" class=\"sk-toggleable__label sk-toggleable__label-arrow\">GridSearchCV</label><div class=\"sk-toggleable__content\"><pre>GridSearchCV(cv=3, estimator=GradientBoostingClassifier(),\n",
              "             param_grid={&#x27;criterion&#x27;: [&#x27;friedman_mse&#x27;, &#x27;squared_error&#x27;],\n",
              "                         &#x27;loss&#x27;: [&#x27;log_loss&#x27;, &#x27;exponential&#x27;],\n",
              "                         &#x27;max_depth&#x27;: [3, 4, 5, 6],\n",
              "                         &#x27;n_estimators&#x27;: [50, 60, 70, 80, 90, 100, 110]},\n",
              "             verbose=2)</pre></div></div></div><div class=\"sk-parallel\"><div class=\"sk-parallel-item\"><div class=\"sk-item\"><div class=\"sk-label-container\"><div class=\"sk-label sk-toggleable\"><input class=\"sk-toggleable__control sk-hidden--visually\" id=\"sk-estimator-id-10\" type=\"checkbox\" ><label for=\"sk-estimator-id-10\" class=\"sk-toggleable__label sk-toggleable__label-arrow\">estimator: GradientBoostingClassifier</label><div class=\"sk-toggleable__content\"><pre>GradientBoostingClassifier()</pre></div></div></div><div class=\"sk-serial\"><div class=\"sk-item\"><div class=\"sk-estimator sk-toggleable\"><input class=\"sk-toggleable__control sk-hidden--visually\" id=\"sk-estimator-id-11\" type=\"checkbox\" ><label for=\"sk-estimator-id-11\" class=\"sk-toggleable__label sk-toggleable__label-arrow\">GradientBoostingClassifier</label><div class=\"sk-toggleable__content\"><pre>GradientBoostingClassifier()</pre></div></div></div></div></div></div></div></div></div></div>"
            ],
            "text/plain": [
              "GridSearchCV(cv=3, estimator=GradientBoostingClassifier(),\n",
              "             param_grid={'criterion': ['friedman_mse', 'squared_error'],\n",
              "                         'loss': ['log_loss', 'exponential'],\n",
              "                         'max_depth': [3, 4, 5, 6],\n",
              "                         'n_estimators': [50, 60, 70, 80, 90, 100, 110]},\n",
              "             verbose=2)"
            ]
          },
          "execution_count": 126,
          "metadata": {},
          "output_type": "execute_result"
        }
      ],
      "source": [
        "from sklearn.ensemble import GradientBoostingClassifier\n",
        "\n",
        "CV_gb_clf=GridSearchCV(estimator=GradientBoostingClassifier(), param_grid=param_grid, cv= 3, verbose=2)\n",
        "\n",
        "CV_gb_clf.fit(x_train,numpy.ravel(y_train))\n",
        "\n"
      ]
    },
    {
      "cell_type": "code",
      "execution_count": null,
      "metadata": {
        "colab": {
          "base_uri": "https://localhost:8080/"
        },
        "id": "s2hZzXiuQsDe",
        "outputId": "153e42ab-403d-4f40-f830-ca9537d88ad7"
      },
      "outputs": [
        {
          "data": {
            "text/plain": [
              "{'criterion': 'friedman_mse',\n",
              " 'loss': 'exponential',\n",
              " 'max_depth': 3,\n",
              " 'n_estimators': 80}"
            ]
          },
          "execution_count": 127,
          "metadata": {},
          "output_type": "execute_result"
        }
      ],
      "source": [
        "CV_gb_clf.best_params_"
      ]
    },
    {
      "cell_type": "code",
      "execution_count": null,
      "metadata": {
        "id": "VaLeGunyQl4S"
      },
      "outputs": [],
      "source": [
        "gb = GradientBoostingClassifier(**CV_gb_clf.best_params_)\n",
        "\n",
        "gb_clf = gb.fit(x_train,numpy.ravel(y_train))\n"
      ]
    },
    {
      "cell_type": "code",
      "execution_count": null,
      "metadata": {
        "id": "SmMmz36-Hfkn"
      },
      "outputs": [],
      "source": [
        "y_pred = gb_clf.predict(x_test)"
      ]
    },
    {
      "cell_type": "code",
      "execution_count": null,
      "metadata": {
        "colab": {
          "base_uri": "https://localhost:8080/"
        },
        "id": "bmy1_7bSHhQE",
        "outputId": "3e9a4bbf-ed8a-4be5-d387-2a7c2587bab5"
      },
      "outputs": [
        {
          "data": {
            "text/plain": [
              "array([[0],\n",
              "       [0],\n",
              "       [1],\n",
              "       ...,\n",
              "       [0],\n",
              "       [0],\n",
              "       [1]])"
            ]
          },
          "execution_count": 130,
          "metadata": {},
          "output_type": "execute_result"
        }
      ],
      "source": [
        "y_test.values"
      ]
    },
    {
      "cell_type": "code",
      "execution_count": null,
      "metadata": {
        "colab": {
          "base_uri": "https://localhost:8080/"
        },
        "id": "8N_5fAw4HliK",
        "outputId": "7032c480-c649-455e-8e6a-cf8b7a2bae7b"
      },
      "outputs": [
        {
          "name": "stdout",
          "output_type": "stream",
          "text": [
            "accuracy:84.800000\n",
            "\n",
            " recall score:38.574939\n",
            "\n",
            " roc score :67.592554\n",
            "[[1539   54]\n",
            " [ 250  157]]\n"
          ]
        }
      ],
      "source": [
        "print(\"accuracy:%f\"%(accuracy_score(y_test,y_pred)*100))\n",
        "print(\"\\n recall score:%f\"%(recall_score(y_test,y_pred)*100))\n",
        "print(\"\\n roc score :%f\"%(roc_auc_score(y_test,y_pred)*100))\n",
        "print(confusion_matrix(y_test,y_pred))\n",
        "accuracy_gb = accuracy_score(y_test,y_pred)*100"
      ]
    },
    {
      "cell_type": "code",
      "execution_count": null,
      "metadata": {
        "colab": {
          "base_uri": "https://localhost:8080/"
        },
        "id": "WKJOt9cDHyrj",
        "outputId": "98c5ef66-7e69-492e-fc46-64e83e53543c"
      },
      "outputs": [
        {
          "data": {
            "text/plain": [
              "array([[1539,   54],\n",
              "       [ 250,  157]])"
            ]
          },
          "execution_count": 132,
          "metadata": {},
          "output_type": "execute_result"
        }
      ],
      "source": [
        "confusion_matrix(y_test,y_pred)"
      ]
    },
    {
      "cell_type": "code",
      "execution_count": null,
      "metadata": {
        "colab": {
          "base_uri": "https://localhost:8080/"
        },
        "id": "4LevrG4fSp51",
        "outputId": "f4d7cc71-26ab-42b7-f1ab-6493205e9765"
      },
      "outputs": [
        {
          "name": "stdout",
          "output_type": "stream",
          "text": [
            "Classification Report:\n",
            "               precision    recall  f1-score   support\n",
            "\n",
            "           0       0.86      0.97      0.91      1593\n",
            "           1       0.74      0.39      0.51       407\n",
            "\n",
            "    accuracy                           0.85      2000\n",
            "   macro avg       0.80      0.68      0.71      2000\n",
            "weighted avg       0.84      0.85      0.83      2000\n",
            "\n"
          ]
        }
      ],
      "source": [
        "from sklearn.metrics import classification_report\n",
        "gb_report = classification_report(y_test, y_pred)\n",
        "print('Classification Report:\\n', gb_report)"
      ]
    },
    {
      "cell_type": "markdown",
      "metadata": {
        "id": "obDVx1MhJAWM"
      },
      "source": [
        "XGBoost"
      ]
    },
    {
      "cell_type": "code",
      "execution_count": null,
      "metadata": {
        "id": "olwd6F_hTQ8u"
      },
      "outputs": [],
      "source": [
        "param_grid = {\n",
        "    'use_label_encoder': ['False'],\n",
        "    'eval_metric' : ['rmse', 'mae', 'logloss', 'error'],\n",
        "    'eta' :[0.01, 0.05, 0.1, 0.15],\n",
        "    'max_depth'  :[4,5,6,7],\n",
        "    'tree_method' :['auto', 'exact', 'approx', 'hist']\n",
        "}\n",
        "\n"
      ]
    },
    {
      "cell_type": "code",
      "execution_count": null,
      "metadata": {
        "colab": {
          "base_uri": "https://localhost:8080/",
          "height": 1000
        },
        "id": "ipMILCquUDpw",
        "outputId": "a0da700f-be08-47a1-e00f-f5c3e8c80e7d"
      },
      "outputs": [
        {
          "name": "stdout",
          "output_type": "stream",
          "text": [
            "Fitting 3 folds for each of 256 candidates, totalling 768 fits\n",
            "[CV] END eta=0.01, eval_metric=rmse, max_depth=4, tree_method=auto, use_label_encoder=False; total time=   0.1s\n",
            "[CV] END eta=0.01, eval_metric=rmse, max_depth=4, tree_method=auto, use_label_encoder=False; total time=   0.1s\n",
            "[CV] END eta=0.01, eval_metric=rmse, max_depth=4, tree_method=auto, use_label_encoder=False; total time=   0.1s\n",
            "[CV] END eta=0.01, eval_metric=rmse, max_depth=4, tree_method=exact, use_label_encoder=False; total time=   0.3s\n",
            "[CV] END eta=0.01, eval_metric=rmse, max_depth=4, tree_method=exact, use_label_encoder=False; total time=   0.3s\n",
            "[CV] END eta=0.01, eval_metric=rmse, max_depth=4, tree_method=exact, use_label_encoder=False; total time=   0.3s\n",
            "[CV] END eta=0.01, eval_metric=rmse, max_depth=4, tree_method=approx, use_label_encoder=False; total time=   0.4s\n",
            "[CV] END eta=0.01, eval_metric=rmse, max_depth=4, tree_method=approx, use_label_encoder=False; total time=   0.4s\n",
            "[CV] END eta=0.01, eval_metric=rmse, max_depth=4, tree_method=approx, use_label_encoder=False; total time=   0.4s\n",
            "[CV] END eta=0.01, eval_metric=rmse, max_depth=4, tree_method=hist, use_label_encoder=False; total time=   0.1s\n",
            "[CV] END eta=0.01, eval_metric=rmse, max_depth=4, tree_method=hist, use_label_encoder=False; total time=   0.1s\n",
            "[CV] END eta=0.01, eval_metric=rmse, max_depth=4, tree_method=hist, use_label_encoder=False; total time=   0.2s\n",
            "[CV] END eta=0.01, eval_metric=rmse, max_depth=5, tree_method=auto, use_label_encoder=False; total time=   0.1s\n",
            "[CV] END eta=0.01, eval_metric=rmse, max_depth=5, tree_method=auto, use_label_encoder=False; total time=   0.2s\n",
            "[CV] END eta=0.01, eval_metric=rmse, max_depth=5, tree_method=auto, use_label_encoder=False; total time=   0.1s\n",
            "[CV] END eta=0.01, eval_metric=rmse, max_depth=5, tree_method=exact, use_label_encoder=False; total time=   0.4s\n",
            "[CV] END eta=0.01, eval_metric=rmse, max_depth=5, tree_method=exact, use_label_encoder=False; total time=   0.4s\n",
            "[CV] END eta=0.01, eval_metric=rmse, max_depth=5, tree_method=exact, use_label_encoder=False; total time=   0.4s\n",
            "[CV] END eta=0.01, eval_metric=rmse, max_depth=5, tree_method=approx, use_label_encoder=False; total time=   0.5s\n",
            "[CV] END eta=0.01, eval_metric=rmse, max_depth=5, tree_method=approx, use_label_encoder=False; total time=   0.9s\n",
            "[CV] END eta=0.01, eval_metric=rmse, max_depth=5, tree_method=approx, use_label_encoder=False; total time=   1.6s\n",
            "[CV] END eta=0.01, eval_metric=rmse, max_depth=5, tree_method=hist, use_label_encoder=False; total time=   1.2s\n",
            "[CV] END eta=0.01, eval_metric=rmse, max_depth=5, tree_method=hist, use_label_encoder=False; total time=   0.5s\n",
            "[CV] END eta=0.01, eval_metric=rmse, max_depth=5, tree_method=hist, use_label_encoder=False; total time=   0.3s\n",
            "[CV] END eta=0.01, eval_metric=rmse, max_depth=6, tree_method=auto, use_label_encoder=False; total time=   0.2s\n",
            "[CV] END eta=0.01, eval_metric=rmse, max_depth=6, tree_method=auto, use_label_encoder=False; total time=   0.2s\n",
            "[CV] END eta=0.01, eval_metric=rmse, max_depth=6, tree_method=auto, use_label_encoder=False; total time=   0.2s\n",
            "[CV] END eta=0.01, eval_metric=rmse, max_depth=6, tree_method=exact, use_label_encoder=False; total time=   0.4s\n",
            "[CV] END eta=0.01, eval_metric=rmse, max_depth=6, tree_method=exact, use_label_encoder=False; total time=   0.5s\n",
            "[CV] END eta=0.01, eval_metric=rmse, max_depth=6, tree_method=exact, use_label_encoder=False; total time=   0.5s\n",
            "[CV] END eta=0.01, eval_metric=rmse, max_depth=6, tree_method=approx, use_label_encoder=False; total time=   0.4s\n",
            "[CV] END eta=0.01, eval_metric=rmse, max_depth=6, tree_method=approx, use_label_encoder=False; total time=   0.5s\n",
            "[CV] END eta=0.01, eval_metric=rmse, max_depth=6, tree_method=approx, use_label_encoder=False; total time=   0.4s\n",
            "[CV] END eta=0.01, eval_metric=rmse, max_depth=6, tree_method=hist, use_label_encoder=False; total time=   0.2s\n",
            "[CV] END eta=0.01, eval_metric=rmse, max_depth=6, tree_method=hist, use_label_encoder=False; total time=   0.3s\n",
            "[CV] END eta=0.01, eval_metric=rmse, max_depth=6, tree_method=hist, use_label_encoder=False; total time=   0.2s\n",
            "[CV] END eta=0.01, eval_metric=rmse, max_depth=7, tree_method=auto, use_label_encoder=False; total time=   0.3s\n",
            "[CV] END eta=0.01, eval_metric=rmse, max_depth=7, tree_method=auto, use_label_encoder=False; total time=   0.3s\n",
            "[CV] END eta=0.01, eval_metric=rmse, max_depth=7, tree_method=auto, use_label_encoder=False; total time=   0.3s\n",
            "[CV] END eta=0.01, eval_metric=rmse, max_depth=7, tree_method=exact, use_label_encoder=False; total time=   0.7s\n",
            "[CV] END eta=0.01, eval_metric=rmse, max_depth=7, tree_method=exact, use_label_encoder=False; total time=   0.6s\n",
            "[CV] END eta=0.01, eval_metric=rmse, max_depth=7, tree_method=exact, use_label_encoder=False; total time=   0.6s\n",
            "[CV] END eta=0.01, eval_metric=rmse, max_depth=7, tree_method=approx, use_label_encoder=False; total time=   0.5s\n",
            "[CV] END eta=0.01, eval_metric=rmse, max_depth=7, tree_method=approx, use_label_encoder=False; total time=   0.5s\n",
            "[CV] END eta=0.01, eval_metric=rmse, max_depth=7, tree_method=approx, use_label_encoder=False; total time=   0.5s\n",
            "[CV] END eta=0.01, eval_metric=rmse, max_depth=7, tree_method=hist, use_label_encoder=False; total time=   0.2s\n",
            "[CV] END eta=0.01, eval_metric=rmse, max_depth=7, tree_method=hist, use_label_encoder=False; total time=   0.2s\n",
            "[CV] END eta=0.01, eval_metric=rmse, max_depth=7, tree_method=hist, use_label_encoder=False; total time=   0.2s\n",
            "[CV] END eta=0.01, eval_metric=mae, max_depth=4, tree_method=auto, use_label_encoder=False; total time=   0.1s\n",
            "[CV] END eta=0.01, eval_metric=mae, max_depth=4, tree_method=auto, use_label_encoder=False; total time=   0.1s\n",
            "[CV] END eta=0.01, eval_metric=mae, max_depth=4, tree_method=auto, use_label_encoder=False; total time=   0.1s\n",
            "[CV] END eta=0.01, eval_metric=mae, max_depth=4, tree_method=exact, use_label_encoder=False; total time=   0.3s\n",
            "[CV] END eta=0.01, eval_metric=mae, max_depth=4, tree_method=exact, use_label_encoder=False; total time=   0.3s\n",
            "[CV] END eta=0.01, eval_metric=mae, max_depth=4, tree_method=exact, use_label_encoder=False; total time=   0.3s\n",
            "[CV] END eta=0.01, eval_metric=mae, max_depth=4, tree_method=approx, use_label_encoder=False; total time=   1.7s\n",
            "[CV] END eta=0.01, eval_metric=mae, max_depth=4, tree_method=approx, use_label_encoder=False; total time=   1.2s\n",
            "[CV] END eta=0.01, eval_metric=mae, max_depth=4, tree_method=approx, use_label_encoder=False; total time=   1.2s\n",
            "[CV] END eta=0.01, eval_metric=mae, max_depth=4, tree_method=hist, use_label_encoder=False; total time=   0.1s\n",
            "[CV] END eta=0.01, eval_metric=mae, max_depth=4, tree_method=hist, use_label_encoder=False; total time=   0.1s\n",
            "[CV] END eta=0.01, eval_metric=mae, max_depth=4, tree_method=hist, use_label_encoder=False; total time=   0.1s\n",
            "[CV] END eta=0.01, eval_metric=mae, max_depth=5, tree_method=auto, use_label_encoder=False; total time=   0.1s\n",
            "[CV] END eta=0.01, eval_metric=mae, max_depth=5, tree_method=auto, use_label_encoder=False; total time=   0.1s\n",
            "[CV] END eta=0.01, eval_metric=mae, max_depth=5, tree_method=auto, use_label_encoder=False; total time=   0.1s\n",
            "[CV] END eta=0.01, eval_metric=mae, max_depth=5, tree_method=exact, use_label_encoder=False; total time=   0.4s\n",
            "[CV] END eta=0.01, eval_metric=mae, max_depth=5, tree_method=exact, use_label_encoder=False; total time=   0.4s\n",
            "[CV] END eta=0.01, eval_metric=mae, max_depth=5, tree_method=exact, use_label_encoder=False; total time=   0.4s\n",
            "[CV] END eta=0.01, eval_metric=mae, max_depth=5, tree_method=approx, use_label_encoder=False; total time=   0.4s\n",
            "[CV] END eta=0.01, eval_metric=mae, max_depth=5, tree_method=approx, use_label_encoder=False; total time=   0.4s\n",
            "[CV] END eta=0.01, eval_metric=mae, max_depth=5, tree_method=approx, use_label_encoder=False; total time=   0.4s\n",
            "[CV] END eta=0.01, eval_metric=mae, max_depth=5, tree_method=hist, use_label_encoder=False; total time=   0.1s\n",
            "[CV] END eta=0.01, eval_metric=mae, max_depth=5, tree_method=hist, use_label_encoder=False; total time=   0.1s\n",
            "[CV] END eta=0.01, eval_metric=mae, max_depth=5, tree_method=hist, use_label_encoder=False; total time=   0.1s\n",
            "[CV] END eta=0.01, eval_metric=mae, max_depth=6, tree_method=auto, use_label_encoder=False; total time=   0.2s\n",
            "[CV] END eta=0.01, eval_metric=mae, max_depth=6, tree_method=auto, use_label_encoder=False; total time=   0.2s\n",
            "[CV] END eta=0.01, eval_metric=mae, max_depth=6, tree_method=auto, use_label_encoder=False; total time=   0.2s\n",
            "[CV] END eta=0.01, eval_metric=mae, max_depth=6, tree_method=exact, use_label_encoder=False; total time=   0.4s\n",
            "[CV] END eta=0.01, eval_metric=mae, max_depth=6, tree_method=exact, use_label_encoder=False; total time=   0.5s\n",
            "[CV] END eta=0.01, eval_metric=mae, max_depth=6, tree_method=exact, use_label_encoder=False; total time=   0.5s\n",
            "[CV] END eta=0.01, eval_metric=mae, max_depth=6, tree_method=approx, use_label_encoder=False; total time=   0.4s\n",
            "[CV] END eta=0.01, eval_metric=mae, max_depth=6, tree_method=approx, use_label_encoder=False; total time=   0.4s\n",
            "[CV] END eta=0.01, eval_metric=mae, max_depth=6, tree_method=approx, use_label_encoder=False; total time=   0.4s\n",
            "[CV] END eta=0.01, eval_metric=mae, max_depth=6, tree_method=hist, use_label_encoder=False; total time=   0.2s\n",
            "[CV] END eta=0.01, eval_metric=mae, max_depth=6, tree_method=hist, use_label_encoder=False; total time=   0.2s\n",
            "[CV] END eta=0.01, eval_metric=mae, max_depth=6, tree_method=hist, use_label_encoder=False; total time=   0.2s\n",
            "[CV] END eta=0.01, eval_metric=mae, max_depth=7, tree_method=auto, use_label_encoder=False; total time=   0.2s\n",
            "[CV] END eta=0.01, eval_metric=mae, max_depth=7, tree_method=auto, use_label_encoder=False; total time=   0.2s\n",
            "[CV] END eta=0.01, eval_metric=mae, max_depth=7, tree_method=auto, use_label_encoder=False; total time=   0.2s\n",
            "[CV] END eta=0.01, eval_metric=mae, max_depth=7, tree_method=exact, use_label_encoder=False; total time=   0.6s\n",
            "[CV] END eta=0.01, eval_metric=mae, max_depth=7, tree_method=exact, use_label_encoder=False; total time=   0.6s\n",
            "[CV] END eta=0.01, eval_metric=mae, max_depth=7, tree_method=exact, use_label_encoder=False; total time=   0.6s\n",
            "[CV] END eta=0.01, eval_metric=mae, max_depth=7, tree_method=approx, use_label_encoder=False; total time=   0.6s\n",
            "[CV] END eta=0.01, eval_metric=mae, max_depth=7, tree_method=approx, use_label_encoder=False; total time=   2.8s\n",
            "[CV] END eta=0.01, eval_metric=mae, max_depth=7, tree_method=approx, use_label_encoder=False; total time=   1.2s\n",
            "[CV] END eta=0.01, eval_metric=mae, max_depth=7, tree_method=hist, use_label_encoder=False; total time=   0.2s\n",
            "[CV] END eta=0.01, eval_metric=mae, max_depth=7, tree_method=hist, use_label_encoder=False; total time=   0.2s\n",
            "[CV] END eta=0.01, eval_metric=mae, max_depth=7, tree_method=hist, use_label_encoder=False; total time=   0.2s\n",
            "[CV] END eta=0.01, eval_metric=logloss, max_depth=4, tree_method=auto, use_label_encoder=False; total time=   0.1s\n",
            "[CV] END eta=0.01, eval_metric=logloss, max_depth=4, tree_method=auto, use_label_encoder=False; total time=   0.1s\n",
            "[CV] END eta=0.01, eval_metric=logloss, max_depth=4, tree_method=auto, use_label_encoder=False; total time=   0.1s\n",
            "[CV] END eta=0.01, eval_metric=logloss, max_depth=4, tree_method=exact, use_label_encoder=False; total time=   0.3s\n",
            "[CV] END eta=0.01, eval_metric=logloss, max_depth=4, tree_method=exact, use_label_encoder=False; total time=   0.3s\n",
            "[CV] END eta=0.01, eval_metric=logloss, max_depth=4, tree_method=exact, use_label_encoder=False; total time=   0.3s\n",
            "[CV] END eta=0.01, eval_metric=logloss, max_depth=4, tree_method=approx, use_label_encoder=False; total time=   0.3s\n",
            "[CV] END eta=0.01, eval_metric=logloss, max_depth=4, tree_method=approx, use_label_encoder=False; total time=   0.3s\n",
            "[CV] END eta=0.01, eval_metric=logloss, max_depth=4, tree_method=approx, use_label_encoder=False; total time=   0.3s\n",
            "[CV] END eta=0.01, eval_metric=logloss, max_depth=4, tree_method=hist, use_label_encoder=False; total time=   0.1s\n",
            "[CV] END eta=0.01, eval_metric=logloss, max_depth=4, tree_method=hist, use_label_encoder=False; total time=   0.1s\n",
            "[CV] END eta=0.01, eval_metric=logloss, max_depth=4, tree_method=hist, use_label_encoder=False; total time=   0.1s\n",
            "[CV] END eta=0.01, eval_metric=logloss, max_depth=5, tree_method=auto, use_label_encoder=False; total time=   0.1s\n",
            "[CV] END eta=0.01, eval_metric=logloss, max_depth=5, tree_method=auto, use_label_encoder=False; total time=   0.1s\n",
            "[CV] END eta=0.01, eval_metric=logloss, max_depth=5, tree_method=auto, use_label_encoder=False; total time=   0.1s\n",
            "[CV] END eta=0.01, eval_metric=logloss, max_depth=5, tree_method=exact, use_label_encoder=False; total time=   0.4s\n",
            "[CV] END eta=0.01, eval_metric=logloss, max_depth=5, tree_method=exact, use_label_encoder=False; total time=   0.4s\n",
            "[CV] END eta=0.01, eval_metric=logloss, max_depth=5, tree_method=exact, use_label_encoder=False; total time=   0.4s\n",
            "[CV] END eta=0.01, eval_metric=logloss, max_depth=5, tree_method=approx, use_label_encoder=False; total time=   0.4s\n",
            "[CV] END eta=0.01, eval_metric=logloss, max_depth=5, tree_method=approx, use_label_encoder=False; total time=   0.4s\n",
            "[CV] END eta=0.01, eval_metric=logloss, max_depth=5, tree_method=approx, use_label_encoder=False; total time=   0.4s\n",
            "[CV] END eta=0.01, eval_metric=logloss, max_depth=5, tree_method=hist, use_label_encoder=False; total time=   0.1s\n",
            "[CV] END eta=0.01, eval_metric=logloss, max_depth=5, tree_method=hist, use_label_encoder=False; total time=   0.1s\n",
            "[CV] END eta=0.01, eval_metric=logloss, max_depth=5, tree_method=hist, use_label_encoder=False; total time=   0.1s\n",
            "[CV] END eta=0.01, eval_metric=logloss, max_depth=6, tree_method=auto, use_label_encoder=False; total time=   0.2s\n",
            "[CV] END eta=0.01, eval_metric=logloss, max_depth=6, tree_method=auto, use_label_encoder=False; total time=   0.2s\n",
            "[CV] END eta=0.01, eval_metric=logloss, max_depth=6, tree_method=auto, use_label_encoder=False; total time=   0.2s\n",
            "[CV] END eta=0.01, eval_metric=logloss, max_depth=6, tree_method=exact, use_label_encoder=False; total time=   0.4s\n",
            "[CV] END eta=0.01, eval_metric=logloss, max_depth=6, tree_method=exact, use_label_encoder=False; total time=   0.5s\n",
            "[CV] END eta=0.01, eval_metric=logloss, max_depth=6, tree_method=exact, use_label_encoder=False; total time=   0.5s\n",
            "[CV] END eta=0.01, eval_metric=logloss, max_depth=6, tree_method=approx, use_label_encoder=False; total time=   0.4s\n",
            "[CV] END eta=0.01, eval_metric=logloss, max_depth=6, tree_method=approx, use_label_encoder=False; total time=   0.4s\n",
            "[CV] END eta=0.01, eval_metric=logloss, max_depth=6, tree_method=approx, use_label_encoder=False; total time=   0.4s\n",
            "[CV] END eta=0.01, eval_metric=logloss, max_depth=6, tree_method=hist, use_label_encoder=False; total time=   0.2s\n",
            "[CV] END eta=0.01, eval_metric=logloss, max_depth=6, tree_method=hist, use_label_encoder=False; total time=   0.2s\n",
            "[CV] END eta=0.01, eval_metric=logloss, max_depth=6, tree_method=hist, use_label_encoder=False; total time=   0.4s\n",
            "[CV] END eta=0.01, eval_metric=logloss, max_depth=7, tree_method=auto, use_label_encoder=False; total time=   1.5s\n",
            "[CV] END eta=0.01, eval_metric=logloss, max_depth=7, tree_method=auto, use_label_encoder=False; total time=   1.3s\n",
            "[CV] END eta=0.01, eval_metric=logloss, max_depth=7, tree_method=auto, use_label_encoder=False; total time=   0.6s\n",
            "[CV] END eta=0.01, eval_metric=logloss, max_depth=7, tree_method=exact, use_label_encoder=False; total time=   0.6s\n",
            "[CV] END eta=0.01, eval_metric=logloss, max_depth=7, tree_method=exact, use_label_encoder=False; total time=   0.6s\n",
            "[CV] END eta=0.01, eval_metric=logloss, max_depth=7, tree_method=exact, use_label_encoder=False; total time=   0.6s\n",
            "[CV] END eta=0.01, eval_metric=logloss, max_depth=7, tree_method=approx, use_label_encoder=False; total time=   0.5s\n",
            "[CV] END eta=0.01, eval_metric=logloss, max_depth=7, tree_method=approx, use_label_encoder=False; total time=   0.5s\n",
            "[CV] END eta=0.01, eval_metric=logloss, max_depth=7, tree_method=approx, use_label_encoder=False; total time=   0.5s\n",
            "[CV] END eta=0.01, eval_metric=logloss, max_depth=7, tree_method=hist, use_label_encoder=False; total time=   0.2s\n",
            "[CV] END eta=0.01, eval_metric=logloss, max_depth=7, tree_method=hist, use_label_encoder=False; total time=   0.2s\n",
            "[CV] END eta=0.01, eval_metric=logloss, max_depth=7, tree_method=hist, use_label_encoder=False; total time=   0.2s\n",
            "[CV] END eta=0.01, eval_metric=error, max_depth=4, tree_method=auto, use_label_encoder=False; total time=   0.1s\n",
            "[CV] END eta=0.01, eval_metric=error, max_depth=4, tree_method=auto, use_label_encoder=False; total time=   0.1s\n",
            "[CV] END eta=0.01, eval_metric=error, max_depth=4, tree_method=auto, use_label_encoder=False; total time=   0.1s\n",
            "[CV] END eta=0.01, eval_metric=error, max_depth=4, tree_method=exact, use_label_encoder=False; total time=   0.3s\n",
            "[CV] END eta=0.01, eval_metric=error, max_depth=4, tree_method=exact, use_label_encoder=False; total time=   0.3s\n",
            "[CV] END eta=0.01, eval_metric=error, max_depth=4, tree_method=exact, use_label_encoder=False; total time=   0.3s\n",
            "[CV] END eta=0.01, eval_metric=error, max_depth=4, tree_method=approx, use_label_encoder=False; total time=   0.3s\n",
            "[CV] END eta=0.01, eval_metric=error, max_depth=4, tree_method=approx, use_label_encoder=False; total time=   0.3s\n",
            "[CV] END eta=0.01, eval_metric=error, max_depth=4, tree_method=approx, use_label_encoder=False; total time=   0.4s\n",
            "[CV] END eta=0.01, eval_metric=error, max_depth=4, tree_method=hist, use_label_encoder=False; total time=   0.1s\n",
            "[CV] END eta=0.01, eval_metric=error, max_depth=4, tree_method=hist, use_label_encoder=False; total time=   0.1s\n",
            "[CV] END eta=0.01, eval_metric=error, max_depth=4, tree_method=hist, use_label_encoder=False; total time=   0.1s\n",
            "[CV] END eta=0.01, eval_metric=error, max_depth=5, tree_method=auto, use_label_encoder=False; total time=   0.1s\n",
            "[CV] END eta=0.01, eval_metric=error, max_depth=5, tree_method=auto, use_label_encoder=False; total time=   0.1s\n",
            "[CV] END eta=0.01, eval_metric=error, max_depth=5, tree_method=auto, use_label_encoder=False; total time=   0.1s\n",
            "[CV] END eta=0.01, eval_metric=error, max_depth=5, tree_method=exact, use_label_encoder=False; total time=   0.4s\n",
            "[CV] END eta=0.01, eval_metric=error, max_depth=5, tree_method=exact, use_label_encoder=False; total time=   0.4s\n",
            "[CV] END eta=0.01, eval_metric=error, max_depth=5, tree_method=exact, use_label_encoder=False; total time=   0.4s\n",
            "[CV] END eta=0.01, eval_metric=error, max_depth=5, tree_method=approx, use_label_encoder=False; total time=   0.4s\n",
            "[CV] END eta=0.01, eval_metric=error, max_depth=5, tree_method=approx, use_label_encoder=False; total time=   0.4s\n",
            "[CV] END eta=0.01, eval_metric=error, max_depth=5, tree_method=approx, use_label_encoder=False; total time=   0.4s\n",
            "[CV] END eta=0.01, eval_metric=error, max_depth=5, tree_method=hist, use_label_encoder=False; total time=   0.2s\n",
            "[CV] END eta=0.01, eval_metric=error, max_depth=5, tree_method=hist, use_label_encoder=False; total time=   0.1s\n",
            "[CV] END eta=0.01, eval_metric=error, max_depth=5, tree_method=hist, use_label_encoder=False; total time=   0.1s\n",
            "[CV] END eta=0.01, eval_metric=error, max_depth=6, tree_method=auto, use_label_encoder=False; total time=   0.2s\n",
            "[CV] END eta=0.01, eval_metric=error, max_depth=6, tree_method=auto, use_label_encoder=False; total time=   0.2s\n",
            "[CV] END eta=0.01, eval_metric=error, max_depth=6, tree_method=auto, use_label_encoder=False; total time=   0.2s\n",
            "[CV] END eta=0.01, eval_metric=error, max_depth=6, tree_method=exact, use_label_encoder=False; total time=   2.0s\n",
            "[CV] END eta=0.01, eval_metric=error, max_depth=6, tree_method=exact, use_label_encoder=False; total time=   2.0s\n",
            "[CV] END eta=0.01, eval_metric=error, max_depth=6, tree_method=exact, use_label_encoder=False; total time=   0.5s\n",
            "[CV] END eta=0.01, eval_metric=error, max_depth=6, tree_method=approx, use_label_encoder=False; total time=   0.4s\n",
            "[CV] END eta=0.01, eval_metric=error, max_depth=6, tree_method=approx, use_label_encoder=False; total time=   0.5s\n",
            "[CV] END eta=0.01, eval_metric=error, max_depth=6, tree_method=approx, use_label_encoder=False; total time=   0.4s\n",
            "[CV] END eta=0.01, eval_metric=error, max_depth=6, tree_method=hist, use_label_encoder=False; total time=   0.2s\n",
            "[CV] END eta=0.01, eval_metric=error, max_depth=6, tree_method=hist, use_label_encoder=False; total time=   0.2s\n",
            "[CV] END eta=0.01, eval_metric=error, max_depth=6, tree_method=hist, use_label_encoder=False; total time=   0.2s\n",
            "[CV] END eta=0.01, eval_metric=error, max_depth=7, tree_method=auto, use_label_encoder=False; total time=   0.2s\n",
            "[CV] END eta=0.01, eval_metric=error, max_depth=7, tree_method=auto, use_label_encoder=False; total time=   0.2s\n",
            "[CV] END eta=0.01, eval_metric=error, max_depth=7, tree_method=auto, use_label_encoder=False; total time=   0.2s\n",
            "[CV] END eta=0.01, eval_metric=error, max_depth=7, tree_method=exact, use_label_encoder=False; total time=   0.6s\n",
            "[CV] END eta=0.01, eval_metric=error, max_depth=7, tree_method=exact, use_label_encoder=False; total time=   0.5s\n",
            "[CV] END eta=0.01, eval_metric=error, max_depth=7, tree_method=exact, use_label_encoder=False; total time=   0.6s\n",
            "[CV] END eta=0.01, eval_metric=error, max_depth=7, tree_method=approx, use_label_encoder=False; total time=   0.5s\n",
            "[CV] END eta=0.01, eval_metric=error, max_depth=7, tree_method=approx, use_label_encoder=False; total time=   0.5s\n",
            "[CV] END eta=0.01, eval_metric=error, max_depth=7, tree_method=approx, use_label_encoder=False; total time=   0.5s\n",
            "[CV] END eta=0.01, eval_metric=error, max_depth=7, tree_method=hist, use_label_encoder=False; total time=   0.2s\n",
            "[CV] END eta=0.01, eval_metric=error, max_depth=7, tree_method=hist, use_label_encoder=False; total time=   0.2s\n",
            "[CV] END eta=0.01, eval_metric=error, max_depth=7, tree_method=hist, use_label_encoder=False; total time=   0.2s\n",
            "[CV] END eta=0.05, eval_metric=rmse, max_depth=4, tree_method=auto, use_label_encoder=False; total time=   0.1s\n",
            "[CV] END eta=0.05, eval_metric=rmse, max_depth=4, tree_method=auto, use_label_encoder=False; total time=   0.1s\n",
            "[CV] END eta=0.05, eval_metric=rmse, max_depth=4, tree_method=auto, use_label_encoder=False; total time=   0.1s\n",
            "[CV] END eta=0.05, eval_metric=rmse, max_depth=4, tree_method=exact, use_label_encoder=False; total time=   0.3s\n",
            "[CV] END eta=0.05, eval_metric=rmse, max_depth=4, tree_method=exact, use_label_encoder=False; total time=   0.3s\n",
            "[CV] END eta=0.05, eval_metric=rmse, max_depth=4, tree_method=exact, use_label_encoder=False; total time=   0.3s\n",
            "[CV] END eta=0.05, eval_metric=rmse, max_depth=4, tree_method=approx, use_label_encoder=False; total time=   0.3s\n",
            "[CV] END eta=0.05, eval_metric=rmse, max_depth=4, tree_method=approx, use_label_encoder=False; total time=   0.3s\n",
            "[CV] END eta=0.05, eval_metric=rmse, max_depth=4, tree_method=approx, use_label_encoder=False; total time=   0.3s\n",
            "[CV] END eta=0.05, eval_metric=rmse, max_depth=4, tree_method=hist, use_label_encoder=False; total time=   0.1s\n",
            "[CV] END eta=0.05, eval_metric=rmse, max_depth=4, tree_method=hist, use_label_encoder=False; total time=   0.1s\n",
            "[CV] END eta=0.05, eval_metric=rmse, max_depth=4, tree_method=hist, use_label_encoder=False; total time=   0.1s\n",
            "[CV] END eta=0.05, eval_metric=rmse, max_depth=5, tree_method=auto, use_label_encoder=False; total time=   0.1s\n",
            "[CV] END eta=0.05, eval_metric=rmse, max_depth=5, tree_method=auto, use_label_encoder=False; total time=   0.1s\n",
            "[CV] END eta=0.05, eval_metric=rmse, max_depth=5, tree_method=auto, use_label_encoder=False; total time=   0.1s\n",
            "[CV] END eta=0.05, eval_metric=rmse, max_depth=5, tree_method=exact, use_label_encoder=False; total time=   0.6s\n",
            "[CV] END eta=0.05, eval_metric=rmse, max_depth=5, tree_method=exact, use_label_encoder=False; total time=   2.8s\n",
            "[CV] END eta=0.05, eval_metric=rmse, max_depth=5, tree_method=exact, use_label_encoder=False; total time=   0.8s\n",
            "[CV] END eta=0.05, eval_metric=rmse, max_depth=5, tree_method=approx, use_label_encoder=False; total time=   0.4s\n",
            "[CV] END eta=0.05, eval_metric=rmse, max_depth=5, tree_method=approx, use_label_encoder=False; total time=   0.4s\n",
            "[CV] END eta=0.05, eval_metric=rmse, max_depth=5, tree_method=approx, use_label_encoder=False; total time=   0.4s\n",
            "[CV] END eta=0.05, eval_metric=rmse, max_depth=5, tree_method=hist, use_label_encoder=False; total time=   0.1s\n",
            "[CV] END eta=0.05, eval_metric=rmse, max_depth=5, tree_method=hist, use_label_encoder=False; total time=   0.1s\n",
            "[CV] END eta=0.05, eval_metric=rmse, max_depth=5, tree_method=hist, use_label_encoder=False; total time=   0.1s\n",
            "[CV] END eta=0.05, eval_metric=rmse, max_depth=6, tree_method=auto, use_label_encoder=False; total time=   0.2s\n",
            "[CV] END eta=0.05, eval_metric=rmse, max_depth=6, tree_method=auto, use_label_encoder=False; total time=   0.2s\n",
            "[CV] END eta=0.05, eval_metric=rmse, max_depth=6, tree_method=auto, use_label_encoder=False; total time=   0.2s\n",
            "[CV] END eta=0.05, eval_metric=rmse, max_depth=6, tree_method=exact, use_label_encoder=False; total time=   0.4s\n",
            "[CV] END eta=0.05, eval_metric=rmse, max_depth=6, tree_method=exact, use_label_encoder=False; total time=   0.5s\n",
            "[CV] END eta=0.05, eval_metric=rmse, max_depth=6, tree_method=exact, use_label_encoder=False; total time=   0.4s\n",
            "[CV] END eta=0.05, eval_metric=rmse, max_depth=6, tree_method=approx, use_label_encoder=False; total time=   0.4s\n",
            "[CV] END eta=0.05, eval_metric=rmse, max_depth=6, tree_method=approx, use_label_encoder=False; total time=   0.4s\n",
            "[CV] END eta=0.05, eval_metric=rmse, max_depth=6, tree_method=approx, use_label_encoder=False; total time=   0.4s\n",
            "[CV] END eta=0.05, eval_metric=rmse, max_depth=6, tree_method=hist, use_label_encoder=False; total time=   0.1s\n",
            "[CV] END eta=0.05, eval_metric=rmse, max_depth=6, tree_method=hist, use_label_encoder=False; total time=   0.2s\n",
            "[CV] END eta=0.05, eval_metric=rmse, max_depth=6, tree_method=hist, use_label_encoder=False; total time=   0.2s\n",
            "[CV] END eta=0.05, eval_metric=rmse, max_depth=7, tree_method=auto, use_label_encoder=False; total time=   0.2s\n",
            "[CV] END eta=0.05, eval_metric=rmse, max_depth=7, tree_method=auto, use_label_encoder=False; total time=   0.2s\n",
            "[CV] END eta=0.05, eval_metric=rmse, max_depth=7, tree_method=auto, use_label_encoder=False; total time=   0.2s\n",
            "[CV] END eta=0.05, eval_metric=rmse, max_depth=7, tree_method=exact, use_label_encoder=False; total time=   0.5s\n",
            "[CV] END eta=0.05, eval_metric=rmse, max_depth=7, tree_method=exact, use_label_encoder=False; total time=   0.5s\n",
            "[CV] END eta=0.05, eval_metric=rmse, max_depth=7, tree_method=exact, use_label_encoder=False; total time=   0.6s\n",
            "[CV] END eta=0.05, eval_metric=rmse, max_depth=7, tree_method=approx, use_label_encoder=False; total time=   0.5s\n",
            "[CV] END eta=0.05, eval_metric=rmse, max_depth=7, tree_method=approx, use_label_encoder=False; total time=   0.5s\n",
            "[CV] END eta=0.05, eval_metric=rmse, max_depth=7, tree_method=approx, use_label_encoder=False; total time=   0.5s\n",
            "[CV] END eta=0.05, eval_metric=rmse, max_depth=7, tree_method=hist, use_label_encoder=False; total time=   0.2s\n",
            "[CV] END eta=0.05, eval_metric=rmse, max_depth=7, tree_method=hist, use_label_encoder=False; total time=   0.2s\n",
            "[CV] END eta=0.05, eval_metric=rmse, max_depth=7, tree_method=hist, use_label_encoder=False; total time=   0.2s\n",
            "[CV] END eta=0.05, eval_metric=mae, max_depth=4, tree_method=auto, use_label_encoder=False; total time=   0.1s\n",
            "[CV] END eta=0.05, eval_metric=mae, max_depth=4, tree_method=auto, use_label_encoder=False; total time=   0.1s\n",
            "[CV] END eta=0.05, eval_metric=mae, max_depth=4, tree_method=auto, use_label_encoder=False; total time=   0.1s\n",
            "[CV] END eta=0.05, eval_metric=mae, max_depth=4, tree_method=exact, use_label_encoder=False; total time=   0.6s\n",
            "[CV] END eta=0.05, eval_metric=mae, max_depth=4, tree_method=exact, use_label_encoder=False; total time=   1.4s\n",
            "[CV] END eta=0.05, eval_metric=mae, max_depth=4, tree_method=exact, use_label_encoder=False; total time=   0.8s\n",
            "[CV] END eta=0.05, eval_metric=mae, max_depth=4, tree_method=approx, use_label_encoder=False; total time=   1.5s\n",
            "[CV] END eta=0.05, eval_metric=mae, max_depth=4, tree_method=approx, use_label_encoder=False; total time=   0.4s\n",
            "[CV] END eta=0.05, eval_metric=mae, max_depth=4, tree_method=approx, use_label_encoder=False; total time=   0.3s\n",
            "[CV] END eta=0.05, eval_metric=mae, max_depth=4, tree_method=hist, use_label_encoder=False; total time=   0.1s\n",
            "[CV] END eta=0.05, eval_metric=mae, max_depth=4, tree_method=hist, use_label_encoder=False; total time=   0.1s\n",
            "[CV] END eta=0.05, eval_metric=mae, max_depth=4, tree_method=hist, use_label_encoder=False; total time=   0.1s\n",
            "[CV] END eta=0.05, eval_metric=mae, max_depth=5, tree_method=auto, use_label_encoder=False; total time=   0.1s\n",
            "[CV] END eta=0.05, eval_metric=mae, max_depth=5, tree_method=auto, use_label_encoder=False; total time=   0.1s\n",
            "[CV] END eta=0.05, eval_metric=mae, max_depth=5, tree_method=auto, use_label_encoder=False; total time=   0.1s\n",
            "[CV] END eta=0.05, eval_metric=mae, max_depth=5, tree_method=exact, use_label_encoder=False; total time=   0.4s\n",
            "[CV] END eta=0.05, eval_metric=mae, max_depth=5, tree_method=exact, use_label_encoder=False; total time=   0.4s\n",
            "[CV] END eta=0.05, eval_metric=mae, max_depth=5, tree_method=exact, use_label_encoder=False; total time=   0.4s\n",
            "[CV] END eta=0.05, eval_metric=mae, max_depth=5, tree_method=approx, use_label_encoder=False; total time=   0.4s\n",
            "[CV] END eta=0.05, eval_metric=mae, max_depth=5, tree_method=approx, use_label_encoder=False; total time=   0.4s\n",
            "[CV] END eta=0.05, eval_metric=mae, max_depth=5, tree_method=approx, use_label_encoder=False; total time=   0.4s\n",
            "[CV] END eta=0.05, eval_metric=mae, max_depth=5, tree_method=hist, use_label_encoder=False; total time=   0.1s\n",
            "[CV] END eta=0.05, eval_metric=mae, max_depth=5, tree_method=hist, use_label_encoder=False; total time=   0.1s\n",
            "[CV] END eta=0.05, eval_metric=mae, max_depth=5, tree_method=hist, use_label_encoder=False; total time=   0.1s\n",
            "[CV] END eta=0.05, eval_metric=mae, max_depth=6, tree_method=auto, use_label_encoder=False; total time=   0.1s\n",
            "[CV] END eta=0.05, eval_metric=mae, max_depth=6, tree_method=auto, use_label_encoder=False; total time=   0.2s\n",
            "[CV] END eta=0.05, eval_metric=mae, max_depth=6, tree_method=auto, use_label_encoder=False; total time=   0.2s\n",
            "[CV] END eta=0.05, eval_metric=mae, max_depth=6, tree_method=exact, use_label_encoder=False; total time=   0.4s\n",
            "[CV] END eta=0.05, eval_metric=mae, max_depth=6, tree_method=exact, use_label_encoder=False; total time=   0.5s\n",
            "[CV] END eta=0.05, eval_metric=mae, max_depth=6, tree_method=exact, use_label_encoder=False; total time=   0.5s\n",
            "[CV] END eta=0.05, eval_metric=mae, max_depth=6, tree_method=approx, use_label_encoder=False; total time=   0.4s\n",
            "[CV] END eta=0.05, eval_metric=mae, max_depth=6, tree_method=approx, use_label_encoder=False; total time=   0.4s\n",
            "[CV] END eta=0.05, eval_metric=mae, max_depth=6, tree_method=approx, use_label_encoder=False; total time=   0.4s\n",
            "[CV] END eta=0.05, eval_metric=mae, max_depth=6, tree_method=hist, use_label_encoder=False; total time=   0.1s\n",
            "[CV] END eta=0.05, eval_metric=mae, max_depth=6, tree_method=hist, use_label_encoder=False; total time=   0.2s\n",
            "[CV] END eta=0.05, eval_metric=mae, max_depth=6, tree_method=hist, use_label_encoder=False; total time=   0.2s\n",
            "[CV] END eta=0.05, eval_metric=mae, max_depth=7, tree_method=auto, use_label_encoder=False; total time=   0.2s\n",
            "[CV] END eta=0.05, eval_metric=mae, max_depth=7, tree_method=auto, use_label_encoder=False; total time=   0.2s\n",
            "[CV] END eta=0.05, eval_metric=mae, max_depth=7, tree_method=auto, use_label_encoder=False; total time=   0.2s\n",
            "[CV] END eta=0.05, eval_metric=mae, max_depth=7, tree_method=exact, use_label_encoder=False; total time=   0.6s\n",
            "[CV] END eta=0.05, eval_metric=mae, max_depth=7, tree_method=exact, use_label_encoder=False; total time=   0.5s\n",
            "[CV] END eta=0.05, eval_metric=mae, max_depth=7, tree_method=exact, use_label_encoder=False; total time=   0.6s\n",
            "[CV] END eta=0.05, eval_metric=mae, max_depth=7, tree_method=approx, use_label_encoder=False; total time=   0.8s\n",
            "[CV] END eta=0.05, eval_metric=mae, max_depth=7, tree_method=approx, use_label_encoder=False; total time=   2.8s\n",
            "[CV] END eta=0.05, eval_metric=mae, max_depth=7, tree_method=approx, use_label_encoder=False; total time=   0.8s\n",
            "[CV] END eta=0.05, eval_metric=mae, max_depth=7, tree_method=hist, use_label_encoder=False; total time=   0.2s\n",
            "[CV] END eta=0.05, eval_metric=mae, max_depth=7, tree_method=hist, use_label_encoder=False; total time=   0.2s\n",
            "[CV] END eta=0.05, eval_metric=mae, max_depth=7, tree_method=hist, use_label_encoder=False; total time=   0.2s\n",
            "[CV] END eta=0.05, eval_metric=logloss, max_depth=4, tree_method=auto, use_label_encoder=False; total time=   0.1s\n",
            "[CV] END eta=0.05, eval_metric=logloss, max_depth=4, tree_method=auto, use_label_encoder=False; total time=   0.1s\n",
            "[CV] END eta=0.05, eval_metric=logloss, max_depth=4, tree_method=auto, use_label_encoder=False; total time=   0.1s\n",
            "[CV] END eta=0.05, eval_metric=logloss, max_depth=4, tree_method=exact, use_label_encoder=False; total time=   0.3s\n",
            "[CV] END eta=0.05, eval_metric=logloss, max_depth=4, tree_method=exact, use_label_encoder=False; total time=   0.3s\n",
            "[CV] END eta=0.05, eval_metric=logloss, max_depth=4, tree_method=exact, use_label_encoder=False; total time=   0.3s\n",
            "[CV] END eta=0.05, eval_metric=logloss, max_depth=4, tree_method=approx, use_label_encoder=False; total time=   0.3s\n",
            "[CV] END eta=0.05, eval_metric=logloss, max_depth=4, tree_method=approx, use_label_encoder=False; total time=   0.4s\n",
            "[CV] END eta=0.05, eval_metric=logloss, max_depth=4, tree_method=approx, use_label_encoder=False; total time=   0.3s\n",
            "[CV] END eta=0.05, eval_metric=logloss, max_depth=4, tree_method=hist, use_label_encoder=False; total time=   0.1s\n",
            "[CV] END eta=0.05, eval_metric=logloss, max_depth=4, tree_method=hist, use_label_encoder=False; total time=   0.1s\n",
            "[CV] END eta=0.05, eval_metric=logloss, max_depth=4, tree_method=hist, use_label_encoder=False; total time=   0.1s\n",
            "[CV] END eta=0.05, eval_metric=logloss, max_depth=5, tree_method=auto, use_label_encoder=False; total time=   0.1s\n",
            "[CV] END eta=0.05, eval_metric=logloss, max_depth=5, tree_method=auto, use_label_encoder=False; total time=   0.1s\n",
            "[CV] END eta=0.05, eval_metric=logloss, max_depth=5, tree_method=auto, use_label_encoder=False; total time=   0.1s\n",
            "[CV] END eta=0.05, eval_metric=logloss, max_depth=5, tree_method=exact, use_label_encoder=False; total time=   0.4s\n",
            "[CV] END eta=0.05, eval_metric=logloss, max_depth=5, tree_method=exact, use_label_encoder=False; total time=   0.4s\n",
            "[CV] END eta=0.05, eval_metric=logloss, max_depth=5, tree_method=exact, use_label_encoder=False; total time=   0.4s\n",
            "[CV] END eta=0.05, eval_metric=logloss, max_depth=5, tree_method=approx, use_label_encoder=False; total time=   0.4s\n",
            "[CV] END eta=0.05, eval_metric=logloss, max_depth=5, tree_method=approx, use_label_encoder=False; total time=   0.4s\n",
            "[CV] END eta=0.05, eval_metric=logloss, max_depth=5, tree_method=approx, use_label_encoder=False; total time=   0.4s\n",
            "[CV] END eta=0.05, eval_metric=logloss, max_depth=5, tree_method=hist, use_label_encoder=False; total time=   0.1s\n",
            "[CV] END eta=0.05, eval_metric=logloss, max_depth=5, tree_method=hist, use_label_encoder=False; total time=   0.1s\n",
            "[CV] END eta=0.05, eval_metric=logloss, max_depth=5, tree_method=hist, use_label_encoder=False; total time=   0.1s\n",
            "[CV] END eta=0.05, eval_metric=logloss, max_depth=6, tree_method=auto, use_label_encoder=False; total time=   0.2s\n",
            "[CV] END eta=0.05, eval_metric=logloss, max_depth=6, tree_method=auto, use_label_encoder=False; total time=   0.2s\n",
            "[CV] END eta=0.05, eval_metric=logloss, max_depth=6, tree_method=auto, use_label_encoder=False; total time=   0.2s\n",
            "[CV] END eta=0.05, eval_metric=logloss, max_depth=6, tree_method=exact, use_label_encoder=False; total time=   0.4s\n",
            "[CV] END eta=0.05, eval_metric=logloss, max_depth=6, tree_method=exact, use_label_encoder=False; total time=   0.4s\n",
            "[CV] END eta=0.05, eval_metric=logloss, max_depth=6, tree_method=exact, use_label_encoder=False; total time=   0.5s\n",
            "[CV] END eta=0.05, eval_metric=logloss, max_depth=6, tree_method=approx, use_label_encoder=False; total time=   0.4s\n",
            "[CV] END eta=0.05, eval_metric=logloss, max_depth=6, tree_method=approx, use_label_encoder=False; total time=   0.4s\n",
            "[CV] END eta=0.05, eval_metric=logloss, max_depth=6, tree_method=approx, use_label_encoder=False; total time=   0.4s\n",
            "[CV] END eta=0.05, eval_metric=logloss, max_depth=6, tree_method=hist, use_label_encoder=False; total time=   0.1s\n",
            "[CV] END eta=0.05, eval_metric=logloss, max_depth=6, tree_method=hist, use_label_encoder=False; total time=   0.2s\n",
            "[CV] END eta=0.05, eval_metric=logloss, max_depth=6, tree_method=hist, use_label_encoder=False; total time=   0.2s\n",
            "[CV] END eta=0.05, eval_metric=logloss, max_depth=7, tree_method=auto, use_label_encoder=False; total time=   1.1s\n",
            "[CV] END eta=0.05, eval_metric=logloss, max_depth=7, tree_method=auto, use_label_encoder=False; total time=   1.4s\n",
            "[CV] END eta=0.05, eval_metric=logloss, max_depth=7, tree_method=auto, use_label_encoder=False; total time=   0.7s\n",
            "[CV] END eta=0.05, eval_metric=logloss, max_depth=7, tree_method=exact, use_label_encoder=False; total time=   0.9s\n",
            "[CV] END eta=0.05, eval_metric=logloss, max_depth=7, tree_method=exact, use_label_encoder=False; total time=   0.5s\n",
            "[CV] END eta=0.05, eval_metric=logloss, max_depth=7, tree_method=exact, use_label_encoder=False; total time=   0.5s\n",
            "[CV] END eta=0.05, eval_metric=logloss, max_depth=7, tree_method=approx, use_label_encoder=False; total time=   0.5s\n",
            "[CV] END eta=0.05, eval_metric=logloss, max_depth=7, tree_method=approx, use_label_encoder=False; total time=   0.5s\n",
            "[CV] END eta=0.05, eval_metric=logloss, max_depth=7, tree_method=approx, use_label_encoder=False; total time=   0.5s\n",
            "[CV] END eta=0.05, eval_metric=logloss, max_depth=7, tree_method=hist, use_label_encoder=False; total time=   0.2s\n",
            "[CV] END eta=0.05, eval_metric=logloss, max_depth=7, tree_method=hist, use_label_encoder=False; total time=   0.2s\n",
            "[CV] END eta=0.05, eval_metric=logloss, max_depth=7, tree_method=hist, use_label_encoder=False; total time=   0.2s\n",
            "[CV] END eta=0.05, eval_metric=error, max_depth=4, tree_method=auto, use_label_encoder=False; total time=   0.1s\n",
            "[CV] END eta=0.05, eval_metric=error, max_depth=4, tree_method=auto, use_label_encoder=False; total time=   0.1s\n",
            "[CV] END eta=0.05, eval_metric=error, max_depth=4, tree_method=auto, use_label_encoder=False; total time=   0.1s\n",
            "[CV] END eta=0.05, eval_metric=error, max_depth=4, tree_method=exact, use_label_encoder=False; total time=   0.3s\n",
            "[CV] END eta=0.05, eval_metric=error, max_depth=4, tree_method=exact, use_label_encoder=False; total time=   0.3s\n",
            "[CV] END eta=0.05, eval_metric=error, max_depth=4, tree_method=exact, use_label_encoder=False; total time=   0.3s\n",
            "[CV] END eta=0.05, eval_metric=error, max_depth=4, tree_method=approx, use_label_encoder=False; total time=   0.3s\n",
            "[CV] END eta=0.05, eval_metric=error, max_depth=4, tree_method=approx, use_label_encoder=False; total time=   0.4s\n",
            "[CV] END eta=0.05, eval_metric=error, max_depth=4, tree_method=approx, use_label_encoder=False; total time=   0.3s\n",
            "[CV] END eta=0.05, eval_metric=error, max_depth=4, tree_method=hist, use_label_encoder=False; total time=   0.1s\n",
            "[CV] END eta=0.05, eval_metric=error, max_depth=4, tree_method=hist, use_label_encoder=False; total time=   0.1s\n",
            "[CV] END eta=0.05, eval_metric=error, max_depth=4, tree_method=hist, use_label_encoder=False; total time=   0.1s\n",
            "[CV] END eta=0.05, eval_metric=error, max_depth=5, tree_method=auto, use_label_encoder=False; total time=   0.1s\n",
            "[CV] END eta=0.05, eval_metric=error, max_depth=5, tree_method=auto, use_label_encoder=False; total time=   0.1s\n",
            "[CV] END eta=0.05, eval_metric=error, max_depth=5, tree_method=auto, use_label_encoder=False; total time=   0.1s\n",
            "[CV] END eta=0.05, eval_metric=error, max_depth=5, tree_method=exact, use_label_encoder=False; total time=   0.4s\n",
            "[CV] END eta=0.05, eval_metric=error, max_depth=5, tree_method=exact, use_label_encoder=False; total time=   0.4s\n",
            "[CV] END eta=0.05, eval_metric=error, max_depth=5, tree_method=exact, use_label_encoder=False; total time=   0.4s\n",
            "[CV] END eta=0.05, eval_metric=error, max_depth=5, tree_method=approx, use_label_encoder=False; total time=   0.4s\n",
            "[CV] END eta=0.05, eval_metric=error, max_depth=5, tree_method=approx, use_label_encoder=False; total time=   0.4s\n",
            "[CV] END eta=0.05, eval_metric=error, max_depth=5, tree_method=approx, use_label_encoder=False; total time=   0.4s\n",
            "[CV] END eta=0.05, eval_metric=error, max_depth=5, tree_method=hist, use_label_encoder=False; total time=   0.1s\n",
            "[CV] END eta=0.05, eval_metric=error, max_depth=5, tree_method=hist, use_label_encoder=False; total time=   0.1s\n",
            "[CV] END eta=0.05, eval_metric=error, max_depth=5, tree_method=hist, use_label_encoder=False; total time=   0.1s\n",
            "[CV] END eta=0.05, eval_metric=error, max_depth=6, tree_method=auto, use_label_encoder=False; total time=   0.1s\n",
            "[CV] END eta=0.05, eval_metric=error, max_depth=6, tree_method=auto, use_label_encoder=False; total time=   0.2s\n",
            "[CV] END eta=0.05, eval_metric=error, max_depth=6, tree_method=auto, use_label_encoder=False; total time=   0.2s\n",
            "[CV] END eta=0.05, eval_metric=error, max_depth=6, tree_method=exact, use_label_encoder=False; total time=   0.4s\n",
            "[CV] END eta=0.05, eval_metric=error, max_depth=6, tree_method=exact, use_label_encoder=False; total time=   0.9s\n",
            "[CV] END eta=0.05, eval_metric=error, max_depth=6, tree_method=exact, use_label_encoder=False; total time=   2.8s\n",
            "[CV] END eta=0.05, eval_metric=error, max_depth=6, tree_method=approx, use_label_encoder=False; total time=   0.6s\n",
            "[CV] END eta=0.05, eval_metric=error, max_depth=6, tree_method=approx, use_label_encoder=False; total time=   0.4s\n",
            "[CV] END eta=0.05, eval_metric=error, max_depth=6, tree_method=approx, use_label_encoder=False; total time=   0.4s\n",
            "[CV] END eta=0.05, eval_metric=error, max_depth=6, tree_method=hist, use_label_encoder=False; total time=   0.1s\n",
            "[CV] END eta=0.05, eval_metric=error, max_depth=6, tree_method=hist, use_label_encoder=False; total time=   0.2s\n",
            "[CV] END eta=0.05, eval_metric=error, max_depth=6, tree_method=hist, use_label_encoder=False; total time=   0.2s\n",
            "[CV] END eta=0.05, eval_metric=error, max_depth=7, tree_method=auto, use_label_encoder=False; total time=   0.2s\n",
            "[CV] END eta=0.05, eval_metric=error, max_depth=7, tree_method=auto, use_label_encoder=False; total time=   0.2s\n",
            "[CV] END eta=0.05, eval_metric=error, max_depth=7, tree_method=auto, use_label_encoder=False; total time=   0.2s\n",
            "[CV] END eta=0.05, eval_metric=error, max_depth=7, tree_method=exact, use_label_encoder=False; total time=   0.6s\n",
            "[CV] END eta=0.05, eval_metric=error, max_depth=7, tree_method=exact, use_label_encoder=False; total time=   0.5s\n",
            "[CV] END eta=0.05, eval_metric=error, max_depth=7, tree_method=exact, use_label_encoder=False; total time=   0.6s\n",
            "[CV] END eta=0.05, eval_metric=error, max_depth=7, tree_method=approx, use_label_encoder=False; total time=   0.5s\n",
            "[CV] END eta=0.05, eval_metric=error, max_depth=7, tree_method=approx, use_label_encoder=False; total time=   0.5s\n",
            "[CV] END eta=0.05, eval_metric=error, max_depth=7, tree_method=approx, use_label_encoder=False; total time=   0.5s\n",
            "[CV] END eta=0.05, eval_metric=error, max_depth=7, tree_method=hist, use_label_encoder=False; total time=   0.2s\n",
            "[CV] END eta=0.05, eval_metric=error, max_depth=7, tree_method=hist, use_label_encoder=False; total time=   0.2s\n",
            "[CV] END eta=0.05, eval_metric=error, max_depth=7, tree_method=hist, use_label_encoder=False; total time=   0.2s\n",
            "[CV] END eta=0.1, eval_metric=rmse, max_depth=4, tree_method=auto, use_label_encoder=False; total time=   0.1s\n",
            "[CV] END eta=0.1, eval_metric=rmse, max_depth=4, tree_method=auto, use_label_encoder=False; total time=   0.1s\n",
            "[CV] END eta=0.1, eval_metric=rmse, max_depth=4, tree_method=auto, use_label_encoder=False; total time=   0.1s\n",
            "[CV] END eta=0.1, eval_metric=rmse, max_depth=4, tree_method=exact, use_label_encoder=False; total time=   0.3s\n",
            "[CV] END eta=0.1, eval_metric=rmse, max_depth=4, tree_method=exact, use_label_encoder=False; total time=   0.3s\n",
            "[CV] END eta=0.1, eval_metric=rmse, max_depth=4, tree_method=exact, use_label_encoder=False; total time=   0.3s\n",
            "[CV] END eta=0.1, eval_metric=rmse, max_depth=4, tree_method=approx, use_label_encoder=False; total time=   0.3s\n",
            "[CV] END eta=0.1, eval_metric=rmse, max_depth=4, tree_method=approx, use_label_encoder=False; total time=   0.3s\n",
            "[CV] END eta=0.1, eval_metric=rmse, max_depth=4, tree_method=approx, use_label_encoder=False; total time=   0.3s\n",
            "[CV] END eta=0.1, eval_metric=rmse, max_depth=4, tree_method=hist, use_label_encoder=False; total time=   0.1s\n",
            "[CV] END eta=0.1, eval_metric=rmse, max_depth=4, tree_method=hist, use_label_encoder=False; total time=   0.1s\n",
            "[CV] END eta=0.1, eval_metric=rmse, max_depth=4, tree_method=hist, use_label_encoder=False; total time=   0.1s\n",
            "[CV] END eta=0.1, eval_metric=rmse, max_depth=5, tree_method=auto, use_label_encoder=False; total time=   0.1s\n",
            "[CV] END eta=0.1, eval_metric=rmse, max_depth=5, tree_method=auto, use_label_encoder=False; total time=   0.1s\n",
            "[CV] END eta=0.1, eval_metric=rmse, max_depth=5, tree_method=auto, use_label_encoder=False; total time=   0.1s\n",
            "[CV] END eta=0.1, eval_metric=rmse, max_depth=5, tree_method=exact, use_label_encoder=False; total time=   0.4s\n",
            "[CV] END eta=0.1, eval_metric=rmse, max_depth=5, tree_method=exact, use_label_encoder=False; total time=   0.4s\n",
            "[CV] END eta=0.1, eval_metric=rmse, max_depth=5, tree_method=exact, use_label_encoder=False; total time=   0.4s\n",
            "[CV] END eta=0.1, eval_metric=rmse, max_depth=5, tree_method=approx, use_label_encoder=False; total time=   0.5s\n",
            "[CV] END eta=0.1, eval_metric=rmse, max_depth=5, tree_method=approx, use_label_encoder=False; total time=   2.8s\n",
            "[CV] END eta=0.1, eval_metric=rmse, max_depth=5, tree_method=approx, use_label_encoder=False; total time=   0.9s\n",
            "[CV] END eta=0.1, eval_metric=rmse, max_depth=5, tree_method=hist, use_label_encoder=False; total time=   0.1s\n",
            "[CV] END eta=0.1, eval_metric=rmse, max_depth=5, tree_method=hist, use_label_encoder=False; total time=   0.1s\n",
            "[CV] END eta=0.1, eval_metric=rmse, max_depth=5, tree_method=hist, use_label_encoder=False; total time=   0.1s\n",
            "[CV] END eta=0.1, eval_metric=rmse, max_depth=6, tree_method=auto, use_label_encoder=False; total time=   0.1s\n",
            "[CV] END eta=0.1, eval_metric=rmse, max_depth=6, tree_method=auto, use_label_encoder=False; total time=   0.1s\n",
            "[CV] END eta=0.1, eval_metric=rmse, max_depth=6, tree_method=auto, use_label_encoder=False; total time=   0.1s\n",
            "[CV] END eta=0.1, eval_metric=rmse, max_depth=6, tree_method=exact, use_label_encoder=False; total time=   0.4s\n",
            "[CV] END eta=0.1, eval_metric=rmse, max_depth=6, tree_method=exact, use_label_encoder=False; total time=   0.4s\n",
            "[CV] END eta=0.1, eval_metric=rmse, max_depth=6, tree_method=exact, use_label_encoder=False; total time=   0.4s\n",
            "[CV] END eta=0.1, eval_metric=rmse, max_depth=6, tree_method=approx, use_label_encoder=False; total time=   0.4s\n",
            "[CV] END eta=0.1, eval_metric=rmse, max_depth=6, tree_method=approx, use_label_encoder=False; total time=   0.4s\n",
            "[CV] END eta=0.1, eval_metric=rmse, max_depth=6, tree_method=approx, use_label_encoder=False; total time=   0.4s\n",
            "[CV] END eta=0.1, eval_metric=rmse, max_depth=6, tree_method=hist, use_label_encoder=False; total time=   0.1s\n",
            "[CV] END eta=0.1, eval_metric=rmse, max_depth=6, tree_method=hist, use_label_encoder=False; total time=   0.1s\n",
            "[CV] END eta=0.1, eval_metric=rmse, max_depth=6, tree_method=hist, use_label_encoder=False; total time=   0.1s\n",
            "[CV] END eta=0.1, eval_metric=rmse, max_depth=7, tree_method=auto, use_label_encoder=False; total time=   0.2s\n",
            "[CV] END eta=0.1, eval_metric=rmse, max_depth=7, tree_method=auto, use_label_encoder=False; total time=   0.2s\n",
            "[CV] END eta=0.1, eval_metric=rmse, max_depth=7, tree_method=auto, use_label_encoder=False; total time=   0.2s\n",
            "[CV] END eta=0.1, eval_metric=rmse, max_depth=7, tree_method=exact, use_label_encoder=False; total time=   0.5s\n",
            "[CV] END eta=0.1, eval_metric=rmse, max_depth=7, tree_method=exact, use_label_encoder=False; total time=   0.5s\n",
            "[CV] END eta=0.1, eval_metric=rmse, max_depth=7, tree_method=exact, use_label_encoder=False; total time=   0.5s\n",
            "[CV] END eta=0.1, eval_metric=rmse, max_depth=7, tree_method=approx, use_label_encoder=False; total time=   0.5s\n",
            "[CV] END eta=0.1, eval_metric=rmse, max_depth=7, tree_method=approx, use_label_encoder=False; total time=   0.4s\n",
            "[CV] END eta=0.1, eval_metric=rmse, max_depth=7, tree_method=approx, use_label_encoder=False; total time=   0.5s\n",
            "[CV] END eta=0.1, eval_metric=rmse, max_depth=7, tree_method=hist, use_label_encoder=False; total time=   0.2s\n",
            "[CV] END eta=0.1, eval_metric=rmse, max_depth=7, tree_method=hist, use_label_encoder=False; total time=   0.2s\n",
            "[CV] END eta=0.1, eval_metric=rmse, max_depth=7, tree_method=hist, use_label_encoder=False; total time=   0.2s\n",
            "[CV] END eta=0.1, eval_metric=mae, max_depth=4, tree_method=auto, use_label_encoder=False; total time=   0.1s\n",
            "[CV] END eta=0.1, eval_metric=mae, max_depth=4, tree_method=auto, use_label_encoder=False; total time=   0.1s\n",
            "[CV] END eta=0.1, eval_metric=mae, max_depth=4, tree_method=auto, use_label_encoder=False; total time=   0.1s\n",
            "[CV] END eta=0.1, eval_metric=mae, max_depth=4, tree_method=exact, use_label_encoder=False; total time=   0.3s\n",
            "[CV] END eta=0.1, eval_metric=mae, max_depth=4, tree_method=exact, use_label_encoder=False; total time=   0.3s\n",
            "[CV] END eta=0.1, eval_metric=mae, max_depth=4, tree_method=exact, use_label_encoder=False; total time=   0.3s\n",
            "[CV] END eta=0.1, eval_metric=mae, max_depth=4, tree_method=approx, use_label_encoder=False; total time=   0.3s\n",
            "[CV] END eta=0.1, eval_metric=mae, max_depth=4, tree_method=approx, use_label_encoder=False; total time=   0.4s\n",
            "[CV] END eta=0.1, eval_metric=mae, max_depth=4, tree_method=approx, use_label_encoder=False; total time=   0.4s\n",
            "[CV] END eta=0.1, eval_metric=mae, max_depth=4, tree_method=hist, use_label_encoder=False; total time=   0.2s\n",
            "[CV] END eta=0.1, eval_metric=mae, max_depth=4, tree_method=hist, use_label_encoder=False; total time=   0.3s\n",
            "[CV] END eta=0.1, eval_metric=mae, max_depth=4, tree_method=hist, use_label_encoder=False; total time=   1.2s\n",
            "[CV] END eta=0.1, eval_metric=mae, max_depth=5, tree_method=auto, use_label_encoder=False; total time=   0.4s\n",
            "[CV] END eta=0.1, eval_metric=mae, max_depth=5, tree_method=auto, use_label_encoder=False; total time=   0.6s\n",
            "[CV] END eta=0.1, eval_metric=mae, max_depth=5, tree_method=auto, use_label_encoder=False; total time=   0.6s\n",
            "[CV] END eta=0.1, eval_metric=mae, max_depth=5, tree_method=exact, use_label_encoder=False; total time=   0.7s\n",
            "[CV] END eta=0.1, eval_metric=mae, max_depth=5, tree_method=exact, use_label_encoder=False; total time=   0.3s\n",
            "[CV] END eta=0.1, eval_metric=mae, max_depth=5, tree_method=exact, use_label_encoder=False; total time=   0.4s\n",
            "[CV] END eta=0.1, eval_metric=mae, max_depth=5, tree_method=approx, use_label_encoder=False; total time=   0.4s\n",
            "[CV] END eta=0.1, eval_metric=mae, max_depth=5, tree_method=approx, use_label_encoder=False; total time=   0.4s\n",
            "[CV] END eta=0.1, eval_metric=mae, max_depth=5, tree_method=approx, use_label_encoder=False; total time=   0.4s\n",
            "[CV] END eta=0.1, eval_metric=mae, max_depth=5, tree_method=hist, use_label_encoder=False; total time=   0.1s\n",
            "[CV] END eta=0.1, eval_metric=mae, max_depth=5, tree_method=hist, use_label_encoder=False; total time=   0.1s\n",
            "[CV] END eta=0.1, eval_metric=mae, max_depth=5, tree_method=hist, use_label_encoder=False; total time=   0.1s\n",
            "[CV] END eta=0.1, eval_metric=mae, max_depth=6, tree_method=auto, use_label_encoder=False; total time=   0.1s\n",
            "[CV] END eta=0.1, eval_metric=mae, max_depth=6, tree_method=auto, use_label_encoder=False; total time=   0.1s\n",
            "[CV] END eta=0.1, eval_metric=mae, max_depth=6, tree_method=auto, use_label_encoder=False; total time=   0.2s\n",
            "[CV] END eta=0.1, eval_metric=mae, max_depth=6, tree_method=exact, use_label_encoder=False; total time=   0.4s\n",
            "[CV] END eta=0.1, eval_metric=mae, max_depth=6, tree_method=exact, use_label_encoder=False; total time=   0.4s\n",
            "[CV] END eta=0.1, eval_metric=mae, max_depth=6, tree_method=exact, use_label_encoder=False; total time=   0.4s\n",
            "[CV] END eta=0.1, eval_metric=mae, max_depth=6, tree_method=approx, use_label_encoder=False; total time=   0.4s\n",
            "[CV] END eta=0.1, eval_metric=mae, max_depth=6, tree_method=approx, use_label_encoder=False; total time=   0.4s\n",
            "[CV] END eta=0.1, eval_metric=mae, max_depth=6, tree_method=approx, use_label_encoder=False; total time=   0.4s\n",
            "[CV] END eta=0.1, eval_metric=mae, max_depth=6, tree_method=hist, use_label_encoder=False; total time=   0.1s\n",
            "[CV] END eta=0.1, eval_metric=mae, max_depth=6, tree_method=hist, use_label_encoder=False; total time=   0.1s\n",
            "[CV] END eta=0.1, eval_metric=mae, max_depth=6, tree_method=hist, use_label_encoder=False; total time=   0.2s\n",
            "[CV] END eta=0.1, eval_metric=mae, max_depth=7, tree_method=auto, use_label_encoder=False; total time=   0.2s\n",
            "[CV] END eta=0.1, eval_metric=mae, max_depth=7, tree_method=auto, use_label_encoder=False; total time=   0.2s\n",
            "[CV] END eta=0.1, eval_metric=mae, max_depth=7, tree_method=auto, use_label_encoder=False; total time=   0.2s\n",
            "[CV] END eta=0.1, eval_metric=mae, max_depth=7, tree_method=exact, use_label_encoder=False; total time=   0.5s\n",
            "[CV] END eta=0.1, eval_metric=mae, max_depth=7, tree_method=exact, use_label_encoder=False; total time=   0.5s\n",
            "[CV] END eta=0.1, eval_metric=mae, max_depth=7, tree_method=exact, use_label_encoder=False; total time=   0.5s\n",
            "[CV] END eta=0.1, eval_metric=mae, max_depth=7, tree_method=approx, use_label_encoder=False; total time=   0.4s\n",
            "[CV] END eta=0.1, eval_metric=mae, max_depth=7, tree_method=approx, use_label_encoder=False; total time=   0.4s\n",
            "[CV] END eta=0.1, eval_metric=mae, max_depth=7, tree_method=approx, use_label_encoder=False; total time=   0.5s\n",
            "[CV] END eta=0.1, eval_metric=mae, max_depth=7, tree_method=hist, use_label_encoder=False; total time=   0.2s\n",
            "[CV] END eta=0.1, eval_metric=mae, max_depth=7, tree_method=hist, use_label_encoder=False; total time=   0.2s\n",
            "[CV] END eta=0.1, eval_metric=mae, max_depth=7, tree_method=hist, use_label_encoder=False; total time=   0.2s\n",
            "[CV] END eta=0.1, eval_metric=logloss, max_depth=4, tree_method=auto, use_label_encoder=False; total time=   0.1s\n",
            "[CV] END eta=0.1, eval_metric=logloss, max_depth=4, tree_method=auto, use_label_encoder=False; total time=   0.1s\n",
            "[CV] END eta=0.1, eval_metric=logloss, max_depth=4, tree_method=auto, use_label_encoder=False; total time=   0.2s\n",
            "[CV] END eta=0.1, eval_metric=logloss, max_depth=4, tree_method=exact, use_label_encoder=False; total time=   1.7s\n",
            "[CV] END eta=0.1, eval_metric=logloss, max_depth=4, tree_method=exact, use_label_encoder=False; total time=   1.4s\n",
            "[CV] END eta=0.1, eval_metric=logloss, max_depth=4, tree_method=exact, use_label_encoder=False; total time=   0.6s\n",
            "[CV] END eta=0.1, eval_metric=logloss, max_depth=4, tree_method=approx, use_label_encoder=False; total time=   0.3s\n",
            "[CV] END eta=0.1, eval_metric=logloss, max_depth=4, tree_method=approx, use_label_encoder=False; total time=   0.3s\n",
            "[CV] END eta=0.1, eval_metric=logloss, max_depth=4, tree_method=approx, use_label_encoder=False; total time=   0.3s\n",
            "[CV] END eta=0.1, eval_metric=logloss, max_depth=4, tree_method=hist, use_label_encoder=False; total time=   0.1s\n",
            "[CV] END eta=0.1, eval_metric=logloss, max_depth=4, tree_method=hist, use_label_encoder=False; total time=   0.1s\n",
            "[CV] END eta=0.1, eval_metric=logloss, max_depth=4, tree_method=hist, use_label_encoder=False; total time=   0.1s\n",
            "[CV] END eta=0.1, eval_metric=logloss, max_depth=5, tree_method=auto, use_label_encoder=False; total time=   0.1s\n",
            "[CV] END eta=0.1, eval_metric=logloss, max_depth=5, tree_method=auto, use_label_encoder=False; total time=   0.1s\n",
            "[CV] END eta=0.1, eval_metric=logloss, max_depth=5, tree_method=auto, use_label_encoder=False; total time=   0.1s\n",
            "[CV] END eta=0.1, eval_metric=logloss, max_depth=5, tree_method=exact, use_label_encoder=False; total time=   0.4s\n",
            "[CV] END eta=0.1, eval_metric=logloss, max_depth=5, tree_method=exact, use_label_encoder=False; total time=   0.4s\n",
            "[CV] END eta=0.1, eval_metric=logloss, max_depth=5, tree_method=exact, use_label_encoder=False; total time=   0.4s\n",
            "[CV] END eta=0.1, eval_metric=logloss, max_depth=5, tree_method=approx, use_label_encoder=False; total time=   0.4s\n",
            "[CV] END eta=0.1, eval_metric=logloss, max_depth=5, tree_method=approx, use_label_encoder=False; total time=   0.4s\n",
            "[CV] END eta=0.1, eval_metric=logloss, max_depth=5, tree_method=approx, use_label_encoder=False; total time=   0.4s\n",
            "[CV] END eta=0.1, eval_metric=logloss, max_depth=5, tree_method=hist, use_label_encoder=False; total time=   0.1s\n",
            "[CV] END eta=0.1, eval_metric=logloss, max_depth=5, tree_method=hist, use_label_encoder=False; total time=   0.1s\n",
            "[CV] END eta=0.1, eval_metric=logloss, max_depth=5, tree_method=hist, use_label_encoder=False; total time=   0.1s\n",
            "[CV] END eta=0.1, eval_metric=logloss, max_depth=6, tree_method=auto, use_label_encoder=False; total time=   0.1s\n",
            "[CV] END eta=0.1, eval_metric=logloss, max_depth=6, tree_method=auto, use_label_encoder=False; total time=   0.1s\n",
            "[CV] END eta=0.1, eval_metric=logloss, max_depth=6, tree_method=auto, use_label_encoder=False; total time=   0.2s\n",
            "[CV] END eta=0.1, eval_metric=logloss, max_depth=6, tree_method=exact, use_label_encoder=False; total time=   0.4s\n",
            "[CV] END eta=0.1, eval_metric=logloss, max_depth=6, tree_method=exact, use_label_encoder=False; total time=   0.4s\n",
            "[CV] END eta=0.1, eval_metric=logloss, max_depth=6, tree_method=exact, use_label_encoder=False; total time=   0.4s\n",
            "[CV] END eta=0.1, eval_metric=logloss, max_depth=6, tree_method=approx, use_label_encoder=False; total time=   0.4s\n",
            "[CV] END eta=0.1, eval_metric=logloss, max_depth=6, tree_method=approx, use_label_encoder=False; total time=   0.4s\n",
            "[CV] END eta=0.1, eval_metric=logloss, max_depth=6, tree_method=approx, use_label_encoder=False; total time=   0.4s\n",
            "[CV] END eta=0.1, eval_metric=logloss, max_depth=6, tree_method=hist, use_label_encoder=False; total time=   0.1s\n",
            "[CV] END eta=0.1, eval_metric=logloss, max_depth=6, tree_method=hist, use_label_encoder=False; total time=   0.1s\n",
            "[CV] END eta=0.1, eval_metric=logloss, max_depth=6, tree_method=hist, use_label_encoder=False; total time=   0.2s\n",
            "[CV] END eta=0.1, eval_metric=logloss, max_depth=7, tree_method=auto, use_label_encoder=False; total time=   0.2s\n",
            "[CV] END eta=0.1, eval_metric=logloss, max_depth=7, tree_method=auto, use_label_encoder=False; total time=   0.2s\n",
            "[CV] END eta=0.1, eval_metric=logloss, max_depth=7, tree_method=auto, use_label_encoder=False; total time=   0.2s\n",
            "[CV] END eta=0.1, eval_metric=logloss, max_depth=7, tree_method=exact, use_label_encoder=False; total time=   0.5s\n",
            "[CV] END eta=0.1, eval_metric=logloss, max_depth=7, tree_method=exact, use_label_encoder=False; total time=   0.5s\n",
            "[CV] END eta=0.1, eval_metric=logloss, max_depth=7, tree_method=exact, use_label_encoder=False; total time=   0.5s\n",
            "[CV] END eta=0.1, eval_metric=logloss, max_depth=7, tree_method=approx, use_label_encoder=False; total time=   2.0s\n",
            "[CV] END eta=0.1, eval_metric=logloss, max_depth=7, tree_method=approx, use_label_encoder=False; total time=   1.9s\n",
            "[CV] END eta=0.1, eval_metric=logloss, max_depth=7, tree_method=approx, use_label_encoder=False; total time=   0.5s\n",
            "[CV] END eta=0.1, eval_metric=logloss, max_depth=7, tree_method=hist, use_label_encoder=False; total time=   0.2s\n",
            "[CV] END eta=0.1, eval_metric=logloss, max_depth=7, tree_method=hist, use_label_encoder=False; total time=   0.2s\n",
            "[CV] END eta=0.1, eval_metric=logloss, max_depth=7, tree_method=hist, use_label_encoder=False; total time=   0.2s\n",
            "[CV] END eta=0.1, eval_metric=error, max_depth=4, tree_method=auto, use_label_encoder=False; total time=   0.1s\n",
            "[CV] END eta=0.1, eval_metric=error, max_depth=4, tree_method=auto, use_label_encoder=False; total time=   0.1s\n",
            "[CV] END eta=0.1, eval_metric=error, max_depth=4, tree_method=auto, use_label_encoder=False; total time=   0.1s\n",
            "[CV] END eta=0.1, eval_metric=error, max_depth=4, tree_method=exact, use_label_encoder=False; total time=   0.3s\n",
            "[CV] END eta=0.1, eval_metric=error, max_depth=4, tree_method=exact, use_label_encoder=False; total time=   0.3s\n",
            "[CV] END eta=0.1, eval_metric=error, max_depth=4, tree_method=exact, use_label_encoder=False; total time=   0.3s\n",
            "[CV] END eta=0.1, eval_metric=error, max_depth=4, tree_method=approx, use_label_encoder=False; total time=   0.3s\n",
            "[CV] END eta=0.1, eval_metric=error, max_depth=4, tree_method=approx, use_label_encoder=False; total time=   0.3s\n",
            "[CV] END eta=0.1, eval_metric=error, max_depth=4, tree_method=approx, use_label_encoder=False; total time=   0.3s\n",
            "[CV] END eta=0.1, eval_metric=error, max_depth=4, tree_method=hist, use_label_encoder=False; total time=   0.1s\n",
            "[CV] END eta=0.1, eval_metric=error, max_depth=4, tree_method=hist, use_label_encoder=False; total time=   0.1s\n",
            "[CV] END eta=0.1, eval_metric=error, max_depth=4, tree_method=hist, use_label_encoder=False; total time=   0.1s\n",
            "[CV] END eta=0.1, eval_metric=error, max_depth=5, tree_method=auto, use_label_encoder=False; total time=   0.1s\n",
            "[CV] END eta=0.1, eval_metric=error, max_depth=5, tree_method=auto, use_label_encoder=False; total time=   0.1s\n",
            "[CV] END eta=0.1, eval_metric=error, max_depth=5, tree_method=auto, use_label_encoder=False; total time=   0.1s\n",
            "[CV] END eta=0.1, eval_metric=error, max_depth=5, tree_method=exact, use_label_encoder=False; total time=   0.4s\n",
            "[CV] END eta=0.1, eval_metric=error, max_depth=5, tree_method=exact, use_label_encoder=False; total time=   0.4s\n",
            "[CV] END eta=0.1, eval_metric=error, max_depth=5, tree_method=exact, use_label_encoder=False; total time=   0.4s\n",
            "[CV] END eta=0.1, eval_metric=error, max_depth=5, tree_method=approx, use_label_encoder=False; total time=   0.4s\n",
            "[CV] END eta=0.1, eval_metric=error, max_depth=5, tree_method=approx, use_label_encoder=False; total time=   0.4s\n",
            "[CV] END eta=0.1, eval_metric=error, max_depth=5, tree_method=approx, use_label_encoder=False; total time=   0.4s\n",
            "[CV] END eta=0.1, eval_metric=error, max_depth=5, tree_method=hist, use_label_encoder=False; total time=   0.1s\n",
            "[CV] END eta=0.1, eval_metric=error, max_depth=5, tree_method=hist, use_label_encoder=False; total time=   0.1s\n",
            "[CV] END eta=0.1, eval_metric=error, max_depth=5, tree_method=hist, use_label_encoder=False; total time=   0.1s\n",
            "[CV] END eta=0.1, eval_metric=error, max_depth=6, tree_method=auto, use_label_encoder=False; total time=   0.1s\n",
            "[CV] END eta=0.1, eval_metric=error, max_depth=6, tree_method=auto, use_label_encoder=False; total time=   0.1s\n",
            "[CV] END eta=0.1, eval_metric=error, max_depth=6, tree_method=auto, use_label_encoder=False; total time=   0.1s\n",
            "[CV] END eta=0.1, eval_metric=error, max_depth=6, tree_method=exact, use_label_encoder=False; total time=   0.4s\n",
            "[CV] END eta=0.1, eval_metric=error, max_depth=6, tree_method=exact, use_label_encoder=False; total time=   0.4s\n",
            "[CV] END eta=0.1, eval_metric=error, max_depth=6, tree_method=exact, use_label_encoder=False; total time=   0.5s\n",
            "[CV] END eta=0.1, eval_metric=error, max_depth=6, tree_method=approx, use_label_encoder=False; total time=   0.4s\n",
            "[CV] END eta=0.1, eval_metric=error, max_depth=6, tree_method=approx, use_label_encoder=False; total time=   0.4s\n",
            "[CV] END eta=0.1, eval_metric=error, max_depth=6, tree_method=approx, use_label_encoder=False; total time=   0.4s\n",
            "[CV] END eta=0.1, eval_metric=error, max_depth=6, tree_method=hist, use_label_encoder=False; total time=   0.1s\n",
            "[CV] END eta=0.1, eval_metric=error, max_depth=6, tree_method=hist, use_label_encoder=False; total time=   0.1s\n",
            "[CV] END eta=0.1, eval_metric=error, max_depth=6, tree_method=hist, use_label_encoder=False; total time=   0.1s\n",
            "[CV] END eta=0.1, eval_metric=error, max_depth=7, tree_method=auto, use_label_encoder=False; total time=   0.2s\n",
            "[CV] END eta=0.1, eval_metric=error, max_depth=7, tree_method=auto, use_label_encoder=False; total time=   0.4s\n",
            "[CV] END eta=0.1, eval_metric=error, max_depth=7, tree_method=auto, use_label_encoder=False; total time=   1.4s\n",
            "[CV] END eta=0.1, eval_metric=error, max_depth=7, tree_method=exact, use_label_encoder=False; total time=   2.1s\n",
            "[CV] END eta=0.1, eval_metric=error, max_depth=7, tree_method=exact, use_label_encoder=False; total time=   0.5s\n",
            "[CV] END eta=0.1, eval_metric=error, max_depth=7, tree_method=exact, use_label_encoder=False; total time=   0.5s\n",
            "[CV] END eta=0.1, eval_metric=error, max_depth=7, tree_method=approx, use_label_encoder=False; total time=   0.5s\n",
            "[CV] END eta=0.1, eval_metric=error, max_depth=7, tree_method=approx, use_label_encoder=False; total time=   0.4s\n",
            "[CV] END eta=0.1, eval_metric=error, max_depth=7, tree_method=approx, use_label_encoder=False; total time=   0.5s\n",
            "[CV] END eta=0.1, eval_metric=error, max_depth=7, tree_method=hist, use_label_encoder=False; total time=   0.2s\n",
            "[CV] END eta=0.1, eval_metric=error, max_depth=7, tree_method=hist, use_label_encoder=False; total time=   0.2s\n",
            "[CV] END eta=0.1, eval_metric=error, max_depth=7, tree_method=hist, use_label_encoder=False; total time=   0.2s\n",
            "[CV] END eta=0.15, eval_metric=rmse, max_depth=4, tree_method=auto, use_label_encoder=False; total time=   0.1s\n",
            "[CV] END eta=0.15, eval_metric=rmse, max_depth=4, tree_method=auto, use_label_encoder=False; total time=   0.1s\n",
            "[CV] END eta=0.15, eval_metric=rmse, max_depth=4, tree_method=auto, use_label_encoder=False; total time=   0.1s\n",
            "[CV] END eta=0.15, eval_metric=rmse, max_depth=4, tree_method=exact, use_label_encoder=False; total time=   0.3s\n",
            "[CV] END eta=0.15, eval_metric=rmse, max_depth=4, tree_method=exact, use_label_encoder=False; total time=   0.3s\n",
            "[CV] END eta=0.15, eval_metric=rmse, max_depth=4, tree_method=exact, use_label_encoder=False; total time=   0.3s\n",
            "[CV] END eta=0.15, eval_metric=rmse, max_depth=4, tree_method=approx, use_label_encoder=False; total time=   0.3s\n",
            "[CV] END eta=0.15, eval_metric=rmse, max_depth=4, tree_method=approx, use_label_encoder=False; total time=   0.3s\n",
            "[CV] END eta=0.15, eval_metric=rmse, max_depth=4, tree_method=approx, use_label_encoder=False; total time=   0.3s\n",
            "[CV] END eta=0.15, eval_metric=rmse, max_depth=4, tree_method=hist, use_label_encoder=False; total time=   0.1s\n",
            "[CV] END eta=0.15, eval_metric=rmse, max_depth=4, tree_method=hist, use_label_encoder=False; total time=   0.1s\n",
            "[CV] END eta=0.15, eval_metric=rmse, max_depth=4, tree_method=hist, use_label_encoder=False; total time=   0.1s\n",
            "[CV] END eta=0.15, eval_metric=rmse, max_depth=5, tree_method=auto, use_label_encoder=False; total time=   0.1s\n",
            "[CV] END eta=0.15, eval_metric=rmse, max_depth=5, tree_method=auto, use_label_encoder=False; total time=   0.1s\n",
            "[CV] END eta=0.15, eval_metric=rmse, max_depth=5, tree_method=auto, use_label_encoder=False; total time=   0.1s\n",
            "[CV] END eta=0.15, eval_metric=rmse, max_depth=5, tree_method=exact, use_label_encoder=False; total time=   0.3s\n",
            "[CV] END eta=0.15, eval_metric=rmse, max_depth=5, tree_method=exact, use_label_encoder=False; total time=   0.4s\n",
            "[CV] END eta=0.15, eval_metric=rmse, max_depth=5, tree_method=exact, use_label_encoder=False; total time=   0.3s\n",
            "[CV] END eta=0.15, eval_metric=rmse, max_depth=5, tree_method=approx, use_label_encoder=False; total time=   0.4s\n",
            "[CV] END eta=0.15, eval_metric=rmse, max_depth=5, tree_method=approx, use_label_encoder=False; total time=   0.4s\n",
            "[CV] END eta=0.15, eval_metric=rmse, max_depth=5, tree_method=approx, use_label_encoder=False; total time=   0.4s\n",
            "[CV] END eta=0.15, eval_metric=rmse, max_depth=5, tree_method=hist, use_label_encoder=False; total time=   0.1s\n",
            "[CV] END eta=0.15, eval_metric=rmse, max_depth=5, tree_method=hist, use_label_encoder=False; total time=   0.1s\n",
            "[CV] END eta=0.15, eval_metric=rmse, max_depth=5, tree_method=hist, use_label_encoder=False; total time=   0.1s\n",
            "[CV] END eta=0.15, eval_metric=rmse, max_depth=6, tree_method=auto, use_label_encoder=False; total time=   0.2s\n",
            "[CV] END eta=0.15, eval_metric=rmse, max_depth=6, tree_method=auto, use_label_encoder=False; total time=   0.1s\n",
            "[CV] END eta=0.15, eval_metric=rmse, max_depth=6, tree_method=auto, use_label_encoder=False; total time=   0.1s\n",
            "[CV] END eta=0.15, eval_metric=rmse, max_depth=6, tree_method=exact, use_label_encoder=False; total time=   0.4s\n",
            "[CV] END eta=0.15, eval_metric=rmse, max_depth=6, tree_method=exact, use_label_encoder=False; total time=   0.4s\n",
            "[CV] END eta=0.15, eval_metric=rmse, max_depth=6, tree_method=exact, use_label_encoder=False; total time=   0.7s\n",
            "[CV] END eta=0.15, eval_metric=rmse, max_depth=6, tree_method=approx, use_label_encoder=False; total time=   2.7s\n",
            "[CV] END eta=0.15, eval_metric=rmse, max_depth=6, tree_method=approx, use_label_encoder=False; total time=   0.9s\n",
            "[CV] END eta=0.15, eval_metric=rmse, max_depth=6, tree_method=approx, use_label_encoder=False; total time=   0.4s\n",
            "[CV] END eta=0.15, eval_metric=rmse, max_depth=6, tree_method=hist, use_label_encoder=False; total time=   0.1s\n",
            "[CV] END eta=0.15, eval_metric=rmse, max_depth=6, tree_method=hist, use_label_encoder=False; total time=   0.1s\n",
            "[CV] END eta=0.15, eval_metric=rmse, max_depth=6, tree_method=hist, use_label_encoder=False; total time=   0.2s\n",
            "[CV] END eta=0.15, eval_metric=rmse, max_depth=7, tree_method=auto, use_label_encoder=False; total time=   0.2s\n",
            "[CV] END eta=0.15, eval_metric=rmse, max_depth=7, tree_method=auto, use_label_encoder=False; total time=   0.2s\n",
            "[CV] END eta=0.15, eval_metric=rmse, max_depth=7, tree_method=auto, use_label_encoder=False; total time=   0.2s\n",
            "[CV] END eta=0.15, eval_metric=rmse, max_depth=7, tree_method=exact, use_label_encoder=False; total time=   0.5s\n",
            "[CV] END eta=0.15, eval_metric=rmse, max_depth=7, tree_method=exact, use_label_encoder=False; total time=   0.5s\n",
            "[CV] END eta=0.15, eval_metric=rmse, max_depth=7, tree_method=exact, use_label_encoder=False; total time=   0.5s\n",
            "[CV] END eta=0.15, eval_metric=rmse, max_depth=7, tree_method=approx, use_label_encoder=False; total time=   0.4s\n",
            "[CV] END eta=0.15, eval_metric=rmse, max_depth=7, tree_method=approx, use_label_encoder=False; total time=   0.4s\n",
            "[CV] END eta=0.15, eval_metric=rmse, max_depth=7, tree_method=approx, use_label_encoder=False; total time=   0.5s\n",
            "[CV] END eta=0.15, eval_metric=rmse, max_depth=7, tree_method=hist, use_label_encoder=False; total time=   0.2s\n",
            "[CV] END eta=0.15, eval_metric=rmse, max_depth=7, tree_method=hist, use_label_encoder=False; total time=   0.2s\n",
            "[CV] END eta=0.15, eval_metric=rmse, max_depth=7, tree_method=hist, use_label_encoder=False; total time=   0.2s\n",
            "[CV] END eta=0.15, eval_metric=mae, max_depth=4, tree_method=auto, use_label_encoder=False; total time=   0.1s\n",
            "[CV] END eta=0.15, eval_metric=mae, max_depth=4, tree_method=auto, use_label_encoder=False; total time=   0.1s\n",
            "[CV] END eta=0.15, eval_metric=mae, max_depth=4, tree_method=auto, use_label_encoder=False; total time=   0.1s\n",
            "[CV] END eta=0.15, eval_metric=mae, max_depth=4, tree_method=exact, use_label_encoder=False; total time=   0.3s\n",
            "[CV] END eta=0.15, eval_metric=mae, max_depth=4, tree_method=exact, use_label_encoder=False; total time=   0.3s\n",
            "[CV] END eta=0.15, eval_metric=mae, max_depth=4, tree_method=exact, use_label_encoder=False; total time=   0.3s\n",
            "[CV] END eta=0.15, eval_metric=mae, max_depth=4, tree_method=approx, use_label_encoder=False; total time=   0.3s\n",
            "[CV] END eta=0.15, eval_metric=mae, max_depth=4, tree_method=approx, use_label_encoder=False; total time=   0.3s\n",
            "[CV] END eta=0.15, eval_metric=mae, max_depth=4, tree_method=approx, use_label_encoder=False; total time=   0.3s\n",
            "[CV] END eta=0.15, eval_metric=mae, max_depth=4, tree_method=hist, use_label_encoder=False; total time=   0.1s\n",
            "[CV] END eta=0.15, eval_metric=mae, max_depth=4, tree_method=hist, use_label_encoder=False; total time=   0.1s\n",
            "[CV] END eta=0.15, eval_metric=mae, max_depth=4, tree_method=hist, use_label_encoder=False; total time=   0.1s\n",
            "[CV] END eta=0.15, eval_metric=mae, max_depth=5, tree_method=auto, use_label_encoder=False; total time=   0.1s\n",
            "[CV] END eta=0.15, eval_metric=mae, max_depth=5, tree_method=auto, use_label_encoder=False; total time=   0.1s\n",
            "[CV] END eta=0.15, eval_metric=mae, max_depth=5, tree_method=auto, use_label_encoder=False; total time=   0.1s\n",
            "[CV] END eta=0.15, eval_metric=mae, max_depth=5, tree_method=exact, use_label_encoder=False; total time=   0.3s\n",
            "[CV] END eta=0.15, eval_metric=mae, max_depth=5, tree_method=exact, use_label_encoder=False; total time=   0.4s\n",
            "[CV] END eta=0.15, eval_metric=mae, max_depth=5, tree_method=exact, use_label_encoder=False; total time=   0.3s\n",
            "[CV] END eta=0.15, eval_metric=mae, max_depth=5, tree_method=approx, use_label_encoder=False; total time=   0.4s\n",
            "[CV] END eta=0.15, eval_metric=mae, max_depth=5, tree_method=approx, use_label_encoder=False; total time=   0.4s\n",
            "[CV] END eta=0.15, eval_metric=mae, max_depth=5, tree_method=approx, use_label_encoder=False; total time=   0.4s\n",
            "[CV] END eta=0.15, eval_metric=mae, max_depth=5, tree_method=hist, use_label_encoder=False; total time=   0.1s\n",
            "[CV] END eta=0.15, eval_metric=mae, max_depth=5, tree_method=hist, use_label_encoder=False; total time=   0.2s\n",
            "[CV] END eta=0.15, eval_metric=mae, max_depth=5, tree_method=hist, use_label_encoder=False; total time=   0.5s\n",
            "[CV] END eta=0.15, eval_metric=mae, max_depth=6, tree_method=auto, use_label_encoder=False; total time=   1.2s\n",
            "[CV] END eta=0.15, eval_metric=mae, max_depth=6, tree_method=auto, use_label_encoder=False; total time=   1.2s\n",
            "[CV] END eta=0.15, eval_metric=mae, max_depth=6, tree_method=auto, use_label_encoder=False; total time=   0.5s\n",
            "[CV] END eta=0.15, eval_metric=mae, max_depth=6, tree_method=exact, use_label_encoder=False; total time=   0.6s\n",
            "[CV] END eta=0.15, eval_metric=mae, max_depth=6, tree_method=exact, use_label_encoder=False; total time=   0.4s\n",
            "[CV] END eta=0.15, eval_metric=mae, max_depth=6, tree_method=exact, use_label_encoder=False; total time=   0.4s\n",
            "[CV] END eta=0.15, eval_metric=mae, max_depth=6, tree_method=approx, use_label_encoder=False; total time=   0.4s\n",
            "[CV] END eta=0.15, eval_metric=mae, max_depth=6, tree_method=approx, use_label_encoder=False; total time=   0.4s\n",
            "[CV] END eta=0.15, eval_metric=mae, max_depth=6, tree_method=approx, use_label_encoder=False; total time=   0.4s\n",
            "[CV] END eta=0.15, eval_metric=mae, max_depth=6, tree_method=hist, use_label_encoder=False; total time=   0.1s\n",
            "[CV] END eta=0.15, eval_metric=mae, max_depth=6, tree_method=hist, use_label_encoder=False; total time=   0.2s\n",
            "[CV] END eta=0.15, eval_metric=mae, max_depth=6, tree_method=hist, use_label_encoder=False; total time=   0.1s\n",
            "[CV] END eta=0.15, eval_metric=mae, max_depth=7, tree_method=auto, use_label_encoder=False; total time=   0.2s\n",
            "[CV] END eta=0.15, eval_metric=mae, max_depth=7, tree_method=auto, use_label_encoder=False; total time=   0.2s\n",
            "[CV] END eta=0.15, eval_metric=mae, max_depth=7, tree_method=auto, use_label_encoder=False; total time=   0.2s\n",
            "[CV] END eta=0.15, eval_metric=mae, max_depth=7, tree_method=exact, use_label_encoder=False; total time=   0.5s\n",
            "[CV] END eta=0.15, eval_metric=mae, max_depth=7, tree_method=exact, use_label_encoder=False; total time=   0.5s\n",
            "[CV] END eta=0.15, eval_metric=mae, max_depth=7, tree_method=exact, use_label_encoder=False; total time=   0.5s\n",
            "[CV] END eta=0.15, eval_metric=mae, max_depth=7, tree_method=approx, use_label_encoder=False; total time=   0.4s\n",
            "[CV] END eta=0.15, eval_metric=mae, max_depth=7, tree_method=approx, use_label_encoder=False; total time=   0.5s\n",
            "[CV] END eta=0.15, eval_metric=mae, max_depth=7, tree_method=approx, use_label_encoder=False; total time=   0.4s\n",
            "[CV] END eta=0.15, eval_metric=mae, max_depth=7, tree_method=hist, use_label_encoder=False; total time=   0.2s\n",
            "[CV] END eta=0.15, eval_metric=mae, max_depth=7, tree_method=hist, use_label_encoder=False; total time=   0.2s\n",
            "[CV] END eta=0.15, eval_metric=mae, max_depth=7, tree_method=hist, use_label_encoder=False; total time=   0.2s\n",
            "[CV] END eta=0.15, eval_metric=logloss, max_depth=4, tree_method=auto, use_label_encoder=False; total time=   0.1s\n",
            "[CV] END eta=0.15, eval_metric=logloss, max_depth=4, tree_method=auto, use_label_encoder=False; total time=   0.1s\n",
            "[CV] END eta=0.15, eval_metric=logloss, max_depth=4, tree_method=auto, use_label_encoder=False; total time=   0.1s\n",
            "[CV] END eta=0.15, eval_metric=logloss, max_depth=4, tree_method=exact, use_label_encoder=False; total time=   0.3s\n",
            "[CV] END eta=0.15, eval_metric=logloss, max_depth=4, tree_method=exact, use_label_encoder=False; total time=   0.3s\n",
            "[CV] END eta=0.15, eval_metric=logloss, max_depth=4, tree_method=exact, use_label_encoder=False; total time=   0.3s\n",
            "[CV] END eta=0.15, eval_metric=logloss, max_depth=4, tree_method=approx, use_label_encoder=False; total time=   0.4s\n",
            "[CV] END eta=0.15, eval_metric=logloss, max_depth=4, tree_method=approx, use_label_encoder=False; total time=   0.3s\n",
            "[CV] END eta=0.15, eval_metric=logloss, max_depth=4, tree_method=approx, use_label_encoder=False; total time=   0.4s\n",
            "[CV] END eta=0.15, eval_metric=logloss, max_depth=4, tree_method=hist, use_label_encoder=False; total time=   0.1s\n",
            "[CV] END eta=0.15, eval_metric=logloss, max_depth=4, tree_method=hist, use_label_encoder=False; total time=   0.1s\n",
            "[CV] END eta=0.15, eval_metric=logloss, max_depth=4, tree_method=hist, use_label_encoder=False; total time=   0.1s\n",
            "[CV] END eta=0.15, eval_metric=logloss, max_depth=5, tree_method=auto, use_label_encoder=False; total time=   0.1s\n",
            "[CV] END eta=0.15, eval_metric=logloss, max_depth=5, tree_method=auto, use_label_encoder=False; total time=   0.1s\n",
            "[CV] END eta=0.15, eval_metric=logloss, max_depth=5, tree_method=auto, use_label_encoder=False; total time=   0.1s\n",
            "[CV] END eta=0.15, eval_metric=logloss, max_depth=5, tree_method=exact, use_label_encoder=False; total time=   0.4s\n",
            "[CV] END eta=0.15, eval_metric=logloss, max_depth=5, tree_method=exact, use_label_encoder=False; total time=   1.8s\n",
            "[CV] END eta=0.15, eval_metric=logloss, max_depth=5, tree_method=exact, use_label_encoder=False; total time=   1.7s\n",
            "[CV] END eta=0.15, eval_metric=logloss, max_depth=5, tree_method=approx, use_label_encoder=False; total time=   0.6s\n",
            "[CV] END eta=0.15, eval_metric=logloss, max_depth=5, tree_method=approx, use_label_encoder=False; total time=   0.4s\n",
            "[CV] END eta=0.15, eval_metric=logloss, max_depth=5, tree_method=approx, use_label_encoder=False; total time=   0.4s\n",
            "[CV] END eta=0.15, eval_metric=logloss, max_depth=5, tree_method=hist, use_label_encoder=False; total time=   0.1s\n",
            "[CV] END eta=0.15, eval_metric=logloss, max_depth=5, tree_method=hist, use_label_encoder=False; total time=   0.1s\n",
            "[CV] END eta=0.15, eval_metric=logloss, max_depth=5, tree_method=hist, use_label_encoder=False; total time=   0.1s\n",
            "[CV] END eta=0.15, eval_metric=logloss, max_depth=6, tree_method=auto, use_label_encoder=False; total time=   0.1s\n",
            "[CV] END eta=0.15, eval_metric=logloss, max_depth=6, tree_method=auto, use_label_encoder=False; total time=   0.1s\n",
            "[CV] END eta=0.15, eval_metric=logloss, max_depth=6, tree_method=auto, use_label_encoder=False; total time=   0.1s\n",
            "[CV] END eta=0.15, eval_metric=logloss, max_depth=6, tree_method=exact, use_label_encoder=False; total time=   0.4s\n",
            "[CV] END eta=0.15, eval_metric=logloss, max_depth=6, tree_method=exact, use_label_encoder=False; total time=   0.4s\n",
            "[CV] END eta=0.15, eval_metric=logloss, max_depth=6, tree_method=exact, use_label_encoder=False; total time=   0.4s\n",
            "[CV] END eta=0.15, eval_metric=logloss, max_depth=6, tree_method=approx, use_label_encoder=False; total time=   0.4s\n",
            "[CV] END eta=0.15, eval_metric=logloss, max_depth=6, tree_method=approx, use_label_encoder=False; total time=   0.4s\n",
            "[CV] END eta=0.15, eval_metric=logloss, max_depth=6, tree_method=approx, use_label_encoder=False; total time=   0.4s\n",
            "[CV] END eta=0.15, eval_metric=logloss, max_depth=6, tree_method=hist, use_label_encoder=False; total time=   0.1s\n",
            "[CV] END eta=0.15, eval_metric=logloss, max_depth=6, tree_method=hist, use_label_encoder=False; total time=   0.1s\n",
            "[CV] END eta=0.15, eval_metric=logloss, max_depth=6, tree_method=hist, use_label_encoder=False; total time=   0.1s\n",
            "[CV] END eta=0.15, eval_metric=logloss, max_depth=7, tree_method=auto, use_label_encoder=False; total time=   0.2s\n",
            "[CV] END eta=0.15, eval_metric=logloss, max_depth=7, tree_method=auto, use_label_encoder=False; total time=   0.2s\n",
            "[CV] END eta=0.15, eval_metric=logloss, max_depth=7, tree_method=auto, use_label_encoder=False; total time=   0.2s\n",
            "[CV] END eta=0.15, eval_metric=logloss, max_depth=7, tree_method=exact, use_label_encoder=False; total time=   0.5s\n",
            "[CV] END eta=0.15, eval_metric=logloss, max_depth=7, tree_method=exact, use_label_encoder=False; total time=   0.5s\n",
            "[CV] END eta=0.15, eval_metric=logloss, max_depth=7, tree_method=exact, use_label_encoder=False; total time=   0.5s\n",
            "[CV] END eta=0.15, eval_metric=logloss, max_depth=7, tree_method=approx, use_label_encoder=False; total time=   0.4s\n",
            "[CV] END eta=0.15, eval_metric=logloss, max_depth=7, tree_method=approx, use_label_encoder=False; total time=   0.5s\n",
            "[CV] END eta=0.15, eval_metric=logloss, max_depth=7, tree_method=approx, use_label_encoder=False; total time=   0.4s\n",
            "[CV] END eta=0.15, eval_metric=logloss, max_depth=7, tree_method=hist, use_label_encoder=False; total time=   0.2s\n",
            "[CV] END eta=0.15, eval_metric=logloss, max_depth=7, tree_method=hist, use_label_encoder=False; total time=   0.2s\n",
            "[CV] END eta=0.15, eval_metric=logloss, max_depth=7, tree_method=hist, use_label_encoder=False; total time=   0.2s\n",
            "[CV] END eta=0.15, eval_metric=error, max_depth=4, tree_method=auto, use_label_encoder=False; total time=   0.1s\n",
            "[CV] END eta=0.15, eval_metric=error, max_depth=4, tree_method=auto, use_label_encoder=False; total time=   0.1s\n",
            "[CV] END eta=0.15, eval_metric=error, max_depth=4, tree_method=auto, use_label_encoder=False; total time=   0.1s\n",
            "[CV] END eta=0.15, eval_metric=error, max_depth=4, tree_method=exact, use_label_encoder=False; total time=   0.3s\n",
            "[CV] END eta=0.15, eval_metric=error, max_depth=4, tree_method=exact, use_label_encoder=False; total time=   0.3s\n",
            "[CV] END eta=0.15, eval_metric=error, max_depth=4, tree_method=exact, use_label_encoder=False; total time=   0.3s\n",
            "[CV] END eta=0.15, eval_metric=error, max_depth=4, tree_method=approx, use_label_encoder=False; total time=   0.4s\n",
            "[CV] END eta=0.15, eval_metric=error, max_depth=4, tree_method=approx, use_label_encoder=False; total time=   1.8s\n",
            "[CV] END eta=0.15, eval_metric=error, max_depth=4, tree_method=approx, use_label_encoder=False; total time=   1.5s\n",
            "[CV] END eta=0.15, eval_metric=error, max_depth=4, tree_method=hist, use_label_encoder=False; total time=   0.2s\n",
            "[CV] END eta=0.15, eval_metric=error, max_depth=4, tree_method=hist, use_label_encoder=False; total time=   0.2s\n",
            "[CV] END eta=0.15, eval_metric=error, max_depth=4, tree_method=hist, use_label_encoder=False; total time=   0.1s\n",
            "[CV] END eta=0.15, eval_metric=error, max_depth=5, tree_method=auto, use_label_encoder=False; total time=   0.1s\n",
            "[CV] END eta=0.15, eval_metric=error, max_depth=5, tree_method=auto, use_label_encoder=False; total time=   0.1s\n",
            "[CV] END eta=0.15, eval_metric=error, max_depth=5, tree_method=auto, use_label_encoder=False; total time=   0.1s\n",
            "[CV] END eta=0.15, eval_metric=error, max_depth=5, tree_method=exact, use_label_encoder=False; total time=   0.4s\n",
            "[CV] END eta=0.15, eval_metric=error, max_depth=5, tree_method=exact, use_label_encoder=False; total time=   0.3s\n",
            "[CV] END eta=0.15, eval_metric=error, max_depth=5, tree_method=exact, use_label_encoder=False; total time=   0.4s\n",
            "[CV] END eta=0.15, eval_metric=error, max_depth=5, tree_method=approx, use_label_encoder=False; total time=   0.4s\n",
            "[CV] END eta=0.15, eval_metric=error, max_depth=5, tree_method=approx, use_label_encoder=False; total time=   0.4s\n",
            "[CV] END eta=0.15, eval_metric=error, max_depth=5, tree_method=approx, use_label_encoder=False; total time=   0.4s\n",
            "[CV] END eta=0.15, eval_metric=error, max_depth=5, tree_method=hist, use_label_encoder=False; total time=   0.1s\n",
            "[CV] END eta=0.15, eval_metric=error, max_depth=5, tree_method=hist, use_label_encoder=False; total time=   0.1s\n",
            "[CV] END eta=0.15, eval_metric=error, max_depth=5, tree_method=hist, use_label_encoder=False; total time=   0.1s\n",
            "[CV] END eta=0.15, eval_metric=error, max_depth=6, tree_method=auto, use_label_encoder=False; total time=   0.2s\n",
            "[CV] END eta=0.15, eval_metric=error, max_depth=6, tree_method=auto, use_label_encoder=False; total time=   0.1s\n",
            "[CV] END eta=0.15, eval_metric=error, max_depth=6, tree_method=auto, use_label_encoder=False; total time=   0.1s\n",
            "[CV] END eta=0.15, eval_metric=error, max_depth=6, tree_method=exact, use_label_encoder=False; total time=   0.4s\n",
            "[CV] END eta=0.15, eval_metric=error, max_depth=6, tree_method=exact, use_label_encoder=False; total time=   0.4s\n",
            "[CV] END eta=0.15, eval_metric=error, max_depth=6, tree_method=exact, use_label_encoder=False; total time=   0.4s\n",
            "[CV] END eta=0.15, eval_metric=error, max_depth=6, tree_method=approx, use_label_encoder=False; total time=   0.4s\n",
            "[CV] END eta=0.15, eval_metric=error, max_depth=6, tree_method=approx, use_label_encoder=False; total time=   0.4s\n",
            "[CV] END eta=0.15, eval_metric=error, max_depth=6, tree_method=approx, use_label_encoder=False; total time=   0.4s\n",
            "[CV] END eta=0.15, eval_metric=error, max_depth=6, tree_method=hist, use_label_encoder=False; total time=   0.1s\n",
            "[CV] END eta=0.15, eval_metric=error, max_depth=6, tree_method=hist, use_label_encoder=False; total time=   0.1s\n",
            "[CV] END eta=0.15, eval_metric=error, max_depth=6, tree_method=hist, use_label_encoder=False; total time=   0.1s\n",
            "[CV] END eta=0.15, eval_metric=error, max_depth=7, tree_method=auto, use_label_encoder=False; total time=   0.2s\n",
            "[CV] END eta=0.15, eval_metric=error, max_depth=7, tree_method=auto, use_label_encoder=False; total time=   0.2s\n",
            "[CV] END eta=0.15, eval_metric=error, max_depth=7, tree_method=auto, use_label_encoder=False; total time=   0.2s\n",
            "[CV] END eta=0.15, eval_metric=error, max_depth=7, tree_method=exact, use_label_encoder=False; total time=   0.5s\n",
            "[CV] END eta=0.15, eval_metric=error, max_depth=7, tree_method=exact, use_label_encoder=False; total time=   0.5s\n",
            "[CV] END eta=0.15, eval_metric=error, max_depth=7, tree_method=exact, use_label_encoder=False; total time=   0.5s\n",
            "[CV] END eta=0.15, eval_metric=error, max_depth=7, tree_method=approx, use_label_encoder=False; total time=   0.5s\n",
            "[CV] END eta=0.15, eval_metric=error, max_depth=7, tree_method=approx, use_label_encoder=False; total time=   0.4s\n",
            "[CV] END eta=0.15, eval_metric=error, max_depth=7, tree_method=approx, use_label_encoder=False; total time=   0.4s\n",
            "[CV] END eta=0.15, eval_metric=error, max_depth=7, tree_method=hist, use_label_encoder=False; total time=   0.2s\n",
            "[CV] END eta=0.15, eval_metric=error, max_depth=7, tree_method=hist, use_label_encoder=False; total time=   0.4s\n",
            "[CV] END eta=0.15, eval_metric=error, max_depth=7, tree_method=hist, use_label_encoder=False; total time=   1.0s\n"
          ]
        },
        {
          "data": {
            "text/html": [
              "<style>#sk-container-id-6 {color: black;background-color: white;}#sk-container-id-6 pre{padding: 0;}#sk-container-id-6 div.sk-toggleable {background-color: white;}#sk-container-id-6 label.sk-toggleable__label {cursor: pointer;display: block;width: 100%;margin-bottom: 0;padding: 0.3em;box-sizing: border-box;text-align: center;}#sk-container-id-6 label.sk-toggleable__label-arrow:before {content: \"▸\";float: left;margin-right: 0.25em;color: #696969;}#sk-container-id-6 label.sk-toggleable__label-arrow:hover:before {color: black;}#sk-container-id-6 div.sk-estimator:hover label.sk-toggleable__label-arrow:before {color: black;}#sk-container-id-6 div.sk-toggleable__content {max-height: 0;max-width: 0;overflow: hidden;text-align: left;background-color: #f0f8ff;}#sk-container-id-6 div.sk-toggleable__content pre {margin: 0.2em;color: black;border-radius: 0.25em;background-color: #f0f8ff;}#sk-container-id-6 input.sk-toggleable__control:checked~div.sk-toggleable__content {max-height: 200px;max-width: 100%;overflow: auto;}#sk-container-id-6 input.sk-toggleable__control:checked~label.sk-toggleable__label-arrow:before {content: \"▾\";}#sk-container-id-6 div.sk-estimator input.sk-toggleable__control:checked~label.sk-toggleable__label {background-color: #d4ebff;}#sk-container-id-6 div.sk-label input.sk-toggleable__control:checked~label.sk-toggleable__label {background-color: #d4ebff;}#sk-container-id-6 input.sk-hidden--visually {border: 0;clip: rect(1px 1px 1px 1px);clip: rect(1px, 1px, 1px, 1px);height: 1px;margin: -1px;overflow: hidden;padding: 0;position: absolute;width: 1px;}#sk-container-id-6 div.sk-estimator {font-family: monospace;background-color: #f0f8ff;border: 1px dotted black;border-radius: 0.25em;box-sizing: border-box;margin-bottom: 0.5em;}#sk-container-id-6 div.sk-estimator:hover {background-color: #d4ebff;}#sk-container-id-6 div.sk-parallel-item::after {content: \"\";width: 100%;border-bottom: 1px solid gray;flex-grow: 1;}#sk-container-id-6 div.sk-label:hover label.sk-toggleable__label {background-color: #d4ebff;}#sk-container-id-6 div.sk-serial::before {content: \"\";position: absolute;border-left: 1px solid gray;box-sizing: border-box;top: 0;bottom: 0;left: 50%;z-index: 0;}#sk-container-id-6 div.sk-serial {display: flex;flex-direction: column;align-items: center;background-color: white;padding-right: 0.2em;padding-left: 0.2em;position: relative;}#sk-container-id-6 div.sk-item {position: relative;z-index: 1;}#sk-container-id-6 div.sk-parallel {display: flex;align-items: stretch;justify-content: center;background-color: white;position: relative;}#sk-container-id-6 div.sk-item::before, #sk-container-id-6 div.sk-parallel-item::before {content: \"\";position: absolute;border-left: 1px solid gray;box-sizing: border-box;top: 0;bottom: 0;left: 50%;z-index: -1;}#sk-container-id-6 div.sk-parallel-item {display: flex;flex-direction: column;z-index: 1;position: relative;background-color: white;}#sk-container-id-6 div.sk-parallel-item:first-child::after {align-self: flex-end;width: 50%;}#sk-container-id-6 div.sk-parallel-item:last-child::after {align-self: flex-start;width: 50%;}#sk-container-id-6 div.sk-parallel-item:only-child::after {width: 0;}#sk-container-id-6 div.sk-dashed-wrapped {border: 1px dashed gray;margin: 0 0.4em 0.5em 0.4em;box-sizing: border-box;padding-bottom: 0.4em;background-color: white;}#sk-container-id-6 div.sk-label label {font-family: monospace;font-weight: bold;display: inline-block;line-height: 1.2em;}#sk-container-id-6 div.sk-label-container {text-align: center;}#sk-container-id-6 div.sk-container {/* jupyter's `normalize.less` sets `[hidden] { display: none; }` but bootstrap.min.css set `[hidden] { display: none !important; }` so we also need the `!important` here to be able to override the default hidden behavior on the sphinx rendered scikit-learn.org. See: https://github.com/scikit-learn/scikit-learn/issues/21755 */display: inline-block !important;position: relative;}#sk-container-id-6 div.sk-text-repr-fallback {display: none;}</style><div id=\"sk-container-id-6\" class=\"sk-top-container\"><div class=\"sk-text-repr-fallback\"><pre>GridSearchCV(cv=3,\n",
              "             estimator=XGBClassifier(base_score=None, booster=None,\n",
              "                                     callbacks=None, colsample_bylevel=None,\n",
              "                                     colsample_bynode=None,\n",
              "                                     colsample_bytree=None, device=None,\n",
              "                                     early_stopping_rounds=None,\n",
              "                                     enable_categorical=False, eval_metric=None,\n",
              "                                     feature_types=None, gamma=None,\n",
              "                                     grow_policy=None, importance_type=None,\n",
              "                                     interaction_constraints=None,\n",
              "                                     learning_rate=None,...\n",
              "                                     max_leaves=None, min_child_weight=None,\n",
              "                                     missing=nan, monotone_constraints=None,\n",
              "                                     multi_strategy=None, n_estimators=None,\n",
              "                                     n_jobs=None, num_parallel_tree=None,\n",
              "                                     random_state=None, ...),\n",
              "             param_grid={&#x27;eta&#x27;: [0.01, 0.05, 0.1, 0.15],\n",
              "                         &#x27;eval_metric&#x27;: [&#x27;rmse&#x27;, &#x27;mae&#x27;, &#x27;logloss&#x27;, &#x27;error&#x27;],\n",
              "                         &#x27;max_depth&#x27;: [4, 5, 6, 7],\n",
              "                         &#x27;tree_method&#x27;: [&#x27;auto&#x27;, &#x27;exact&#x27;, &#x27;approx&#x27;, &#x27;hist&#x27;],\n",
              "                         &#x27;use_label_encoder&#x27;: [&#x27;False&#x27;]},\n",
              "             verbose=2)</pre><b>In a Jupyter environment, please rerun this cell to show the HTML representation or trust the notebook. <br />On GitHub, the HTML representation is unable to render, please try loading this page with nbviewer.org.</b></div><div class=\"sk-container\" hidden><div class=\"sk-item sk-dashed-wrapped\"><div class=\"sk-label-container\"><div class=\"sk-label sk-toggleable\"><input class=\"sk-toggleable__control sk-hidden--visually\" id=\"sk-estimator-id-12\" type=\"checkbox\" ><label for=\"sk-estimator-id-12\" class=\"sk-toggleable__label sk-toggleable__label-arrow\">GridSearchCV</label><div class=\"sk-toggleable__content\"><pre>GridSearchCV(cv=3,\n",
              "             estimator=XGBClassifier(base_score=None, booster=None,\n",
              "                                     callbacks=None, colsample_bylevel=None,\n",
              "                                     colsample_bynode=None,\n",
              "                                     colsample_bytree=None, device=None,\n",
              "                                     early_stopping_rounds=None,\n",
              "                                     enable_categorical=False, eval_metric=None,\n",
              "                                     feature_types=None, gamma=None,\n",
              "                                     grow_policy=None, importance_type=None,\n",
              "                                     interaction_constraints=None,\n",
              "                                     learning_rate=None,...\n",
              "                                     max_leaves=None, min_child_weight=None,\n",
              "                                     missing=nan, monotone_constraints=None,\n",
              "                                     multi_strategy=None, n_estimators=None,\n",
              "                                     n_jobs=None, num_parallel_tree=None,\n",
              "                                     random_state=None, ...),\n",
              "             param_grid={&#x27;eta&#x27;: [0.01, 0.05, 0.1, 0.15],\n",
              "                         &#x27;eval_metric&#x27;: [&#x27;rmse&#x27;, &#x27;mae&#x27;, &#x27;logloss&#x27;, &#x27;error&#x27;],\n",
              "                         &#x27;max_depth&#x27;: [4, 5, 6, 7],\n",
              "                         &#x27;tree_method&#x27;: [&#x27;auto&#x27;, &#x27;exact&#x27;, &#x27;approx&#x27;, &#x27;hist&#x27;],\n",
              "                         &#x27;use_label_encoder&#x27;: [&#x27;False&#x27;]},\n",
              "             verbose=2)</pre></div></div></div><div class=\"sk-parallel\"><div class=\"sk-parallel-item\"><div class=\"sk-item\"><div class=\"sk-label-container\"><div class=\"sk-label sk-toggleable\"><input class=\"sk-toggleable__control sk-hidden--visually\" id=\"sk-estimator-id-13\" type=\"checkbox\" ><label for=\"sk-estimator-id-13\" class=\"sk-toggleable__label sk-toggleable__label-arrow\">estimator: XGBClassifier</label><div class=\"sk-toggleable__content\"><pre>XGBClassifier(base_score=None, booster=None, callbacks=None,\n",
              "              colsample_bylevel=None, colsample_bynode=None,\n",
              "              colsample_bytree=None, device=None, early_stopping_rounds=None,\n",
              "              enable_categorical=False, eval_metric=None, feature_types=None,\n",
              "              gamma=None, grow_policy=None, importance_type=None,\n",
              "              interaction_constraints=None, learning_rate=None, max_bin=None,\n",
              "              max_cat_threshold=None, max_cat_to_onehot=None,\n",
              "              max_delta_step=None, max_depth=None, max_leaves=None,\n",
              "              min_child_weight=None, missing=nan, monotone_constraints=None,\n",
              "              multi_strategy=None, n_estimators=None, n_jobs=None,\n",
              "              num_parallel_tree=None, random_state=None, ...)</pre></div></div></div><div class=\"sk-serial\"><div class=\"sk-item\"><div class=\"sk-estimator sk-toggleable\"><input class=\"sk-toggleable__control sk-hidden--visually\" id=\"sk-estimator-id-14\" type=\"checkbox\" ><label for=\"sk-estimator-id-14\" class=\"sk-toggleable__label sk-toggleable__label-arrow\">XGBClassifier</label><div class=\"sk-toggleable__content\"><pre>XGBClassifier(base_score=None, booster=None, callbacks=None,\n",
              "              colsample_bylevel=None, colsample_bynode=None,\n",
              "              colsample_bytree=None, device=None, early_stopping_rounds=None,\n",
              "              enable_categorical=False, eval_metric=None, feature_types=None,\n",
              "              gamma=None, grow_policy=None, importance_type=None,\n",
              "              interaction_constraints=None, learning_rate=None, max_bin=None,\n",
              "              max_cat_threshold=None, max_cat_to_onehot=None,\n",
              "              max_delta_step=None, max_depth=None, max_leaves=None,\n",
              "              min_child_weight=None, missing=nan, monotone_constraints=None,\n",
              "              multi_strategy=None, n_estimators=None, n_jobs=None,\n",
              "              num_parallel_tree=None, random_state=None, ...)</pre></div></div></div></div></div></div></div></div></div></div>"
            ],
            "text/plain": [
              "GridSearchCV(cv=3,\n",
              "             estimator=XGBClassifier(base_score=None, booster=None,\n",
              "                                     callbacks=None, colsample_bylevel=None,\n",
              "                                     colsample_bynode=None,\n",
              "                                     colsample_bytree=None, device=None,\n",
              "                                     early_stopping_rounds=None,\n",
              "                                     enable_categorical=False, eval_metric=None,\n",
              "                                     feature_types=None, gamma=None,\n",
              "                                     grow_policy=None, importance_type=None,\n",
              "                                     interaction_constraints=None,\n",
              "                                     learning_rate=None,...\n",
              "                                     max_leaves=None, min_child_weight=None,\n",
              "                                     missing=nan, monotone_constraints=None,\n",
              "                                     multi_strategy=None, n_estimators=None,\n",
              "                                     n_jobs=None, num_parallel_tree=None,\n",
              "                                     random_state=None, ...),\n",
              "             param_grid={'eta': [0.01, 0.05, 0.1, 0.15],\n",
              "                         'eval_metric': ['rmse', 'mae', 'logloss', 'error'],\n",
              "                         'max_depth': [4, 5, 6, 7],\n",
              "                         'tree_method': ['auto', 'exact', 'approx', 'hist'],\n",
              "                         'use_label_encoder': ['False']},\n",
              "             verbose=2)"
            ]
          },
          "execution_count": 135,
          "metadata": {},
          "output_type": "execute_result"
        }
      ],
      "source": [
        "from xgboost import XGBClassifier\n",
        "\n",
        "CV_xgb=GridSearchCV(estimator=XGBClassifier(), param_grid=param_grid, cv= 3, verbose=2)\n",
        "\n",
        "CV_xgb.fit(x_train,numpy.ravel(y_train))"
      ]
    },
    {
      "cell_type": "code",
      "execution_count": null,
      "metadata": {
        "colab": {
          "base_uri": "https://localhost:8080/"
        },
        "id": "KaqP9TNpUmJK",
        "outputId": "34f02dfb-b973-47f5-c1d9-8b23a05212c1"
      },
      "outputs": [
        {
          "data": {
            "text/plain": [
              "{'eta': 0.05,\n",
              " 'eval_metric': 'rmse',\n",
              " 'max_depth': 5,\n",
              " 'tree_method': 'auto',\n",
              " 'use_label_encoder': 'False'}"
            ]
          },
          "execution_count": 136,
          "metadata": {},
          "output_type": "execute_result"
        }
      ],
      "source": [
        "CV_xgb.best_params_"
      ]
    },
    {
      "cell_type": "code",
      "execution_count": null,
      "metadata": {
        "colab": {
          "base_uri": "https://localhost:8080/",
          "height": 248
        },
        "id": "0bgEwXDuI_j7",
        "outputId": "2b762c08-30ac-4200-b2b6-6ebde85b9af8"
      },
      "outputs": [
        {
          "data": {
            "text/html": [
              "<style>#sk-container-id-7 {color: black;background-color: white;}#sk-container-id-7 pre{padding: 0;}#sk-container-id-7 div.sk-toggleable {background-color: white;}#sk-container-id-7 label.sk-toggleable__label {cursor: pointer;display: block;width: 100%;margin-bottom: 0;padding: 0.3em;box-sizing: border-box;text-align: center;}#sk-container-id-7 label.sk-toggleable__label-arrow:before {content: \"▸\";float: left;margin-right: 0.25em;color: #696969;}#sk-container-id-7 label.sk-toggleable__label-arrow:hover:before {color: black;}#sk-container-id-7 div.sk-estimator:hover label.sk-toggleable__label-arrow:before {color: black;}#sk-container-id-7 div.sk-toggleable__content {max-height: 0;max-width: 0;overflow: hidden;text-align: left;background-color: #f0f8ff;}#sk-container-id-7 div.sk-toggleable__content pre {margin: 0.2em;color: black;border-radius: 0.25em;background-color: #f0f8ff;}#sk-container-id-7 input.sk-toggleable__control:checked~div.sk-toggleable__content {max-height: 200px;max-width: 100%;overflow: auto;}#sk-container-id-7 input.sk-toggleable__control:checked~label.sk-toggleable__label-arrow:before {content: \"▾\";}#sk-container-id-7 div.sk-estimator input.sk-toggleable__control:checked~label.sk-toggleable__label {background-color: #d4ebff;}#sk-container-id-7 div.sk-label input.sk-toggleable__control:checked~label.sk-toggleable__label {background-color: #d4ebff;}#sk-container-id-7 input.sk-hidden--visually {border: 0;clip: rect(1px 1px 1px 1px);clip: rect(1px, 1px, 1px, 1px);height: 1px;margin: -1px;overflow: hidden;padding: 0;position: absolute;width: 1px;}#sk-container-id-7 div.sk-estimator {font-family: monospace;background-color: #f0f8ff;border: 1px dotted black;border-radius: 0.25em;box-sizing: border-box;margin-bottom: 0.5em;}#sk-container-id-7 div.sk-estimator:hover {background-color: #d4ebff;}#sk-container-id-7 div.sk-parallel-item::after {content: \"\";width: 100%;border-bottom: 1px solid gray;flex-grow: 1;}#sk-container-id-7 div.sk-label:hover label.sk-toggleable__label {background-color: #d4ebff;}#sk-container-id-7 div.sk-serial::before {content: \"\";position: absolute;border-left: 1px solid gray;box-sizing: border-box;top: 0;bottom: 0;left: 50%;z-index: 0;}#sk-container-id-7 div.sk-serial {display: flex;flex-direction: column;align-items: center;background-color: white;padding-right: 0.2em;padding-left: 0.2em;position: relative;}#sk-container-id-7 div.sk-item {position: relative;z-index: 1;}#sk-container-id-7 div.sk-parallel {display: flex;align-items: stretch;justify-content: center;background-color: white;position: relative;}#sk-container-id-7 div.sk-item::before, #sk-container-id-7 div.sk-parallel-item::before {content: \"\";position: absolute;border-left: 1px solid gray;box-sizing: border-box;top: 0;bottom: 0;left: 50%;z-index: -1;}#sk-container-id-7 div.sk-parallel-item {display: flex;flex-direction: column;z-index: 1;position: relative;background-color: white;}#sk-container-id-7 div.sk-parallel-item:first-child::after {align-self: flex-end;width: 50%;}#sk-container-id-7 div.sk-parallel-item:last-child::after {align-self: flex-start;width: 50%;}#sk-container-id-7 div.sk-parallel-item:only-child::after {width: 0;}#sk-container-id-7 div.sk-dashed-wrapped {border: 1px dashed gray;margin: 0 0.4em 0.5em 0.4em;box-sizing: border-box;padding-bottom: 0.4em;background-color: white;}#sk-container-id-7 div.sk-label label {font-family: monospace;font-weight: bold;display: inline-block;line-height: 1.2em;}#sk-container-id-7 div.sk-label-container {text-align: center;}#sk-container-id-7 div.sk-container {/* jupyter's `normalize.less` sets `[hidden] { display: none; }` but bootstrap.min.css set `[hidden] { display: none !important; }` so we also need the `!important` here to be able to override the default hidden behavior on the sphinx rendered scikit-learn.org. See: https://github.com/scikit-learn/scikit-learn/issues/21755 */display: inline-block !important;position: relative;}#sk-container-id-7 div.sk-text-repr-fallback {display: none;}</style><div id=\"sk-container-id-7\" class=\"sk-top-container\"><div class=\"sk-text-repr-fallback\"><pre>XGBClassifier(base_score=None, booster=None, callbacks=None,\n",
              "              colsample_bylevel=None, colsample_bynode=None,\n",
              "              colsample_bytree=None, device=None, early_stopping_rounds=None,\n",
              "              enable_categorical=False, eta=0.05, eval_metric=&#x27;rmse&#x27;,\n",
              "              feature_types=None, gamma=None, grow_policy=None,\n",
              "              importance_type=None, interaction_constraints=None,\n",
              "              learning_rate=None, max_bin=None, max_cat_threshold=None,\n",
              "              max_cat_to_onehot=None, max_delta_step=None, max_depth=5,\n",
              "              max_leaves=None, min_child_weight=None, missing=nan,\n",
              "              monotone_constraints=None, multi_strategy=None, n_estimators=None,\n",
              "              n_jobs=None, num_parallel_tree=None, ...)</pre><b>In a Jupyter environment, please rerun this cell to show the HTML representation or trust the notebook. <br />On GitHub, the HTML representation is unable to render, please try loading this page with nbviewer.org.</b></div><div class=\"sk-container\" hidden><div class=\"sk-item\"><div class=\"sk-estimator sk-toggleable\"><input class=\"sk-toggleable__control sk-hidden--visually\" id=\"sk-estimator-id-15\" type=\"checkbox\" checked><label for=\"sk-estimator-id-15\" class=\"sk-toggleable__label sk-toggleable__label-arrow\">XGBClassifier</label><div class=\"sk-toggleable__content\"><pre>XGBClassifier(base_score=None, booster=None, callbacks=None,\n",
              "              colsample_bylevel=None, colsample_bynode=None,\n",
              "              colsample_bytree=None, device=None, early_stopping_rounds=None,\n",
              "              enable_categorical=False, eta=0.05, eval_metric=&#x27;rmse&#x27;,\n",
              "              feature_types=None, gamma=None, grow_policy=None,\n",
              "              importance_type=None, interaction_constraints=None,\n",
              "              learning_rate=None, max_bin=None, max_cat_threshold=None,\n",
              "              max_cat_to_onehot=None, max_delta_step=None, max_depth=5,\n",
              "              max_leaves=None, min_child_weight=None, missing=nan,\n",
              "              monotone_constraints=None, multi_strategy=None, n_estimators=None,\n",
              "              n_jobs=None, num_parallel_tree=None, ...)</pre></div></div></div></div></div>"
            ],
            "text/plain": [
              "XGBClassifier(base_score=None, booster=None, callbacks=None,\n",
              "              colsample_bylevel=None, colsample_bynode=None,\n",
              "              colsample_bytree=None, device=None, early_stopping_rounds=None,\n",
              "              enable_categorical=False, eta=0.05, eval_metric='rmse',\n",
              "              feature_types=None, gamma=None, grow_policy=None,\n",
              "              importance_type=None, interaction_constraints=None,\n",
              "              learning_rate=None, max_bin=None, max_cat_threshold=None,\n",
              "              max_cat_to_onehot=None, max_delta_step=None, max_depth=5,\n",
              "              max_leaves=None, min_child_weight=None, missing=nan,\n",
              "              monotone_constraints=None, multi_strategy=None, n_estimators=None,\n",
              "              n_jobs=None, num_parallel_tree=None, ...)"
            ]
          },
          "execution_count": 137,
          "metadata": {},
          "output_type": "execute_result"
        }
      ],
      "source": [
        "xgb = XGBClassifier(**CV_xgb.best_params_)\n",
        "xgb.fit(x_train, numpy.ravel(y_train))"
      ]
    },
    {
      "cell_type": "code",
      "execution_count": null,
      "metadata": {
        "id": "xfGwkHHHMhBm"
      },
      "outputs": [],
      "source": [
        "y_pred = xgb.predict(x_test)"
      ]
    },
    {
      "cell_type": "code",
      "execution_count": null,
      "metadata": {
        "colab": {
          "base_uri": "https://localhost:8080/"
        },
        "id": "SMt-ptM1MxDs",
        "outputId": "1666d990-e6d9-4d94-ae1e-a5208906b052"
      },
      "outputs": [
        {
          "data": {
            "text/plain": [
              "array([[0],\n",
              "       [0],\n",
              "       [1],\n",
              "       ...,\n",
              "       [0],\n",
              "       [0],\n",
              "       [1]])"
            ]
          },
          "execution_count": 139,
          "metadata": {},
          "output_type": "execute_result"
        }
      ],
      "source": [
        "y_test.values"
      ]
    },
    {
      "cell_type": "code",
      "execution_count": null,
      "metadata": {
        "colab": {
          "base_uri": "https://localhost:8080/"
        },
        "id": "r7qIEyKfMt0C",
        "outputId": "3b70526f-8407-4e42-fdf7-78d76ab7e3d2"
      },
      "outputs": [
        {
          "name": "stdout",
          "output_type": "stream",
          "text": [
            "accuracy:84.400000\n",
            "\n",
            " recall score:40.294840\n",
            "\n",
            " roc score :67.981695\n",
            "[[1524   69]\n",
            " [ 243  164]]\n"
          ]
        }
      ],
      "source": [
        "print(\"accuracy:%f\"%(accuracy_score(y_test,y_pred)*100))\n",
        "print(\"\\n recall score:%f\"%(recall_score(y_test,y_pred)*100))\n",
        "print(\"\\n roc score :%f\"%(roc_auc_score(y_test,y_pred)*100))\n",
        "print(confusion_matrix(y_test,y_pred))\n",
        "accuracy_xgb = accuracy_score(y_test,y_pred)*100"
      ]
    },
    {
      "cell_type": "code",
      "execution_count": null,
      "metadata": {
        "colab": {
          "base_uri": "https://localhost:8080/"
        },
        "id": "zhq4ovaOSwHk",
        "outputId": "cb1f27d8-e02c-4866-93ad-1142d5a9c50a"
      },
      "outputs": [
        {
          "name": "stdout",
          "output_type": "stream",
          "text": [
            "Classification Report:\n",
            "               precision    recall  f1-score   support\n",
            "\n",
            "           0       0.86      0.96      0.91      1593\n",
            "           1       0.70      0.40      0.51       407\n",
            "\n",
            "    accuracy                           0.84      2000\n",
            "   macro avg       0.78      0.68      0.71      2000\n",
            "weighted avg       0.83      0.84      0.83      2000\n",
            "\n"
          ]
        }
      ],
      "source": [
        "from sklearn.metrics import classification_report\n",
        "xgb_report = classification_report(y_test, y_pred)\n",
        "print('Classification Report:\\n', xgb_report)"
      ]
    },
    {
      "cell_type": "markdown",
      "metadata": {
        "id": "zUa-97pmNMAq"
      },
      "source": [
        "MLP Classifier"
      ]
    },
    {
      "cell_type": "code",
      "execution_count": null,
      "metadata": {
        "id": "9YKNlQb0VtGB"
      },
      "outputs": [],
      "source": [
        "param_grid = {\n",
        "    'hidden_layer_sizes': [70,80,90,100],\n",
        "    'activation' : ['relu','logistic'],\n",
        "    'solver' :['sgd', 'adam'],\n",
        "    'learning_rate' :['invscaling', 'adaptive']\n",
        "}\n",
        "\n"
      ]
    },
    {
      "cell_type": "code",
      "execution_count": null,
      "metadata": {
        "colab": {
          "base_uri": "https://localhost:8080/",
          "height": 1000
        },
        "id": "HnmaJq4PWoTZ",
        "outputId": "f41c435a-8bc9-4d67-bb4c-fce593691b47"
      },
      "outputs": [
        {
          "name": "stdout",
          "output_type": "stream",
          "text": [
            "Fitting 3 folds for each of 32 candidates, totalling 96 fits\n",
            "[CV] END activation=relu, hidden_layer_sizes=70, learning_rate=invscaling, solver=sgd; total time=   2.5s\n",
            "[CV] END activation=relu, hidden_layer_sizes=70, learning_rate=invscaling, solver=sgd; total time=   1.9s\n",
            "[CV] END activation=relu, hidden_layer_sizes=70, learning_rate=invscaling, solver=sgd; total time=   1.2s\n"
          ]
        },
        {
          "name": "stderr",
          "output_type": "stream",
          "text": [
            "/usr/local/lib/python3.10/dist-packages/sklearn/neural_network/_multilayer_perceptron.py:686: ConvergenceWarning: Stochastic Optimizer: Maximum iterations (200) reached and the optimization hasn't converged yet.\n",
            "  warnings.warn(\n"
          ]
        },
        {
          "name": "stdout",
          "output_type": "stream",
          "text": [
            "[CV] END activation=relu, hidden_layer_sizes=70, learning_rate=invscaling, solver=adam; total time=   5.1s\n"
          ]
        },
        {
          "name": "stderr",
          "output_type": "stream",
          "text": [
            "/usr/local/lib/python3.10/dist-packages/sklearn/neural_network/_multilayer_perceptron.py:686: ConvergenceWarning: Stochastic Optimizer: Maximum iterations (200) reached and the optimization hasn't converged yet.\n",
            "  warnings.warn(\n"
          ]
        },
        {
          "name": "stdout",
          "output_type": "stream",
          "text": [
            "[CV] END activation=relu, hidden_layer_sizes=70, learning_rate=invscaling, solver=adam; total time=   8.7s\n"
          ]
        },
        {
          "name": "stderr",
          "output_type": "stream",
          "text": [
            "/usr/local/lib/python3.10/dist-packages/sklearn/neural_network/_multilayer_perceptron.py:686: ConvergenceWarning: Stochastic Optimizer: Maximum iterations (200) reached and the optimization hasn't converged yet.\n",
            "  warnings.warn(\n"
          ]
        },
        {
          "name": "stdout",
          "output_type": "stream",
          "text": [
            "[CV] END activation=relu, hidden_layer_sizes=70, learning_rate=invscaling, solver=adam; total time=   5.2s\n"
          ]
        },
        {
          "name": "stderr",
          "output_type": "stream",
          "text": [
            "/usr/local/lib/python3.10/dist-packages/sklearn/neural_network/_multilayer_perceptron.py:686: ConvergenceWarning: Stochastic Optimizer: Maximum iterations (200) reached and the optimization hasn't converged yet.\n",
            "  warnings.warn(\n"
          ]
        },
        {
          "name": "stdout",
          "output_type": "stream",
          "text": [
            "[CV] END activation=relu, hidden_layer_sizes=70, learning_rate=adaptive, solver=sgd; total time=   8.0s\n"
          ]
        },
        {
          "name": "stderr",
          "output_type": "stream",
          "text": [
            "/usr/local/lib/python3.10/dist-packages/sklearn/neural_network/_multilayer_perceptron.py:686: ConvergenceWarning: Stochastic Optimizer: Maximum iterations (200) reached and the optimization hasn't converged yet.\n",
            "  warnings.warn(\n"
          ]
        },
        {
          "name": "stdout",
          "output_type": "stream",
          "text": [
            "[CV] END activation=relu, hidden_layer_sizes=70, learning_rate=adaptive, solver=sgd; total time=   4.9s\n"
          ]
        },
        {
          "name": "stderr",
          "output_type": "stream",
          "text": [
            "/usr/local/lib/python3.10/dist-packages/sklearn/neural_network/_multilayer_perceptron.py:686: ConvergenceWarning: Stochastic Optimizer: Maximum iterations (200) reached and the optimization hasn't converged yet.\n",
            "  warnings.warn(\n"
          ]
        },
        {
          "name": "stdout",
          "output_type": "stream",
          "text": [
            "[CV] END activation=relu, hidden_layer_sizes=70, learning_rate=adaptive, solver=sgd; total time=   4.7s\n"
          ]
        },
        {
          "name": "stderr",
          "output_type": "stream",
          "text": [
            "/usr/local/lib/python3.10/dist-packages/sklearn/neural_network/_multilayer_perceptron.py:686: ConvergenceWarning: Stochastic Optimizer: Maximum iterations (200) reached and the optimization hasn't converged yet.\n",
            "  warnings.warn(\n"
          ]
        },
        {
          "name": "stdout",
          "output_type": "stream",
          "text": [
            "[CV] END activation=relu, hidden_layer_sizes=70, learning_rate=adaptive, solver=adam; total time=   8.5s\n"
          ]
        },
        {
          "name": "stderr",
          "output_type": "stream",
          "text": [
            "/usr/local/lib/python3.10/dist-packages/sklearn/neural_network/_multilayer_perceptron.py:686: ConvergenceWarning: Stochastic Optimizer: Maximum iterations (200) reached and the optimization hasn't converged yet.\n",
            "  warnings.warn(\n"
          ]
        },
        {
          "name": "stdout",
          "output_type": "stream",
          "text": [
            "[CV] END activation=relu, hidden_layer_sizes=70, learning_rate=adaptive, solver=adam; total time=   5.2s\n",
            "[CV] END activation=relu, hidden_layer_sizes=70, learning_rate=adaptive, solver=adam; total time=   7.2s\n",
            "[CV] END activation=relu, hidden_layer_sizes=80, learning_rate=invscaling, solver=sgd; total time=   1.6s\n",
            "[CV] END activation=relu, hidden_layer_sizes=80, learning_rate=invscaling, solver=sgd; total time=   2.4s\n",
            "[CV] END activation=relu, hidden_layer_sizes=80, learning_rate=invscaling, solver=sgd; total time=   1.6s\n"
          ]
        },
        {
          "name": "stderr",
          "output_type": "stream",
          "text": [
            "/usr/local/lib/python3.10/dist-packages/sklearn/neural_network/_multilayer_perceptron.py:686: ConvergenceWarning: Stochastic Optimizer: Maximum iterations (200) reached and the optimization hasn't converged yet.\n",
            "  warnings.warn(\n"
          ]
        },
        {
          "name": "stdout",
          "output_type": "stream",
          "text": [
            "[CV] END activation=relu, hidden_layer_sizes=80, learning_rate=invscaling, solver=adam; total time=   5.4s\n"
          ]
        },
        {
          "name": "stderr",
          "output_type": "stream",
          "text": [
            "/usr/local/lib/python3.10/dist-packages/sklearn/neural_network/_multilayer_perceptron.py:686: ConvergenceWarning: Stochastic Optimizer: Maximum iterations (200) reached and the optimization hasn't converged yet.\n",
            "  warnings.warn(\n"
          ]
        },
        {
          "name": "stdout",
          "output_type": "stream",
          "text": [
            "[CV] END activation=relu, hidden_layer_sizes=80, learning_rate=invscaling, solver=adam; total time=   9.0s\n",
            "[CV] END activation=relu, hidden_layer_sizes=80, learning_rate=invscaling, solver=adam; total time=   4.7s\n"
          ]
        },
        {
          "name": "stderr",
          "output_type": "stream",
          "text": [
            "/usr/local/lib/python3.10/dist-packages/sklearn/neural_network/_multilayer_perceptron.py:686: ConvergenceWarning: Stochastic Optimizer: Maximum iterations (200) reached and the optimization hasn't converged yet.\n",
            "  warnings.warn(\n"
          ]
        },
        {
          "name": "stdout",
          "output_type": "stream",
          "text": [
            "[CV] END activation=relu, hidden_layer_sizes=80, learning_rate=adaptive, solver=sgd; total time=   8.1s\n"
          ]
        },
        {
          "name": "stderr",
          "output_type": "stream",
          "text": [
            "/usr/local/lib/python3.10/dist-packages/sklearn/neural_network/_multilayer_perceptron.py:686: ConvergenceWarning: Stochastic Optimizer: Maximum iterations (200) reached and the optimization hasn't converged yet.\n",
            "  warnings.warn(\n"
          ]
        },
        {
          "name": "stdout",
          "output_type": "stream",
          "text": [
            "[CV] END activation=relu, hidden_layer_sizes=80, learning_rate=adaptive, solver=sgd; total time=   5.6s\n"
          ]
        },
        {
          "name": "stderr",
          "output_type": "stream",
          "text": [
            "/usr/local/lib/python3.10/dist-packages/sklearn/neural_network/_multilayer_perceptron.py:686: ConvergenceWarning: Stochastic Optimizer: Maximum iterations (200) reached and the optimization hasn't converged yet.\n",
            "  warnings.warn(\n"
          ]
        },
        {
          "name": "stdout",
          "output_type": "stream",
          "text": [
            "[CV] END activation=relu, hidden_layer_sizes=80, learning_rate=adaptive, solver=sgd; total time=   5.2s\n",
            "[CV] END activation=relu, hidden_layer_sizes=80, learning_rate=adaptive, solver=adam; total time=   8.4s\n"
          ]
        },
        {
          "name": "stderr",
          "output_type": "stream",
          "text": [
            "/usr/local/lib/python3.10/dist-packages/sklearn/neural_network/_multilayer_perceptron.py:686: ConvergenceWarning: Stochastic Optimizer: Maximum iterations (200) reached and the optimization hasn't converged yet.\n",
            "  warnings.warn(\n"
          ]
        },
        {
          "name": "stdout",
          "output_type": "stream",
          "text": [
            "[CV] END activation=relu, hidden_layer_sizes=80, learning_rate=adaptive, solver=adam; total time=   5.4s\n"
          ]
        },
        {
          "name": "stderr",
          "output_type": "stream",
          "text": [
            "/usr/local/lib/python3.10/dist-packages/sklearn/neural_network/_multilayer_perceptron.py:686: ConvergenceWarning: Stochastic Optimizer: Maximum iterations (200) reached and the optimization hasn't converged yet.\n",
            "  warnings.warn(\n"
          ]
        },
        {
          "name": "stdout",
          "output_type": "stream",
          "text": [
            "[CV] END activation=relu, hidden_layer_sizes=80, learning_rate=adaptive, solver=adam; total time=   8.6s\n",
            "[CV] END activation=relu, hidden_layer_sizes=90, learning_rate=invscaling, solver=sgd; total time=   1.0s\n",
            "[CV] END activation=relu, hidden_layer_sizes=90, learning_rate=invscaling, solver=sgd; total time=   1.3s\n",
            "[CV] END activation=relu, hidden_layer_sizes=90, learning_rate=invscaling, solver=sgd; total time=   1.6s\n"
          ]
        },
        {
          "name": "stderr",
          "output_type": "stream",
          "text": [
            "/usr/local/lib/python3.10/dist-packages/sklearn/neural_network/_multilayer_perceptron.py:686: ConvergenceWarning: Stochastic Optimizer: Maximum iterations (200) reached and the optimization hasn't converged yet.\n",
            "  warnings.warn(\n"
          ]
        },
        {
          "name": "stdout",
          "output_type": "stream",
          "text": [
            "[CV] END activation=relu, hidden_layer_sizes=90, learning_rate=invscaling, solver=adam; total time=   6.4s\n"
          ]
        },
        {
          "name": "stderr",
          "output_type": "stream",
          "text": [
            "/usr/local/lib/python3.10/dist-packages/sklearn/neural_network/_multilayer_perceptron.py:686: ConvergenceWarning: Stochastic Optimizer: Maximum iterations (200) reached and the optimization hasn't converged yet.\n",
            "  warnings.warn(\n"
          ]
        },
        {
          "name": "stdout",
          "output_type": "stream",
          "text": [
            "[CV] END activation=relu, hidden_layer_sizes=90, learning_rate=invscaling, solver=adam; total time=   8.8s\n"
          ]
        },
        {
          "name": "stderr",
          "output_type": "stream",
          "text": [
            "/usr/local/lib/python3.10/dist-packages/sklearn/neural_network/_multilayer_perceptron.py:686: ConvergenceWarning: Stochastic Optimizer: Maximum iterations (200) reached and the optimization hasn't converged yet.\n",
            "  warnings.warn(\n"
          ]
        },
        {
          "name": "stdout",
          "output_type": "stream",
          "text": [
            "[CV] END activation=relu, hidden_layer_sizes=90, learning_rate=invscaling, solver=adam; total time=   5.7s\n"
          ]
        },
        {
          "name": "stderr",
          "output_type": "stream",
          "text": [
            "/usr/local/lib/python3.10/dist-packages/sklearn/neural_network/_multilayer_perceptron.py:686: ConvergenceWarning: Stochastic Optimizer: Maximum iterations (200) reached and the optimization hasn't converged yet.\n",
            "  warnings.warn(\n"
          ]
        },
        {
          "name": "stdout",
          "output_type": "stream",
          "text": [
            "[CV] END activation=relu, hidden_layer_sizes=90, learning_rate=adaptive, solver=sgd; total time=   8.7s\n"
          ]
        },
        {
          "name": "stderr",
          "output_type": "stream",
          "text": [
            "/usr/local/lib/python3.10/dist-packages/sklearn/neural_network/_multilayer_perceptron.py:686: ConvergenceWarning: Stochastic Optimizer: Maximum iterations (200) reached and the optimization hasn't converged yet.\n",
            "  warnings.warn(\n"
          ]
        },
        {
          "name": "stdout",
          "output_type": "stream",
          "text": [
            "[CV] END activation=relu, hidden_layer_sizes=90, learning_rate=adaptive, solver=sgd; total time=   5.4s\n"
          ]
        },
        {
          "name": "stderr",
          "output_type": "stream",
          "text": [
            "/usr/local/lib/python3.10/dist-packages/sklearn/neural_network/_multilayer_perceptron.py:686: ConvergenceWarning: Stochastic Optimizer: Maximum iterations (200) reached and the optimization hasn't converged yet.\n",
            "  warnings.warn(\n"
          ]
        },
        {
          "name": "stdout",
          "output_type": "stream",
          "text": [
            "[CV] END activation=relu, hidden_layer_sizes=90, learning_rate=adaptive, solver=sgd; total time=   7.2s\n",
            "[CV] END activation=relu, hidden_layer_sizes=90, learning_rate=adaptive, solver=adam; total time=   5.6s\n"
          ]
        },
        {
          "name": "stderr",
          "output_type": "stream",
          "text": [
            "/usr/local/lib/python3.10/dist-packages/sklearn/neural_network/_multilayer_perceptron.py:686: ConvergenceWarning: Stochastic Optimizer: Maximum iterations (200) reached and the optimization hasn't converged yet.\n",
            "  warnings.warn(\n"
          ]
        },
        {
          "name": "stdout",
          "output_type": "stream",
          "text": [
            "[CV] END activation=relu, hidden_layer_sizes=90, learning_rate=adaptive, solver=adam; total time=   9.1s\n"
          ]
        },
        {
          "name": "stderr",
          "output_type": "stream",
          "text": [
            "/usr/local/lib/python3.10/dist-packages/sklearn/neural_network/_multilayer_perceptron.py:686: ConvergenceWarning: Stochastic Optimizer: Maximum iterations (200) reached and the optimization hasn't converged yet.\n",
            "  warnings.warn(\n"
          ]
        },
        {
          "name": "stdout",
          "output_type": "stream",
          "text": [
            "[CV] END activation=relu, hidden_layer_sizes=90, learning_rate=adaptive, solver=adam; total time=   5.8s\n",
            "[CV] END activation=relu, hidden_layer_sizes=100, learning_rate=invscaling, solver=sgd; total time=   2.2s\n",
            "[CV] END activation=relu, hidden_layer_sizes=100, learning_rate=invscaling, solver=sgd; total time=   2.7s\n",
            "[CV] END activation=relu, hidden_layer_sizes=100, learning_rate=invscaling, solver=sgd; total time=   0.9s\n"
          ]
        },
        {
          "name": "stderr",
          "output_type": "stream",
          "text": [
            "/usr/local/lib/python3.10/dist-packages/sklearn/neural_network/_multilayer_perceptron.py:686: ConvergenceWarning: Stochastic Optimizer: Maximum iterations (200) reached and the optimization hasn't converged yet.\n",
            "  warnings.warn(\n"
          ]
        },
        {
          "name": "stdout",
          "output_type": "stream",
          "text": [
            "[CV] END activation=relu, hidden_layer_sizes=100, learning_rate=invscaling, solver=adam; total time=   8.4s\n"
          ]
        },
        {
          "name": "stderr",
          "output_type": "stream",
          "text": [
            "/usr/local/lib/python3.10/dist-packages/sklearn/neural_network/_multilayer_perceptron.py:686: ConvergenceWarning: Stochastic Optimizer: Maximum iterations (200) reached and the optimization hasn't converged yet.\n",
            "  warnings.warn(\n"
          ]
        },
        {
          "name": "stdout",
          "output_type": "stream",
          "text": [
            "[CV] END activation=relu, hidden_layer_sizes=100, learning_rate=invscaling, solver=adam; total time=   6.4s\n"
          ]
        },
        {
          "name": "stderr",
          "output_type": "stream",
          "text": [
            "/usr/local/lib/python3.10/dist-packages/sklearn/neural_network/_multilayer_perceptron.py:686: ConvergenceWarning: Stochastic Optimizer: Maximum iterations (200) reached and the optimization hasn't converged yet.\n",
            "  warnings.warn(\n"
          ]
        },
        {
          "name": "stdout",
          "output_type": "stream",
          "text": [
            "[CV] END activation=relu, hidden_layer_sizes=100, learning_rate=invscaling, solver=adam; total time=   9.2s\n"
          ]
        },
        {
          "name": "stderr",
          "output_type": "stream",
          "text": [
            "/usr/local/lib/python3.10/dist-packages/sklearn/neural_network/_multilayer_perceptron.py:686: ConvergenceWarning: Stochastic Optimizer: Maximum iterations (200) reached and the optimization hasn't converged yet.\n",
            "  warnings.warn(\n"
          ]
        },
        {
          "name": "stdout",
          "output_type": "stream",
          "text": [
            "[CV] END activation=relu, hidden_layer_sizes=100, learning_rate=adaptive, solver=sgd; total time=   5.8s\n"
          ]
        },
        {
          "name": "stderr",
          "output_type": "stream",
          "text": [
            "/usr/local/lib/python3.10/dist-packages/sklearn/neural_network/_multilayer_perceptron.py:686: ConvergenceWarning: Stochastic Optimizer: Maximum iterations (200) reached and the optimization hasn't converged yet.\n",
            "  warnings.warn(\n"
          ]
        },
        {
          "name": "stdout",
          "output_type": "stream",
          "text": [
            "[CV] END activation=relu, hidden_layer_sizes=100, learning_rate=adaptive, solver=sgd; total time=   9.3s\n"
          ]
        },
        {
          "name": "stderr",
          "output_type": "stream",
          "text": [
            "/usr/local/lib/python3.10/dist-packages/sklearn/neural_network/_multilayer_perceptron.py:686: ConvergenceWarning: Stochastic Optimizer: Maximum iterations (200) reached and the optimization hasn't converged yet.\n",
            "  warnings.warn(\n"
          ]
        },
        {
          "name": "stdout",
          "output_type": "stream",
          "text": [
            "[CV] END activation=relu, hidden_layer_sizes=100, learning_rate=adaptive, solver=sgd; total time=   5.8s\n",
            "[CV] END activation=relu, hidden_layer_sizes=100, learning_rate=adaptive, solver=adam; total time=   8.0s\n"
          ]
        },
        {
          "name": "stderr",
          "output_type": "stream",
          "text": [
            "/usr/local/lib/python3.10/dist-packages/sklearn/neural_network/_multilayer_perceptron.py:686: ConvergenceWarning: Stochastic Optimizer: Maximum iterations (200) reached and the optimization hasn't converged yet.\n",
            "  warnings.warn(\n"
          ]
        },
        {
          "name": "stdout",
          "output_type": "stream",
          "text": [
            "[CV] END activation=relu, hidden_layer_sizes=100, learning_rate=adaptive, solver=adam; total time=   6.1s\n"
          ]
        },
        {
          "name": "stderr",
          "output_type": "stream",
          "text": [
            "/usr/local/lib/python3.10/dist-packages/sklearn/neural_network/_multilayer_perceptron.py:686: ConvergenceWarning: Stochastic Optimizer: Maximum iterations (200) reached and the optimization hasn't converged yet.\n",
            "  warnings.warn(\n"
          ]
        },
        {
          "name": "stdout",
          "output_type": "stream",
          "text": [
            "[CV] END activation=relu, hidden_layer_sizes=100, learning_rate=adaptive, solver=adam; total time=   9.5s\n",
            "[CV] END activation=logistic, hidden_layer_sizes=70, learning_rate=invscaling, solver=sgd; total time=   0.5s\n",
            "[CV] END activation=logistic, hidden_layer_sizes=70, learning_rate=invscaling, solver=sgd; total time=   0.4s\n",
            "[CV] END activation=logistic, hidden_layer_sizes=70, learning_rate=invscaling, solver=sgd; total time=   0.5s\n",
            "[CV] END activation=logistic, hidden_layer_sizes=70, learning_rate=invscaling, solver=adam; total time=   2.8s\n",
            "[CV] END activation=logistic, hidden_layer_sizes=70, learning_rate=invscaling, solver=adam; total time=   2.6s\n",
            "[CV] END activation=logistic, hidden_layer_sizes=70, learning_rate=invscaling, solver=adam; total time=   2.6s\n",
            "[CV] END activation=logistic, hidden_layer_sizes=70, learning_rate=adaptive, solver=sgd; total time=   3.9s\n",
            "[CV] END activation=logistic, hidden_layer_sizes=70, learning_rate=adaptive, solver=sgd; total time=   3.6s\n",
            "[CV] END activation=logistic, hidden_layer_sizes=70, learning_rate=adaptive, solver=sgd; total time=   1.9s\n",
            "[CV] END activation=logistic, hidden_layer_sizes=70, learning_rate=adaptive, solver=adam; total time=   2.5s\n",
            "[CV] END activation=logistic, hidden_layer_sizes=70, learning_rate=adaptive, solver=adam; total time=   2.6s\n",
            "[CV] END activation=logistic, hidden_layer_sizes=70, learning_rate=adaptive, solver=adam; total time=   4.4s\n",
            "[CV] END activation=logistic, hidden_layer_sizes=80, learning_rate=invscaling, solver=sgd; total time=   1.0s\n",
            "[CV] END activation=logistic, hidden_layer_sizes=80, learning_rate=invscaling, solver=sgd; total time=   0.9s\n",
            "[CV] END activation=logistic, hidden_layer_sizes=80, learning_rate=invscaling, solver=sgd; total time=   1.1s\n",
            "[CV] END activation=logistic, hidden_layer_sizes=80, learning_rate=invscaling, solver=adam; total time=   3.0s\n",
            "[CV] END activation=logistic, hidden_layer_sizes=80, learning_rate=invscaling, solver=adam; total time=   2.5s\n",
            "[CV] END activation=logistic, hidden_layer_sizes=80, learning_rate=invscaling, solver=adam; total time=   2.4s\n",
            "[CV] END activation=logistic, hidden_layer_sizes=80, learning_rate=adaptive, solver=sgd; total time=   3.3s\n",
            "[CV] END activation=logistic, hidden_layer_sizes=80, learning_rate=adaptive, solver=sgd; total time=   4.3s\n",
            "[CV] END activation=logistic, hidden_layer_sizes=80, learning_rate=adaptive, solver=sgd; total time=   3.1s\n",
            "[CV] END activation=logistic, hidden_layer_sizes=80, learning_rate=adaptive, solver=adam; total time=   3.3s\n",
            "[CV] END activation=logistic, hidden_layer_sizes=80, learning_rate=adaptive, solver=adam; total time=   2.9s\n",
            "[CV] END activation=logistic, hidden_layer_sizes=80, learning_rate=adaptive, solver=adam; total time=   4.1s\n",
            "[CV] END activation=logistic, hidden_layer_sizes=90, learning_rate=invscaling, solver=sgd; total time=   1.2s\n",
            "[CV] END activation=logistic, hidden_layer_sizes=90, learning_rate=invscaling, solver=sgd; total time=   1.1s\n",
            "[CV] END activation=logistic, hidden_layer_sizes=90, learning_rate=invscaling, solver=sgd; total time=   1.2s\n",
            "[CV] END activation=logistic, hidden_layer_sizes=90, learning_rate=invscaling, solver=adam; total time=   2.9s\n",
            "[CV] END activation=logistic, hidden_layer_sizes=90, learning_rate=invscaling, solver=adam; total time=   3.2s\n",
            "[CV] END activation=logistic, hidden_layer_sizes=90, learning_rate=invscaling, solver=adam; total time=   3.0s\n",
            "[CV] END activation=logistic, hidden_layer_sizes=90, learning_rate=adaptive, solver=sgd; total time=   3.9s\n",
            "[CV] END activation=logistic, hidden_layer_sizes=90, learning_rate=adaptive, solver=sgd; total time=   4.1s\n",
            "[CV] END activation=logistic, hidden_layer_sizes=90, learning_rate=adaptive, solver=sgd; total time=   2.6s\n",
            "[CV] END activation=logistic, hidden_layer_sizes=90, learning_rate=adaptive, solver=adam; total time=   2.9s\n",
            "[CV] END activation=logistic, hidden_layer_sizes=90, learning_rate=adaptive, solver=adam; total time=   2.7s\n",
            "[CV] END activation=logistic, hidden_layer_sizes=90, learning_rate=adaptive, solver=adam; total time=   3.7s\n",
            "[CV] END activation=logistic, hidden_layer_sizes=100, learning_rate=invscaling, solver=sgd; total time=   1.0s\n",
            "[CV] END activation=logistic, hidden_layer_sizes=100, learning_rate=invscaling, solver=sgd; total time=   1.0s\n",
            "[CV] END activation=logistic, hidden_layer_sizes=100, learning_rate=invscaling, solver=sgd; total time=   1.1s\n",
            "[CV] END activation=logistic, hidden_layer_sizes=100, learning_rate=invscaling, solver=adam; total time=   2.9s\n",
            "[CV] END activation=logistic, hidden_layer_sizes=100, learning_rate=invscaling, solver=adam; total time=   3.1s\n",
            "[CV] END activation=logistic, hidden_layer_sizes=100, learning_rate=invscaling, solver=adam; total time=   3.1s\n",
            "[CV] END activation=logistic, hidden_layer_sizes=100, learning_rate=adaptive, solver=sgd; total time=   7.5s\n",
            "[CV] END activation=logistic, hidden_layer_sizes=100, learning_rate=adaptive, solver=sgd; total time=   2.7s\n",
            "[CV] END activation=logistic, hidden_layer_sizes=100, learning_rate=adaptive, solver=sgd; total time=   2.7s\n",
            "[CV] END activation=logistic, hidden_layer_sizes=100, learning_rate=adaptive, solver=adam; total time=   3.6s\n",
            "[CV] END activation=logistic, hidden_layer_sizes=100, learning_rate=adaptive, solver=adam; total time=   6.4s\n",
            "[CV] END activation=logistic, hidden_layer_sizes=100, learning_rate=adaptive, solver=adam; total time=   3.0s\n"
          ]
        },
        {
          "name": "stderr",
          "output_type": "stream",
          "text": [
            "/usr/local/lib/python3.10/dist-packages/sklearn/neural_network/_multilayer_perceptron.py:686: ConvergenceWarning: Stochastic Optimizer: Maximum iterations (200) reached and the optimization hasn't converged yet.\n",
            "  warnings.warn(\n"
          ]
        },
        {
          "data": {
            "text/html": [
              "<style>#sk-container-id-8 {color: black;background-color: white;}#sk-container-id-8 pre{padding: 0;}#sk-container-id-8 div.sk-toggleable {background-color: white;}#sk-container-id-8 label.sk-toggleable__label {cursor: pointer;display: block;width: 100%;margin-bottom: 0;padding: 0.3em;box-sizing: border-box;text-align: center;}#sk-container-id-8 label.sk-toggleable__label-arrow:before {content: \"▸\";float: left;margin-right: 0.25em;color: #696969;}#sk-container-id-8 label.sk-toggleable__label-arrow:hover:before {color: black;}#sk-container-id-8 div.sk-estimator:hover label.sk-toggleable__label-arrow:before {color: black;}#sk-container-id-8 div.sk-toggleable__content {max-height: 0;max-width: 0;overflow: hidden;text-align: left;background-color: #f0f8ff;}#sk-container-id-8 div.sk-toggleable__content pre {margin: 0.2em;color: black;border-radius: 0.25em;background-color: #f0f8ff;}#sk-container-id-8 input.sk-toggleable__control:checked~div.sk-toggleable__content {max-height: 200px;max-width: 100%;overflow: auto;}#sk-container-id-8 input.sk-toggleable__control:checked~label.sk-toggleable__label-arrow:before {content: \"▾\";}#sk-container-id-8 div.sk-estimator input.sk-toggleable__control:checked~label.sk-toggleable__label {background-color: #d4ebff;}#sk-container-id-8 div.sk-label input.sk-toggleable__control:checked~label.sk-toggleable__label {background-color: #d4ebff;}#sk-container-id-8 input.sk-hidden--visually {border: 0;clip: rect(1px 1px 1px 1px);clip: rect(1px, 1px, 1px, 1px);height: 1px;margin: -1px;overflow: hidden;padding: 0;position: absolute;width: 1px;}#sk-container-id-8 div.sk-estimator {font-family: monospace;background-color: #f0f8ff;border: 1px dotted black;border-radius: 0.25em;box-sizing: border-box;margin-bottom: 0.5em;}#sk-container-id-8 div.sk-estimator:hover {background-color: #d4ebff;}#sk-container-id-8 div.sk-parallel-item::after {content: \"\";width: 100%;border-bottom: 1px solid gray;flex-grow: 1;}#sk-container-id-8 div.sk-label:hover label.sk-toggleable__label {background-color: #d4ebff;}#sk-container-id-8 div.sk-serial::before {content: \"\";position: absolute;border-left: 1px solid gray;box-sizing: border-box;top: 0;bottom: 0;left: 50%;z-index: 0;}#sk-container-id-8 div.sk-serial {display: flex;flex-direction: column;align-items: center;background-color: white;padding-right: 0.2em;padding-left: 0.2em;position: relative;}#sk-container-id-8 div.sk-item {position: relative;z-index: 1;}#sk-container-id-8 div.sk-parallel {display: flex;align-items: stretch;justify-content: center;background-color: white;position: relative;}#sk-container-id-8 div.sk-item::before, #sk-container-id-8 div.sk-parallel-item::before {content: \"\";position: absolute;border-left: 1px solid gray;box-sizing: border-box;top: 0;bottom: 0;left: 50%;z-index: -1;}#sk-container-id-8 div.sk-parallel-item {display: flex;flex-direction: column;z-index: 1;position: relative;background-color: white;}#sk-container-id-8 div.sk-parallel-item:first-child::after {align-self: flex-end;width: 50%;}#sk-container-id-8 div.sk-parallel-item:last-child::after {align-self: flex-start;width: 50%;}#sk-container-id-8 div.sk-parallel-item:only-child::after {width: 0;}#sk-container-id-8 div.sk-dashed-wrapped {border: 1px dashed gray;margin: 0 0.4em 0.5em 0.4em;box-sizing: border-box;padding-bottom: 0.4em;background-color: white;}#sk-container-id-8 div.sk-label label {font-family: monospace;font-weight: bold;display: inline-block;line-height: 1.2em;}#sk-container-id-8 div.sk-label-container {text-align: center;}#sk-container-id-8 div.sk-container {/* jupyter's `normalize.less` sets `[hidden] { display: none; }` but bootstrap.min.css set `[hidden] { display: none !important; }` so we also need the `!important` here to be able to override the default hidden behavior on the sphinx rendered scikit-learn.org. See: https://github.com/scikit-learn/scikit-learn/issues/21755 */display: inline-block !important;position: relative;}#sk-container-id-8 div.sk-text-repr-fallback {display: none;}</style><div id=\"sk-container-id-8\" class=\"sk-top-container\"><div class=\"sk-text-repr-fallback\"><pre>GridSearchCV(cv=3, estimator=MLPClassifier(),\n",
              "             param_grid={&#x27;activation&#x27;: [&#x27;relu&#x27;, &#x27;logistic&#x27;],\n",
              "                         &#x27;hidden_layer_sizes&#x27;: [70, 80, 90, 100],\n",
              "                         &#x27;learning_rate&#x27;: [&#x27;invscaling&#x27;, &#x27;adaptive&#x27;],\n",
              "                         &#x27;solver&#x27;: [&#x27;sgd&#x27;, &#x27;adam&#x27;]},\n",
              "             verbose=2)</pre><b>In a Jupyter environment, please rerun this cell to show the HTML representation or trust the notebook. <br />On GitHub, the HTML representation is unable to render, please try loading this page with nbviewer.org.</b></div><div class=\"sk-container\" hidden><div class=\"sk-item sk-dashed-wrapped\"><div class=\"sk-label-container\"><div class=\"sk-label sk-toggleable\"><input class=\"sk-toggleable__control sk-hidden--visually\" id=\"sk-estimator-id-16\" type=\"checkbox\" ><label for=\"sk-estimator-id-16\" class=\"sk-toggleable__label sk-toggleable__label-arrow\">GridSearchCV</label><div class=\"sk-toggleable__content\"><pre>GridSearchCV(cv=3, estimator=MLPClassifier(),\n",
              "             param_grid={&#x27;activation&#x27;: [&#x27;relu&#x27;, &#x27;logistic&#x27;],\n",
              "                         &#x27;hidden_layer_sizes&#x27;: [70, 80, 90, 100],\n",
              "                         &#x27;learning_rate&#x27;: [&#x27;invscaling&#x27;, &#x27;adaptive&#x27;],\n",
              "                         &#x27;solver&#x27;: [&#x27;sgd&#x27;, &#x27;adam&#x27;]},\n",
              "             verbose=2)</pre></div></div></div><div class=\"sk-parallel\"><div class=\"sk-parallel-item\"><div class=\"sk-item\"><div class=\"sk-label-container\"><div class=\"sk-label sk-toggleable\"><input class=\"sk-toggleable__control sk-hidden--visually\" id=\"sk-estimator-id-17\" type=\"checkbox\" ><label for=\"sk-estimator-id-17\" class=\"sk-toggleable__label sk-toggleable__label-arrow\">estimator: MLPClassifier</label><div class=\"sk-toggleable__content\"><pre>MLPClassifier()</pre></div></div></div><div class=\"sk-serial\"><div class=\"sk-item\"><div class=\"sk-estimator sk-toggleable\"><input class=\"sk-toggleable__control sk-hidden--visually\" id=\"sk-estimator-id-18\" type=\"checkbox\" ><label for=\"sk-estimator-id-18\" class=\"sk-toggleable__label sk-toggleable__label-arrow\">MLPClassifier</label><div class=\"sk-toggleable__content\"><pre>MLPClassifier()</pre></div></div></div></div></div></div></div></div></div></div>"
            ],
            "text/plain": [
              "GridSearchCV(cv=3, estimator=MLPClassifier(),\n",
              "             param_grid={'activation': ['relu', 'logistic'],\n",
              "                         'hidden_layer_sizes': [70, 80, 90, 100],\n",
              "                         'learning_rate': ['invscaling', 'adaptive'],\n",
              "                         'solver': ['sgd', 'adam']},\n",
              "             verbose=2)"
            ]
          },
          "execution_count": 143,
          "metadata": {},
          "output_type": "execute_result"
        }
      ],
      "source": [
        "from sklearn.neural_network import MLPClassifier\n",
        "\n",
        "CV_mlp=GridSearchCV(estimator=MLPClassifier(), param_grid=param_grid, cv= 3, verbose=2)\n",
        "\n",
        "CV_mlp.fit(x_train,numpy.ravel(y_train))"
      ]
    },
    {
      "cell_type": "code",
      "execution_count": 145,
      "metadata": {
        "colab": {
          "base_uri": "https://localhost:8080/"
        },
        "id": "-WWginwhWx4V",
        "outputId": "412d4dfe-82bb-4b9d-91b4-c67e9a7d598b"
      },
      "outputs": [
        {
          "data": {
            "text/plain": [
              "{'activation': 'relu',\n",
              " 'hidden_layer_sizes': 80,\n",
              " 'learning_rate': 'invscaling',\n",
              " 'solver': 'adam'}"
            ]
          },
          "execution_count": 145,
          "metadata": {},
          "output_type": "execute_result"
        }
      ],
      "source": [
        "CV_mlp.best_params_"
      ]
    },
    {
      "cell_type": "code",
      "execution_count": 148,
      "metadata": {
        "id": "5l7QNyOuNQK6"
      },
      "outputs": [],
      "source": [
        "from sklearn.neural_network import MLPClassifier\n",
        "mlp = MLPClassifier(**CV_mlp.best_params_)"
      ]
    },
    {
      "cell_type": "code",
      "execution_count": 149,
      "metadata": {
        "colab": {
          "base_uri": "https://localhost:8080/",
          "height": 109
        },
        "id": "0Qo73yDRNWf8",
        "outputId": "d63783c4-2dcd-456d-d88c-9f03f1672397"
      },
      "outputs": [
        {
          "name": "stderr",
          "output_type": "stream",
          "text": [
            "/usr/local/lib/python3.10/dist-packages/sklearn/neural_network/_multilayer_perceptron.py:686: ConvergenceWarning: Stochastic Optimizer: Maximum iterations (200) reached and the optimization hasn't converged yet.\n",
            "  warnings.warn(\n"
          ]
        },
        {
          "data": {
            "text/html": [
              "<style>#sk-container-id-9 {color: black;background-color: white;}#sk-container-id-9 pre{padding: 0;}#sk-container-id-9 div.sk-toggleable {background-color: white;}#sk-container-id-9 label.sk-toggleable__label {cursor: pointer;display: block;width: 100%;margin-bottom: 0;padding: 0.3em;box-sizing: border-box;text-align: center;}#sk-container-id-9 label.sk-toggleable__label-arrow:before {content: \"▸\";float: left;margin-right: 0.25em;color: #696969;}#sk-container-id-9 label.sk-toggleable__label-arrow:hover:before {color: black;}#sk-container-id-9 div.sk-estimator:hover label.sk-toggleable__label-arrow:before {color: black;}#sk-container-id-9 div.sk-toggleable__content {max-height: 0;max-width: 0;overflow: hidden;text-align: left;background-color: #f0f8ff;}#sk-container-id-9 div.sk-toggleable__content pre {margin: 0.2em;color: black;border-radius: 0.25em;background-color: #f0f8ff;}#sk-container-id-9 input.sk-toggleable__control:checked~div.sk-toggleable__content {max-height: 200px;max-width: 100%;overflow: auto;}#sk-container-id-9 input.sk-toggleable__control:checked~label.sk-toggleable__label-arrow:before {content: \"▾\";}#sk-container-id-9 div.sk-estimator input.sk-toggleable__control:checked~label.sk-toggleable__label {background-color: #d4ebff;}#sk-container-id-9 div.sk-label input.sk-toggleable__control:checked~label.sk-toggleable__label {background-color: #d4ebff;}#sk-container-id-9 input.sk-hidden--visually {border: 0;clip: rect(1px 1px 1px 1px);clip: rect(1px, 1px, 1px, 1px);height: 1px;margin: -1px;overflow: hidden;padding: 0;position: absolute;width: 1px;}#sk-container-id-9 div.sk-estimator {font-family: monospace;background-color: #f0f8ff;border: 1px dotted black;border-radius: 0.25em;box-sizing: border-box;margin-bottom: 0.5em;}#sk-container-id-9 div.sk-estimator:hover {background-color: #d4ebff;}#sk-container-id-9 div.sk-parallel-item::after {content: \"\";width: 100%;border-bottom: 1px solid gray;flex-grow: 1;}#sk-container-id-9 div.sk-label:hover label.sk-toggleable__label {background-color: #d4ebff;}#sk-container-id-9 div.sk-serial::before {content: \"\";position: absolute;border-left: 1px solid gray;box-sizing: border-box;top: 0;bottom: 0;left: 50%;z-index: 0;}#sk-container-id-9 div.sk-serial {display: flex;flex-direction: column;align-items: center;background-color: white;padding-right: 0.2em;padding-left: 0.2em;position: relative;}#sk-container-id-9 div.sk-item {position: relative;z-index: 1;}#sk-container-id-9 div.sk-parallel {display: flex;align-items: stretch;justify-content: center;background-color: white;position: relative;}#sk-container-id-9 div.sk-item::before, #sk-container-id-9 div.sk-parallel-item::before {content: \"\";position: absolute;border-left: 1px solid gray;box-sizing: border-box;top: 0;bottom: 0;left: 50%;z-index: -1;}#sk-container-id-9 div.sk-parallel-item {display: flex;flex-direction: column;z-index: 1;position: relative;background-color: white;}#sk-container-id-9 div.sk-parallel-item:first-child::after {align-self: flex-end;width: 50%;}#sk-container-id-9 div.sk-parallel-item:last-child::after {align-self: flex-start;width: 50%;}#sk-container-id-9 div.sk-parallel-item:only-child::after {width: 0;}#sk-container-id-9 div.sk-dashed-wrapped {border: 1px dashed gray;margin: 0 0.4em 0.5em 0.4em;box-sizing: border-box;padding-bottom: 0.4em;background-color: white;}#sk-container-id-9 div.sk-label label {font-family: monospace;font-weight: bold;display: inline-block;line-height: 1.2em;}#sk-container-id-9 div.sk-label-container {text-align: center;}#sk-container-id-9 div.sk-container {/* jupyter's `normalize.less` sets `[hidden] { display: none; }` but bootstrap.min.css set `[hidden] { display: none !important; }` so we also need the `!important` here to be able to override the default hidden behavior on the sphinx rendered scikit-learn.org. See: https://github.com/scikit-learn/scikit-learn/issues/21755 */display: inline-block !important;position: relative;}#sk-container-id-9 div.sk-text-repr-fallback {display: none;}</style><div id=\"sk-container-id-9\" class=\"sk-top-container\"><div class=\"sk-text-repr-fallback\"><pre>MLPClassifier(hidden_layer_sizes=80, learning_rate=&#x27;invscaling&#x27;)</pre><b>In a Jupyter environment, please rerun this cell to show the HTML representation or trust the notebook. <br />On GitHub, the HTML representation is unable to render, please try loading this page with nbviewer.org.</b></div><div class=\"sk-container\" hidden><div class=\"sk-item\"><div class=\"sk-estimator sk-toggleable\"><input class=\"sk-toggleable__control sk-hidden--visually\" id=\"sk-estimator-id-19\" type=\"checkbox\" checked><label for=\"sk-estimator-id-19\" class=\"sk-toggleable__label sk-toggleable__label-arrow\">MLPClassifier</label><div class=\"sk-toggleable__content\"><pre>MLPClassifier(hidden_layer_sizes=80, learning_rate=&#x27;invscaling&#x27;)</pre></div></div></div></div></div>"
            ],
            "text/plain": [
              "MLPClassifier(hidden_layer_sizes=80, learning_rate='invscaling')"
            ]
          },
          "execution_count": 149,
          "metadata": {},
          "output_type": "execute_result"
        }
      ],
      "source": [
        "mlp.fit(x_train, numpy.ravel(y_train))"
      ]
    },
    {
      "cell_type": "code",
      "execution_count": 150,
      "metadata": {
        "id": "Ko1XpfmFNx2P"
      },
      "outputs": [],
      "source": [
        "y_pred=mlp.predict(x_test)"
      ]
    },
    {
      "cell_type": "code",
      "execution_count": 151,
      "metadata": {
        "colab": {
          "base_uri": "https://localhost:8080/"
        },
        "id": "GEr1GSWWN47n",
        "outputId": "eacb4065-33ea-4ea3-e4ca-bc069593deda"
      },
      "outputs": [
        {
          "data": {
            "text/plain": [
              "array([[0],\n",
              "       [0],\n",
              "       [1],\n",
              "       ...,\n",
              "       [0],\n",
              "       [0],\n",
              "       [1]])"
            ]
          },
          "execution_count": 151,
          "metadata": {},
          "output_type": "execute_result"
        }
      ],
      "source": [
        "y_test.values"
      ]
    },
    {
      "cell_type": "code",
      "execution_count": 152,
      "metadata": {
        "colab": {
          "base_uri": "https://localhost:8080/"
        },
        "id": "T5teX-m1OBWH",
        "outputId": "508ae1cc-7d45-42b5-b261-90c21aedb2f5"
      },
      "outputs": [
        {
          "name": "stdout",
          "output_type": "stream",
          "text": [
            "accuracy:84.250000\n",
            "\n",
            " recall score:41.523342\n",
            "\n",
            " roc score :68.344847\n",
            "[[1516   77]\n",
            " [ 238  169]]\n"
          ]
        }
      ],
      "source": [
        "print(\"accuracy:%f\"%(accuracy_score(y_test,y_pred)*100))\n",
        "print(\"\\n recall score:%f\"%(recall_score(y_test,y_pred)*100))\n",
        "print(\"\\n roc score :%f\"%(roc_auc_score(y_test,y_pred)*100))\n",
        "print(confusion_matrix(y_test,y_pred))\n",
        "accuracy_mlp = accuracy_score(y_test,y_pred)*100"
      ]
    },
    {
      "cell_type": "code",
      "execution_count": 153,
      "metadata": {
        "colab": {
          "base_uri": "https://localhost:8080/"
        },
        "id": "NVcipwYgOSwV",
        "outputId": "e7dd8f88-4ce2-4782-a8ab-a60e869f17c6"
      },
      "outputs": [
        {
          "data": {
            "text/plain": [
              "array([[1516,   77],\n",
              "       [ 238,  169]])"
            ]
          },
          "execution_count": 153,
          "metadata": {},
          "output_type": "execute_result"
        }
      ],
      "source": [
        "confusion_matrix(y_test,y_pred)"
      ]
    },
    {
      "cell_type": "code",
      "execution_count": 154,
      "metadata": {
        "colab": {
          "base_uri": "https://localhost:8080/"
        },
        "id": "TdEx7AjoTIZG",
        "outputId": "3c05480d-ed73-49e2-fcf2-8d3e154226d5"
      },
      "outputs": [
        {
          "name": "stdout",
          "output_type": "stream",
          "text": [
            "Classification Report:\n",
            "               precision    recall  f1-score   support\n",
            "\n",
            "           0       0.86      0.95      0.91      1593\n",
            "           1       0.69      0.42      0.52       407\n",
            "\n",
            "    accuracy                           0.84      2000\n",
            "   macro avg       0.78      0.68      0.71      2000\n",
            "weighted avg       0.83      0.84      0.83      2000\n",
            "\n"
          ]
        }
      ],
      "source": [
        "from sklearn.metrics import classification_report\n",
        "mlp_report = classification_report(y_test, y_pred)\n",
        "print('Classification Report:\\n', mlp_report)"
      ]
    },
    {
      "cell_type": "markdown",
      "metadata": {
        "id": "Me0FvmvxuEf8"
      },
      "source": [
        "Random Forest Classifier"
      ]
    },
    {
      "cell_type": "code",
      "execution_count": 156,
      "metadata": {
        "id": "Q3z_nq1nlVEg"
      },
      "outputs": [],
      "source": [
        "param_grid = {\n",
        "    'n_estimators': [70,80,90,100,110],\n",
        "    'criterion' : ['gini', 'entropy', 'log_loss'],\n",
        "    'max_depth' :[4,5,6,7,8],\n",
        "    'max_features' :['sqrt', 'log2', None]\n",
        "}\n",
        "\n"
      ]
    },
    {
      "cell_type": "code",
      "execution_count": 157,
      "metadata": {
        "colab": {
          "base_uri": "https://localhost:8080/",
          "height": 1000
        },
        "id": "BIvcZmZnlV8T",
        "outputId": "085f674b-2f33-4b17-a36e-643656401cac"
      },
      "outputs": [
        {
          "name": "stdout",
          "output_type": "stream",
          "text": [
            "Fitting 3 folds for each of 225 candidates, totalling 675 fits\n",
            "[CV] END criterion=gini, max_depth=4, max_features=sqrt, n_estimators=70; total time=   0.8s\n",
            "[CV] END criterion=gini, max_depth=4, max_features=sqrt, n_estimators=70; total time=   0.9s\n",
            "[CV] END criterion=gini, max_depth=4, max_features=sqrt, n_estimators=70; total time=   1.2s\n",
            "[CV] END criterion=gini, max_depth=4, max_features=sqrt, n_estimators=80; total time=   1.0s\n",
            "[CV] END criterion=gini, max_depth=4, max_features=sqrt, n_estimators=80; total time=   1.1s\n",
            "[CV] END criterion=gini, max_depth=4, max_features=sqrt, n_estimators=80; total time=   0.6s\n",
            "[CV] END criterion=gini, max_depth=4, max_features=sqrt, n_estimators=90; total time=   0.6s\n",
            "[CV] END criterion=gini, max_depth=4, max_features=sqrt, n_estimators=90; total time=   0.9s\n",
            "[CV] END criterion=gini, max_depth=4, max_features=sqrt, n_estimators=90; total time=   0.3s\n",
            "[CV] END criterion=gini, max_depth=4, max_features=sqrt, n_estimators=100; total time=   0.4s\n",
            "[CV] END criterion=gini, max_depth=4, max_features=sqrt, n_estimators=100; total time=   0.4s\n",
            "[CV] END criterion=gini, max_depth=4, max_features=sqrt, n_estimators=100; total time=   0.6s\n",
            "[CV] END criterion=gini, max_depth=4, max_features=sqrt, n_estimators=110; total time=   0.8s\n",
            "[CV] END criterion=gini, max_depth=4, max_features=sqrt, n_estimators=110; total time=   0.7s\n",
            "[CV] END criterion=gini, max_depth=4, max_features=sqrt, n_estimators=110; total time=   0.7s\n",
            "[CV] END criterion=gini, max_depth=4, max_features=log2, n_estimators=70; total time=   0.5s\n",
            "[CV] END criterion=gini, max_depth=4, max_features=log2, n_estimators=70; total time=   0.5s\n",
            "[CV] END criterion=gini, max_depth=4, max_features=log2, n_estimators=70; total time=   0.3s\n",
            "[CV] END criterion=gini, max_depth=4, max_features=log2, n_estimators=80; total time=   0.3s\n",
            "[CV] END criterion=gini, max_depth=4, max_features=log2, n_estimators=80; total time=   0.3s\n",
            "[CV] END criterion=gini, max_depth=4, max_features=log2, n_estimators=80; total time=   0.4s\n",
            "[CV] END criterion=gini, max_depth=4, max_features=log2, n_estimators=90; total time=   0.5s\n",
            "[CV] END criterion=gini, max_depth=4, max_features=log2, n_estimators=90; total time=   0.5s\n",
            "[CV] END criterion=gini, max_depth=4, max_features=log2, n_estimators=90; total time=   0.5s\n",
            "[CV] END criterion=gini, max_depth=4, max_features=log2, n_estimators=100; total time=   0.6s\n",
            "[CV] END criterion=gini, max_depth=4, max_features=log2, n_estimators=100; total time=   0.6s\n",
            "[CV] END criterion=gini, max_depth=4, max_features=log2, n_estimators=100; total time=   0.6s\n",
            "[CV] END criterion=gini, max_depth=4, max_features=log2, n_estimators=110; total time=   0.6s\n",
            "[CV] END criterion=gini, max_depth=4, max_features=log2, n_estimators=110; total time=   0.6s\n",
            "[CV] END criterion=gini, max_depth=4, max_features=log2, n_estimators=110; total time=   0.4s\n",
            "[CV] END criterion=gini, max_depth=4, max_features=None, n_estimators=70; total time=   0.5s\n",
            "[CV] END criterion=gini, max_depth=4, max_features=None, n_estimators=70; total time=   0.5s\n",
            "[CV] END criterion=gini, max_depth=4, max_features=None, n_estimators=70; total time=   0.5s\n",
            "[CV] END criterion=gini, max_depth=4, max_features=None, n_estimators=80; total time=   0.5s\n",
            "[CV] END criterion=gini, max_depth=4, max_features=None, n_estimators=80; total time=   0.5s\n",
            "[CV] END criterion=gini, max_depth=4, max_features=None, n_estimators=80; total time=   0.5s\n",
            "[CV] END criterion=gini, max_depth=4, max_features=None, n_estimators=90; total time=   0.6s\n",
            "[CV] END criterion=gini, max_depth=4, max_features=None, n_estimators=90; total time=   0.6s\n",
            "[CV] END criterion=gini, max_depth=4, max_features=None, n_estimators=90; total time=   0.6s\n",
            "[CV] END criterion=gini, max_depth=4, max_features=None, n_estimators=100; total time=   0.7s\n",
            "[CV] END criterion=gini, max_depth=4, max_features=None, n_estimators=100; total time=   0.6s\n",
            "[CV] END criterion=gini, max_depth=4, max_features=None, n_estimators=100; total time=   0.7s\n",
            "[CV] END criterion=gini, max_depth=4, max_features=None, n_estimators=110; total time=   0.7s\n",
            "[CV] END criterion=gini, max_depth=4, max_features=None, n_estimators=110; total time=   0.7s\n",
            "[CV] END criterion=gini, max_depth=4, max_features=None, n_estimators=110; total time=   0.7s\n",
            "[CV] END criterion=gini, max_depth=5, max_features=sqrt, n_estimators=70; total time=   0.3s\n",
            "[CV] END criterion=gini, max_depth=5, max_features=sqrt, n_estimators=70; total time=   0.3s\n",
            "[CV] END criterion=gini, max_depth=5, max_features=sqrt, n_estimators=70; total time=   0.4s\n",
            "[CV] END criterion=gini, max_depth=5, max_features=sqrt, n_estimators=80; total time=   0.5s\n",
            "[CV] END criterion=gini, max_depth=5, max_features=sqrt, n_estimators=80; total time=   0.5s\n",
            "[CV] END criterion=gini, max_depth=5, max_features=sqrt, n_estimators=80; total time=   0.5s\n",
            "[CV] END criterion=gini, max_depth=5, max_features=sqrt, n_estimators=90; total time=   0.6s\n",
            "[CV] END criterion=gini, max_depth=5, max_features=sqrt, n_estimators=90; total time=   0.6s\n",
            "[CV] END criterion=gini, max_depth=5, max_features=sqrt, n_estimators=90; total time=   0.6s\n",
            "[CV] END criterion=gini, max_depth=5, max_features=sqrt, n_estimators=100; total time=   0.7s\n",
            "[CV] END criterion=gini, max_depth=5, max_features=sqrt, n_estimators=100; total time=   0.5s\n",
            "[CV] END criterion=gini, max_depth=5, max_features=sqrt, n_estimators=100; total time=   0.4s\n",
            "[CV] END criterion=gini, max_depth=5, max_features=sqrt, n_estimators=110; total time=   0.5s\n",
            "[CV] END criterion=gini, max_depth=5, max_features=sqrt, n_estimators=110; total time=   0.5s\n",
            "[CV] END criterion=gini, max_depth=5, max_features=sqrt, n_estimators=110; total time=   0.5s\n",
            "[CV] END criterion=gini, max_depth=5, max_features=log2, n_estimators=70; total time=   0.3s\n",
            "[CV] END criterion=gini, max_depth=5, max_features=log2, n_estimators=70; total time=   0.3s\n",
            "[CV] END criterion=gini, max_depth=5, max_features=log2, n_estimators=70; total time=   0.3s\n",
            "[CV] END criterion=gini, max_depth=5, max_features=log2, n_estimators=80; total time=   0.3s\n",
            "[CV] END criterion=gini, max_depth=5, max_features=log2, n_estimators=80; total time=   0.3s\n",
            "[CV] END criterion=gini, max_depth=5, max_features=log2, n_estimators=80; total time=   0.3s\n",
            "[CV] END criterion=gini, max_depth=5, max_features=log2, n_estimators=90; total time=   0.4s\n",
            "[CV] END criterion=gini, max_depth=5, max_features=log2, n_estimators=90; total time=   0.4s\n",
            "[CV] END criterion=gini, max_depth=5, max_features=log2, n_estimators=90; total time=   0.4s\n",
            "[CV] END criterion=gini, max_depth=5, max_features=log2, n_estimators=100; total time=   0.4s\n",
            "[CV] END criterion=gini, max_depth=5, max_features=log2, n_estimators=100; total time=   0.4s\n",
            "[CV] END criterion=gini, max_depth=5, max_features=log2, n_estimators=100; total time=   0.4s\n",
            "[CV] END criterion=gini, max_depth=5, max_features=log2, n_estimators=110; total time=   0.5s\n",
            "[CV] END criterion=gini, max_depth=5, max_features=log2, n_estimators=110; total time=   0.5s\n",
            "[CV] END criterion=gini, max_depth=5, max_features=log2, n_estimators=110; total time=   0.5s\n",
            "[CV] END criterion=gini, max_depth=5, max_features=None, n_estimators=70; total time=   0.6s\n",
            "[CV] END criterion=gini, max_depth=5, max_features=None, n_estimators=70; total time=   0.6s\n",
            "[CV] END criterion=gini, max_depth=5, max_features=None, n_estimators=70; total time=   0.6s\n",
            "[CV] END criterion=gini, max_depth=5, max_features=None, n_estimators=80; total time=   0.6s\n",
            "[CV] END criterion=gini, max_depth=5, max_features=None, n_estimators=80; total time=   0.9s\n",
            "[CV] END criterion=gini, max_depth=5, max_features=None, n_estimators=80; total time=   0.9s\n",
            "[CV] END criterion=gini, max_depth=5, max_features=None, n_estimators=90; total time=   1.1s\n",
            "[CV] END criterion=gini, max_depth=5, max_features=None, n_estimators=90; total time=   1.0s\n",
            "[CV] END criterion=gini, max_depth=5, max_features=None, n_estimators=90; total time=   0.9s\n",
            "[CV] END criterion=gini, max_depth=5, max_features=None, n_estimators=100; total time=   0.8s\n",
            "[CV] END criterion=gini, max_depth=5, max_features=None, n_estimators=100; total time=   0.8s\n",
            "[CV] END criterion=gini, max_depth=5, max_features=None, n_estimators=100; total time=   0.8s\n",
            "[CV] END criterion=gini, max_depth=5, max_features=None, n_estimators=110; total time=   0.9s\n",
            "[CV] END criterion=gini, max_depth=5, max_features=None, n_estimators=110; total time=   0.9s\n",
            "[CV] END criterion=gini, max_depth=5, max_features=None, n_estimators=110; total time=   0.9s\n",
            "[CV] END criterion=gini, max_depth=6, max_features=sqrt, n_estimators=70; total time=   0.3s\n",
            "[CV] END criterion=gini, max_depth=6, max_features=sqrt, n_estimators=70; total time=   0.3s\n",
            "[CV] END criterion=gini, max_depth=6, max_features=sqrt, n_estimators=70; total time=   0.3s\n",
            "[CV] END criterion=gini, max_depth=6, max_features=sqrt, n_estimators=80; total time=   0.4s\n",
            "[CV] END criterion=gini, max_depth=6, max_features=sqrt, n_estimators=80; total time=   0.4s\n",
            "[CV] END criterion=gini, max_depth=6, max_features=sqrt, n_estimators=80; total time=   0.4s\n",
            "[CV] END criterion=gini, max_depth=6, max_features=sqrt, n_estimators=90; total time=   0.4s\n",
            "[CV] END criterion=gini, max_depth=6, max_features=sqrt, n_estimators=90; total time=   0.4s\n",
            "[CV] END criterion=gini, max_depth=6, max_features=sqrt, n_estimators=90; total time=   0.4s\n",
            "[CV] END criterion=gini, max_depth=6, max_features=sqrt, n_estimators=100; total time=   0.5s\n",
            "[CV] END criterion=gini, max_depth=6, max_features=sqrt, n_estimators=100; total time=   0.5s\n",
            "[CV] END criterion=gini, max_depth=6, max_features=sqrt, n_estimators=100; total time=   0.5s\n",
            "[CV] END criterion=gini, max_depth=6, max_features=sqrt, n_estimators=110; total time=   0.8s\n",
            "[CV] END criterion=gini, max_depth=6, max_features=sqrt, n_estimators=110; total time=   0.8s\n",
            "[CV] END criterion=gini, max_depth=6, max_features=sqrt, n_estimators=110; total time=   0.8s\n",
            "[CV] END criterion=gini, max_depth=6, max_features=log2, n_estimators=70; total time=   0.5s\n",
            "[CV] END criterion=gini, max_depth=6, max_features=log2, n_estimators=70; total time=   0.5s\n",
            "[CV] END criterion=gini, max_depth=6, max_features=log2, n_estimators=70; total time=   0.5s\n",
            "[CV] END criterion=gini, max_depth=6, max_features=log2, n_estimators=80; total time=   0.6s\n",
            "[CV] END criterion=gini, max_depth=6, max_features=log2, n_estimators=80; total time=   0.4s\n",
            "[CV] END criterion=gini, max_depth=6, max_features=log2, n_estimators=80; total time=   0.4s\n",
            "[CV] END criterion=gini, max_depth=6, max_features=log2, n_estimators=90; total time=   0.4s\n",
            "[CV] END criterion=gini, max_depth=6, max_features=log2, n_estimators=90; total time=   0.4s\n",
            "[CV] END criterion=gini, max_depth=6, max_features=log2, n_estimators=90; total time=   0.4s\n",
            "[CV] END criterion=gini, max_depth=6, max_features=log2, n_estimators=100; total time=   0.5s\n",
            "[CV] END criterion=gini, max_depth=6, max_features=log2, n_estimators=100; total time=   0.5s\n",
            "[CV] END criterion=gini, max_depth=6, max_features=log2, n_estimators=100; total time=   0.5s\n",
            "[CV] END criterion=gini, max_depth=6, max_features=log2, n_estimators=110; total time=   0.5s\n",
            "[CV] END criterion=gini, max_depth=6, max_features=log2, n_estimators=110; total time=   0.5s\n",
            "[CV] END criterion=gini, max_depth=6, max_features=log2, n_estimators=110; total time=   0.5s\n",
            "[CV] END criterion=gini, max_depth=6, max_features=None, n_estimators=70; total time=   0.6s\n",
            "[CV] END criterion=gini, max_depth=6, max_features=None, n_estimators=70; total time=   0.6s\n",
            "[CV] END criterion=gini, max_depth=6, max_features=None, n_estimators=70; total time=   0.6s\n",
            "[CV] END criterion=gini, max_depth=6, max_features=None, n_estimators=80; total time=   0.7s\n",
            "[CV] END criterion=gini, max_depth=6, max_features=None, n_estimators=80; total time=   0.7s\n",
            "[CV] END criterion=gini, max_depth=6, max_features=None, n_estimators=80; total time=   0.7s\n",
            "[CV] END criterion=gini, max_depth=6, max_features=None, n_estimators=90; total time=   0.8s\n",
            "[CV] END criterion=gini, max_depth=6, max_features=None, n_estimators=90; total time=   1.1s\n",
            "[CV] END criterion=gini, max_depth=6, max_features=None, n_estimators=90; total time=   1.2s\n",
            "[CV] END criterion=gini, max_depth=6, max_features=None, n_estimators=100; total time=   1.3s\n",
            "[CV] END criterion=gini, max_depth=6, max_features=None, n_estimators=100; total time=   1.2s\n",
            "[CV] END criterion=gini, max_depth=6, max_features=None, n_estimators=100; total time=   0.9s\n",
            "[CV] END criterion=gini, max_depth=6, max_features=None, n_estimators=110; total time=   1.0s\n",
            "[CV] END criterion=gini, max_depth=6, max_features=None, n_estimators=110; total time=   1.0s\n",
            "[CV] END criterion=gini, max_depth=6, max_features=None, n_estimators=110; total time=   1.0s\n",
            "[CV] END criterion=gini, max_depth=7, max_features=sqrt, n_estimators=70; total time=   0.4s\n",
            "[CV] END criterion=gini, max_depth=7, max_features=sqrt, n_estimators=70; total time=   0.4s\n",
            "[CV] END criterion=gini, max_depth=7, max_features=sqrt, n_estimators=70; total time=   0.4s\n",
            "[CV] END criterion=gini, max_depth=7, max_features=sqrt, n_estimators=80; total time=   0.4s\n",
            "[CV] END criterion=gini, max_depth=7, max_features=sqrt, n_estimators=80; total time=   0.4s\n",
            "[CV] END criterion=gini, max_depth=7, max_features=sqrt, n_estimators=80; total time=   0.4s\n",
            "[CV] END criterion=gini, max_depth=7, max_features=sqrt, n_estimators=90; total time=   0.5s\n",
            "[CV] END criterion=gini, max_depth=7, max_features=sqrt, n_estimators=90; total time=   0.5s\n",
            "[CV] END criterion=gini, max_depth=7, max_features=sqrt, n_estimators=90; total time=   0.5s\n",
            "[CV] END criterion=gini, max_depth=7, max_features=sqrt, n_estimators=100; total time=   0.5s\n",
            "[CV] END criterion=gini, max_depth=7, max_features=sqrt, n_estimators=100; total time=   0.5s\n",
            "[CV] END criterion=gini, max_depth=7, max_features=sqrt, n_estimators=100; total time=   0.5s\n",
            "[CV] END criterion=gini, max_depth=7, max_features=sqrt, n_estimators=110; total time=   0.6s\n",
            "[CV] END criterion=gini, max_depth=7, max_features=sqrt, n_estimators=110; total time=   0.8s\n",
            "[CV] END criterion=gini, max_depth=7, max_features=sqrt, n_estimators=110; total time=   0.9s\n",
            "[CV] END criterion=gini, max_depth=7, max_features=log2, n_estimators=70; total time=   0.5s\n",
            "[CV] END criterion=gini, max_depth=7, max_features=log2, n_estimators=70; total time=   0.5s\n",
            "[CV] END criterion=gini, max_depth=7, max_features=log2, n_estimators=70; total time=   0.6s\n",
            "[CV] END criterion=gini, max_depth=7, max_features=log2, n_estimators=80; total time=   0.6s\n",
            "[CV] END criterion=gini, max_depth=7, max_features=log2, n_estimators=80; total time=   0.6s\n",
            "[CV] END criterion=gini, max_depth=7, max_features=log2, n_estimators=80; total time=   0.5s\n",
            "[CV] END criterion=gini, max_depth=7, max_features=log2, n_estimators=90; total time=   0.5s\n",
            "[CV] END criterion=gini, max_depth=7, max_features=log2, n_estimators=90; total time=   0.5s\n",
            "[CV] END criterion=gini, max_depth=7, max_features=log2, n_estimators=90; total time=   0.5s\n",
            "[CV] END criterion=gini, max_depth=7, max_features=log2, n_estimators=100; total time=   0.5s\n",
            "[CV] END criterion=gini, max_depth=7, max_features=log2, n_estimators=100; total time=   0.5s\n",
            "[CV] END criterion=gini, max_depth=7, max_features=log2, n_estimators=100; total time=   0.5s\n",
            "[CV] END criterion=gini, max_depth=7, max_features=log2, n_estimators=110; total time=   0.6s\n",
            "[CV] END criterion=gini, max_depth=7, max_features=log2, n_estimators=110; total time=   0.6s\n",
            "[CV] END criterion=gini, max_depth=7, max_features=log2, n_estimators=110; total time=   0.6s\n",
            "[CV] END criterion=gini, max_depth=7, max_features=None, n_estimators=70; total time=   0.7s\n",
            "[CV] END criterion=gini, max_depth=7, max_features=None, n_estimators=70; total time=   0.7s\n",
            "[CV] END criterion=gini, max_depth=7, max_features=None, n_estimators=70; total time=   0.7s\n",
            "[CV] END criterion=gini, max_depth=7, max_features=None, n_estimators=80; total time=   0.8s\n",
            "[CV] END criterion=gini, max_depth=7, max_features=None, n_estimators=80; total time=   0.8s\n",
            "[CV] END criterion=gini, max_depth=7, max_features=None, n_estimators=80; total time=   0.8s\n",
            "[CV] END criterion=gini, max_depth=7, max_features=None, n_estimators=90; total time=   1.1s\n",
            "[CV] END criterion=gini, max_depth=7, max_features=None, n_estimators=90; total time=   1.4s\n",
            "[CV] END criterion=gini, max_depth=7, max_features=None, n_estimators=90; total time=   1.3s\n",
            "[CV] END criterion=gini, max_depth=7, max_features=None, n_estimators=100; total time=   1.4s\n",
            "[CV] END criterion=gini, max_depth=7, max_features=None, n_estimators=100; total time=   1.0s\n",
            "[CV] END criterion=gini, max_depth=7, max_features=None, n_estimators=100; total time=   1.0s\n",
            "[CV] END criterion=gini, max_depth=7, max_features=None, n_estimators=110; total time=   1.1s\n",
            "[CV] END criterion=gini, max_depth=7, max_features=None, n_estimators=110; total time=   1.1s\n",
            "[CV] END criterion=gini, max_depth=7, max_features=None, n_estimators=110; total time=   1.8s\n",
            "[CV] END criterion=gini, max_depth=8, max_features=sqrt, n_estimators=70; total time=   0.9s\n",
            "[CV] END criterion=gini, max_depth=8, max_features=sqrt, n_estimators=70; total time=   0.4s\n",
            "[CV] END criterion=gini, max_depth=8, max_features=sqrt, n_estimators=70; total time=   0.4s\n",
            "[CV] END criterion=gini, max_depth=8, max_features=sqrt, n_estimators=80; total time=   0.4s\n",
            "[CV] END criterion=gini, max_depth=8, max_features=sqrt, n_estimators=80; total time=   0.5s\n",
            "[CV] END criterion=gini, max_depth=8, max_features=sqrt, n_estimators=80; total time=   0.5s\n",
            "[CV] END criterion=gini, max_depth=8, max_features=sqrt, n_estimators=90; total time=   0.5s\n",
            "[CV] END criterion=gini, max_depth=8, max_features=sqrt, n_estimators=90; total time=   0.7s\n",
            "[CV] END criterion=gini, max_depth=8, max_features=sqrt, n_estimators=90; total time=   0.8s\n",
            "[CV] END criterion=gini, max_depth=8, max_features=sqrt, n_estimators=100; total time=   0.8s\n",
            "[CV] END criterion=gini, max_depth=8, max_features=sqrt, n_estimators=100; total time=   0.8s\n",
            "[CV] END criterion=gini, max_depth=8, max_features=sqrt, n_estimators=100; total time=   0.8s\n",
            "[CV] END criterion=gini, max_depth=8, max_features=sqrt, n_estimators=110; total time=   0.9s\n",
            "[CV] END criterion=gini, max_depth=8, max_features=sqrt, n_estimators=110; total time=   0.6s\n",
            "[CV] END criterion=gini, max_depth=8, max_features=sqrt, n_estimators=110; total time=   0.6s\n",
            "[CV] END criterion=gini, max_depth=8, max_features=log2, n_estimators=70; total time=   0.4s\n",
            "[CV] END criterion=gini, max_depth=8, max_features=log2, n_estimators=70; total time=   0.4s\n",
            "[CV] END criterion=gini, max_depth=8, max_features=log2, n_estimators=70; total time=   0.4s\n",
            "[CV] END criterion=gini, max_depth=8, max_features=log2, n_estimators=80; total time=   0.5s\n",
            "[CV] END criterion=gini, max_depth=8, max_features=log2, n_estimators=80; total time=   0.5s\n",
            "[CV] END criterion=gini, max_depth=8, max_features=log2, n_estimators=80; total time=   0.5s\n",
            "[CV] END criterion=gini, max_depth=8, max_features=log2, n_estimators=90; total time=   0.5s\n",
            "[CV] END criterion=gini, max_depth=8, max_features=log2, n_estimators=90; total time=   0.5s\n",
            "[CV] END criterion=gini, max_depth=8, max_features=log2, n_estimators=90; total time=   0.5s\n",
            "[CV] END criterion=gini, max_depth=8, max_features=log2, n_estimators=100; total time=   0.6s\n",
            "[CV] END criterion=gini, max_depth=8, max_features=log2, n_estimators=100; total time=   0.6s\n",
            "[CV] END criterion=gini, max_depth=8, max_features=log2, n_estimators=100; total time=   0.6s\n",
            "[CV] END criterion=gini, max_depth=8, max_features=log2, n_estimators=110; total time=   0.6s\n",
            "[CV] END criterion=gini, max_depth=8, max_features=log2, n_estimators=110; total time=   0.6s\n",
            "[CV] END criterion=gini, max_depth=8, max_features=log2, n_estimators=110; total time=   0.6s\n",
            "[CV] END criterion=gini, max_depth=8, max_features=None, n_estimators=70; total time=   0.8s\n",
            "[CV] END criterion=gini, max_depth=8, max_features=None, n_estimators=70; total time=   1.1s\n",
            "[CV] END criterion=gini, max_depth=8, max_features=None, n_estimators=70; total time=   1.2s\n",
            "[CV] END criterion=gini, max_depth=8, max_features=None, n_estimators=80; total time=   1.3s\n",
            "[CV] END criterion=gini, max_depth=8, max_features=None, n_estimators=80; total time=   1.3s\n",
            "[CV] END criterion=gini, max_depth=8, max_features=None, n_estimators=80; total time=   0.9s\n",
            "[CV] END criterion=gini, max_depth=8, max_features=None, n_estimators=90; total time=   1.0s\n",
            "[CV] END criterion=gini, max_depth=8, max_features=None, n_estimators=90; total time=   1.0s\n",
            "[CV] END criterion=gini, max_depth=8, max_features=None, n_estimators=90; total time=   1.0s\n",
            "[CV] END criterion=gini, max_depth=8, max_features=None, n_estimators=100; total time=   1.1s\n",
            "[CV] END criterion=gini, max_depth=8, max_features=None, n_estimators=100; total time=   1.1s\n",
            "[CV] END criterion=gini, max_depth=8, max_features=None, n_estimators=100; total time=   1.2s\n",
            "[CV] END criterion=gini, max_depth=8, max_features=None, n_estimators=110; total time=   1.3s\n",
            "[CV] END criterion=gini, max_depth=8, max_features=None, n_estimators=110; total time=   1.2s\n",
            "[CV] END criterion=gini, max_depth=8, max_features=None, n_estimators=110; total time=   1.8s\n",
            "[CV] END criterion=entropy, max_depth=4, max_features=sqrt, n_estimators=70; total time=   0.4s\n",
            "[CV] END criterion=entropy, max_depth=4, max_features=sqrt, n_estimators=70; total time=   0.4s\n",
            "[CV] END criterion=entropy, max_depth=4, max_features=sqrt, n_estimators=70; total time=   0.4s\n",
            "[CV] END criterion=entropy, max_depth=4, max_features=sqrt, n_estimators=80; total time=   0.5s\n",
            "[CV] END criterion=entropy, max_depth=4, max_features=sqrt, n_estimators=80; total time=   0.5s\n",
            "[CV] END criterion=entropy, max_depth=4, max_features=sqrt, n_estimators=80; total time=   0.5s\n",
            "[CV] END criterion=entropy, max_depth=4, max_features=sqrt, n_estimators=90; total time=   0.4s\n",
            "[CV] END criterion=entropy, max_depth=4, max_features=sqrt, n_estimators=90; total time=   0.4s\n",
            "[CV] END criterion=entropy, max_depth=4, max_features=sqrt, n_estimators=90; total time=   0.4s\n",
            "[CV] END criterion=entropy, max_depth=4, max_features=sqrt, n_estimators=100; total time=   0.4s\n",
            "[CV] END criterion=entropy, max_depth=4, max_features=sqrt, n_estimators=100; total time=   0.4s\n",
            "[CV] END criterion=entropy, max_depth=4, max_features=sqrt, n_estimators=100; total time=   0.4s\n",
            "[CV] END criterion=entropy, max_depth=4, max_features=sqrt, n_estimators=110; total time=   0.4s\n",
            "[CV] END criterion=entropy, max_depth=4, max_features=sqrt, n_estimators=110; total time=   0.4s\n",
            "[CV] END criterion=entropy, max_depth=4, max_features=sqrt, n_estimators=110; total time=   0.4s\n",
            "[CV] END criterion=entropy, max_depth=4, max_features=log2, n_estimators=70; total time=   0.3s\n",
            "[CV] END criterion=entropy, max_depth=4, max_features=log2, n_estimators=70; total time=   0.3s\n",
            "[CV] END criterion=entropy, max_depth=4, max_features=log2, n_estimators=70; total time=   0.3s\n",
            "[CV] END criterion=entropy, max_depth=4, max_features=log2, n_estimators=80; total time=   0.3s\n",
            "[CV] END criterion=entropy, max_depth=4, max_features=log2, n_estimators=80; total time=   0.3s\n",
            "[CV] END criterion=entropy, max_depth=4, max_features=log2, n_estimators=80; total time=   0.3s\n",
            "[CV] END criterion=entropy, max_depth=4, max_features=log2, n_estimators=90; total time=   0.4s\n",
            "[CV] END criterion=entropy, max_depth=4, max_features=log2, n_estimators=90; total time=   0.4s\n",
            "[CV] END criterion=entropy, max_depth=4, max_features=log2, n_estimators=90; total time=   0.4s\n",
            "[CV] END criterion=entropy, max_depth=4, max_features=log2, n_estimators=100; total time=   0.4s\n",
            "[CV] END criterion=entropy, max_depth=4, max_features=log2, n_estimators=100; total time=   0.4s\n",
            "[CV] END criterion=entropy, max_depth=4, max_features=log2, n_estimators=100; total time=   0.4s\n",
            "[CV] END criterion=entropy, max_depth=4, max_features=log2, n_estimators=110; total time=   0.4s\n",
            "[CV] END criterion=entropy, max_depth=4, max_features=log2, n_estimators=110; total time=   0.4s\n",
            "[CV] END criterion=entropy, max_depth=4, max_features=log2, n_estimators=110; total time=   0.4s\n",
            "[CV] END criterion=entropy, max_depth=4, max_features=None, n_estimators=70; total time=   0.5s\n",
            "[CV] END criterion=entropy, max_depth=4, max_features=None, n_estimators=70; total time=   0.5s\n",
            "[CV] END criterion=entropy, max_depth=4, max_features=None, n_estimators=70; total time=   0.6s\n",
            "[CV] END criterion=entropy, max_depth=4, max_features=None, n_estimators=80; total time=   0.8s\n",
            "[CV] END criterion=entropy, max_depth=4, max_features=None, n_estimators=80; total time=   0.8s\n",
            "[CV] END criterion=entropy, max_depth=4, max_features=None, n_estimators=80; total time=   0.8s\n",
            "[CV] END criterion=entropy, max_depth=4, max_features=None, n_estimators=90; total time=   0.9s\n",
            "[CV] END criterion=entropy, max_depth=4, max_features=None, n_estimators=90; total time=   0.9s\n",
            "[CV] END criterion=entropy, max_depth=4, max_features=None, n_estimators=90; total time=   0.6s\n",
            "[CV] END criterion=entropy, max_depth=4, max_features=None, n_estimators=100; total time=   0.7s\n",
            "[CV] END criterion=entropy, max_depth=4, max_features=None, n_estimators=100; total time=   0.7s\n",
            "[CV] END criterion=entropy, max_depth=4, max_features=None, n_estimators=100; total time=   0.7s\n",
            "[CV] END criterion=entropy, max_depth=4, max_features=None, n_estimators=110; total time=   0.8s\n",
            "[CV] END criterion=entropy, max_depth=4, max_features=None, n_estimators=110; total time=   0.8s\n",
            "[CV] END criterion=entropy, max_depth=4, max_features=None, n_estimators=110; total time=   0.8s\n",
            "[CV] END criterion=entropy, max_depth=5, max_features=sqrt, n_estimators=70; total time=   0.3s\n",
            "[CV] END criterion=entropy, max_depth=5, max_features=sqrt, n_estimators=70; total time=   0.3s\n",
            "[CV] END criterion=entropy, max_depth=5, max_features=sqrt, n_estimators=70; total time=   0.3s\n",
            "[CV] END criterion=entropy, max_depth=5, max_features=sqrt, n_estimators=80; total time=   0.4s\n",
            "[CV] END criterion=entropy, max_depth=5, max_features=sqrt, n_estimators=80; total time=   0.3s\n",
            "[CV] END criterion=entropy, max_depth=5, max_features=sqrt, n_estimators=80; total time=   0.4s\n",
            "[CV] END criterion=entropy, max_depth=5, max_features=sqrt, n_estimators=90; total time=   0.4s\n",
            "[CV] END criterion=entropy, max_depth=5, max_features=sqrt, n_estimators=90; total time=   0.4s\n",
            "[CV] END criterion=entropy, max_depth=5, max_features=sqrt, n_estimators=90; total time=   0.4s\n",
            "[CV] END criterion=entropy, max_depth=5, max_features=sqrt, n_estimators=100; total time=   0.4s\n",
            "[CV] END criterion=entropy, max_depth=5, max_features=sqrt, n_estimators=100; total time=   0.5s\n",
            "[CV] END criterion=entropy, max_depth=5, max_features=sqrt, n_estimators=100; total time=   0.4s\n",
            "[CV] END criterion=entropy, max_depth=5, max_features=sqrt, n_estimators=110; total time=   0.6s\n",
            "[CV] END criterion=entropy, max_depth=5, max_features=sqrt, n_estimators=110; total time=   0.7s\n",
            "[CV] END criterion=entropy, max_depth=5, max_features=sqrt, n_estimators=110; total time=   0.7s\n",
            "[CV] END criterion=entropy, max_depth=5, max_features=log2, n_estimators=70; total time=   0.5s\n",
            "[CV] END criterion=entropy, max_depth=5, max_features=log2, n_estimators=70; total time=   0.5s\n",
            "[CV] END criterion=entropy, max_depth=5, max_features=log2, n_estimators=70; total time=   0.5s\n",
            "[CV] END criterion=entropy, max_depth=5, max_features=log2, n_estimators=80; total time=   0.5s\n",
            "[CV] END criterion=entropy, max_depth=5, max_features=log2, n_estimators=80; total time=   0.5s\n",
            "[CV] END criterion=entropy, max_depth=5, max_features=log2, n_estimators=80; total time=   0.5s\n",
            "[CV] END criterion=entropy, max_depth=5, max_features=log2, n_estimators=90; total time=   0.4s\n",
            "[CV] END criterion=entropy, max_depth=5, max_features=log2, n_estimators=90; total time=   0.4s\n",
            "[CV] END criterion=entropy, max_depth=5, max_features=log2, n_estimators=90; total time=   0.4s\n",
            "[CV] END criterion=entropy, max_depth=5, max_features=log2, n_estimators=100; total time=   0.5s\n",
            "[CV] END criterion=entropy, max_depth=5, max_features=log2, n_estimators=100; total time=   0.4s\n",
            "[CV] END criterion=entropy, max_depth=5, max_features=log2, n_estimators=100; total time=   0.4s\n",
            "[CV] END criterion=entropy, max_depth=5, max_features=log2, n_estimators=110; total time=   0.5s\n",
            "[CV] END criterion=entropy, max_depth=5, max_features=log2, n_estimators=110; total time=   0.5s\n",
            "[CV] END criterion=entropy, max_depth=5, max_features=log2, n_estimators=110; total time=   0.5s\n",
            "[CV] END criterion=entropy, max_depth=5, max_features=None, n_estimators=70; total time=   0.6s\n",
            "[CV] END criterion=entropy, max_depth=5, max_features=None, n_estimators=70; total time=   0.6s\n",
            "[CV] END criterion=entropy, max_depth=5, max_features=None, n_estimators=70; total time=   0.6s\n",
            "[CV] END criterion=entropy, max_depth=5, max_features=None, n_estimators=80; total time=   0.7s\n",
            "[CV] END criterion=entropy, max_depth=5, max_features=None, n_estimators=80; total time=   0.7s\n",
            "[CV] END criterion=entropy, max_depth=5, max_features=None, n_estimators=80; total time=   0.7s\n",
            "[CV] END criterion=entropy, max_depth=5, max_features=None, n_estimators=90; total time=   0.7s\n",
            "[CV] END criterion=entropy, max_depth=5, max_features=None, n_estimators=90; total time=   0.8s\n",
            "[CV] END criterion=entropy, max_depth=5, max_features=None, n_estimators=90; total time=   0.8s\n",
            "[CV] END criterion=entropy, max_depth=5, max_features=None, n_estimators=100; total time=   1.3s\n",
            "[CV] END criterion=entropy, max_depth=5, max_features=None, n_estimators=100; total time=   1.2s\n",
            "[CV] END criterion=entropy, max_depth=5, max_features=None, n_estimators=100; total time=   1.2s\n",
            "[CV] END criterion=entropy, max_depth=5, max_features=None, n_estimators=110; total time=   1.1s\n",
            "[CV] END criterion=entropy, max_depth=5, max_features=None, n_estimators=110; total time=   0.9s\n",
            "[CV] END criterion=entropy, max_depth=5, max_features=None, n_estimators=110; total time=   0.9s\n",
            "[CV] END criterion=entropy, max_depth=6, max_features=sqrt, n_estimators=70; total time=   0.4s\n",
            "[CV] END criterion=entropy, max_depth=6, max_features=sqrt, n_estimators=70; total time=   0.4s\n",
            "[CV] END criterion=entropy, max_depth=6, max_features=sqrt, n_estimators=70; total time=   0.3s\n",
            "[CV] END criterion=entropy, max_depth=6, max_features=sqrt, n_estimators=80; total time=   0.4s\n",
            "[CV] END criterion=entropy, max_depth=6, max_features=sqrt, n_estimators=80; total time=   0.4s\n",
            "[CV] END criterion=entropy, max_depth=6, max_features=sqrt, n_estimators=80; total time=   0.4s\n",
            "[CV] END criterion=entropy, max_depth=6, max_features=sqrt, n_estimators=90; total time=   0.4s\n",
            "[CV] END criterion=entropy, max_depth=6, max_features=sqrt, n_estimators=90; total time=   0.5s\n",
            "[CV] END criterion=entropy, max_depth=6, max_features=sqrt, n_estimators=90; total time=   0.4s\n",
            "[CV] END criterion=entropy, max_depth=6, max_features=sqrt, n_estimators=100; total time=   0.5s\n",
            "[CV] END criterion=entropy, max_depth=6, max_features=sqrt, n_estimators=100; total time=   0.5s\n",
            "[CV] END criterion=entropy, max_depth=6, max_features=sqrt, n_estimators=100; total time=   0.5s\n",
            "[CV] END criterion=entropy, max_depth=6, max_features=sqrt, n_estimators=110; total time=   0.6s\n",
            "[CV] END criterion=entropy, max_depth=6, max_features=sqrt, n_estimators=110; total time=   0.5s\n",
            "[CV] END criterion=entropy, max_depth=6, max_features=sqrt, n_estimators=110; total time=   0.6s\n",
            "[CV] END criterion=entropy, max_depth=6, max_features=log2, n_estimators=70; total time=   0.3s\n",
            "[CV] END criterion=entropy, max_depth=6, max_features=log2, n_estimators=70; total time=   0.4s\n",
            "[CV] END criterion=entropy, max_depth=6, max_features=log2, n_estimators=70; total time=   0.5s\n",
            "[CV] END criterion=entropy, max_depth=6, max_features=log2, n_estimators=80; total time=   0.6s\n",
            "[CV] END criterion=entropy, max_depth=6, max_features=log2, n_estimators=80; total time=   0.6s\n",
            "[CV] END criterion=entropy, max_depth=6, max_features=log2, n_estimators=80; total time=   0.6s\n",
            "[CV] END criterion=entropy, max_depth=6, max_features=log2, n_estimators=90; total time=   0.7s\n",
            "[CV] END criterion=entropy, max_depth=6, max_features=log2, n_estimators=90; total time=   0.7s\n",
            "[CV] END criterion=entropy, max_depth=6, max_features=log2, n_estimators=90; total time=   0.7s\n",
            "[CV] END criterion=entropy, max_depth=6, max_features=log2, n_estimators=100; total time=   0.7s\n",
            "[CV] END criterion=entropy, max_depth=6, max_features=log2, n_estimators=100; total time=   0.5s\n",
            "[CV] END criterion=entropy, max_depth=6, max_features=log2, n_estimators=100; total time=   0.5s\n",
            "[CV] END criterion=entropy, max_depth=6, max_features=log2, n_estimators=110; total time=   0.5s\n",
            "[CV] END criterion=entropy, max_depth=6, max_features=log2, n_estimators=110; total time=   0.5s\n",
            "[CV] END criterion=entropy, max_depth=6, max_features=log2, n_estimators=110; total time=   0.5s\n",
            "[CV] END criterion=entropy, max_depth=6, max_features=None, n_estimators=70; total time=   0.7s\n",
            "[CV] END criterion=entropy, max_depth=6, max_features=None, n_estimators=70; total time=   0.7s\n",
            "[CV] END criterion=entropy, max_depth=6, max_features=None, n_estimators=70; total time=   0.7s\n",
            "[CV] END criterion=entropy, max_depth=6, max_features=None, n_estimators=80; total time=   0.8s\n",
            "[CV] END criterion=entropy, max_depth=6, max_features=None, n_estimators=80; total time=   0.8s\n",
            "[CV] END criterion=entropy, max_depth=6, max_features=None, n_estimators=80; total time=   0.8s\n",
            "[CV] END criterion=entropy, max_depth=6, max_features=None, n_estimators=90; total time=   0.9s\n",
            "[CV] END criterion=entropy, max_depth=6, max_features=None, n_estimators=90; total time=   0.9s\n",
            "[CV] END criterion=entropy, max_depth=6, max_features=None, n_estimators=90; total time=   2.6s\n",
            "[CV] END criterion=entropy, max_depth=6, max_features=None, n_estimators=100; total time=   2.4s\n",
            "[CV] END criterion=entropy, max_depth=6, max_features=None, n_estimators=100; total time=   1.3s\n",
            "[CV] END criterion=entropy, max_depth=6, max_features=None, n_estimators=100; total time=   1.0s\n",
            "[CV] END criterion=entropy, max_depth=6, max_features=None, n_estimators=110; total time=   1.1s\n",
            "[CV] END criterion=entropy, max_depth=6, max_features=None, n_estimators=110; total time=   1.1s\n",
            "[CV] END criterion=entropy, max_depth=6, max_features=None, n_estimators=110; total time=   1.1s\n",
            "[CV] END criterion=entropy, max_depth=7, max_features=sqrt, n_estimators=70; total time=   0.4s\n",
            "[CV] END criterion=entropy, max_depth=7, max_features=sqrt, n_estimators=70; total time=   0.4s\n",
            "[CV] END criterion=entropy, max_depth=7, max_features=sqrt, n_estimators=70; total time=   0.4s\n",
            "[CV] END criterion=entropy, max_depth=7, max_features=sqrt, n_estimators=80; total time=   0.5s\n",
            "[CV] END criterion=entropy, max_depth=7, max_features=sqrt, n_estimators=80; total time=   0.4s\n",
            "[CV] END criterion=entropy, max_depth=7, max_features=sqrt, n_estimators=80; total time=   0.4s\n",
            "[CV] END criterion=entropy, max_depth=7, max_features=sqrt, n_estimators=90; total time=   0.5s\n",
            "[CV] END criterion=entropy, max_depth=7, max_features=sqrt, n_estimators=90; total time=   0.5s\n",
            "[CV] END criterion=entropy, max_depth=7, max_features=sqrt, n_estimators=90; total time=   0.5s\n",
            "[CV] END criterion=entropy, max_depth=7, max_features=sqrt, n_estimators=100; total time=   0.6s\n",
            "[CV] END criterion=entropy, max_depth=7, max_features=sqrt, n_estimators=100; total time=   0.6s\n",
            "[CV] END criterion=entropy, max_depth=7, max_features=sqrt, n_estimators=100; total time=   0.7s\n",
            "[CV] END criterion=entropy, max_depth=7, max_features=sqrt, n_estimators=110; total time=   0.9s\n",
            "[CV] END criterion=entropy, max_depth=7, max_features=sqrt, n_estimators=110; total time=   0.9s\n",
            "[CV] END criterion=entropy, max_depth=7, max_features=sqrt, n_estimators=110; total time=   0.9s\n",
            "[CV] END criterion=entropy, max_depth=7, max_features=log2, n_estimators=70; total time=   0.6s\n",
            "[CV] END criterion=entropy, max_depth=7, max_features=log2, n_estimators=70; total time=   0.6s\n",
            "[CV] END criterion=entropy, max_depth=7, max_features=log2, n_estimators=70; total time=   0.5s\n",
            "[CV] END criterion=entropy, max_depth=7, max_features=log2, n_estimators=80; total time=   0.5s\n",
            "[CV] END criterion=entropy, max_depth=7, max_features=log2, n_estimators=80; total time=   0.4s\n",
            "[CV] END criterion=entropy, max_depth=7, max_features=log2, n_estimators=80; total time=   0.4s\n",
            "[CV] END criterion=entropy, max_depth=7, max_features=log2, n_estimators=90; total time=   0.5s\n",
            "[CV] END criterion=entropy, max_depth=7, max_features=log2, n_estimators=90; total time=   0.5s\n",
            "[CV] END criterion=entropy, max_depth=7, max_features=log2, n_estimators=90; total time=   0.5s\n",
            "[CV] END criterion=entropy, max_depth=7, max_features=log2, n_estimators=100; total time=   0.5s\n",
            "[CV] END criterion=entropy, max_depth=7, max_features=log2, n_estimators=100; total time=   0.6s\n",
            "[CV] END criterion=entropy, max_depth=7, max_features=log2, n_estimators=100; total time=   0.6s\n",
            "[CV] END criterion=entropy, max_depth=7, max_features=log2, n_estimators=110; total time=   0.6s\n",
            "[CV] END criterion=entropy, max_depth=7, max_features=log2, n_estimators=110; total time=   0.6s\n",
            "[CV] END criterion=entropy, max_depth=7, max_features=log2, n_estimators=110; total time=   0.6s\n",
            "[CV] END criterion=entropy, max_depth=7, max_features=None, n_estimators=70; total time=   0.8s\n",
            "[CV] END criterion=entropy, max_depth=7, max_features=None, n_estimators=70; total time=   0.8s\n",
            "[CV] END criterion=entropy, max_depth=7, max_features=None, n_estimators=70; total time=   0.8s\n",
            "[CV] END criterion=entropy, max_depth=7, max_features=None, n_estimators=80; total time=   0.9s\n",
            "[CV] END criterion=entropy, max_depth=7, max_features=None, n_estimators=80; total time=   1.2s\n",
            "[CV] END criterion=entropy, max_depth=7, max_features=None, n_estimators=80; total time=   1.3s\n",
            "[CV] END criterion=entropy, max_depth=7, max_features=None, n_estimators=90; total time=   1.5s\n",
            "[CV] END criterion=entropy, max_depth=7, max_features=None, n_estimators=90; total time=   1.2s\n",
            "[CV] END criterion=entropy, max_depth=7, max_features=None, n_estimators=90; total time=   1.0s\n",
            "[CV] END criterion=entropy, max_depth=7, max_features=None, n_estimators=100; total time=   1.1s\n",
            "[CV] END criterion=entropy, max_depth=7, max_features=None, n_estimators=100; total time=   1.1s\n",
            "[CV] END criterion=entropy, max_depth=7, max_features=None, n_estimators=100; total time=   1.1s\n",
            "[CV] END criterion=entropy, max_depth=7, max_features=None, n_estimators=110; total time=   1.2s\n",
            "[CV] END criterion=entropy, max_depth=7, max_features=None, n_estimators=110; total time=   1.2s\n",
            "[CV] END criterion=entropy, max_depth=7, max_features=None, n_estimators=110; total time=   1.2s\n",
            "[CV] END criterion=entropy, max_depth=8, max_features=sqrt, n_estimators=70; total time=   0.4s\n",
            "[CV] END criterion=entropy, max_depth=8, max_features=sqrt, n_estimators=70; total time=   0.4s\n",
            "[CV] END criterion=entropy, max_depth=8, max_features=sqrt, n_estimators=70; total time=   0.4s\n",
            "[CV] END criterion=entropy, max_depth=8, max_features=sqrt, n_estimators=80; total time=   0.7s\n",
            "[CV] END criterion=entropy, max_depth=8, max_features=sqrt, n_estimators=80; total time=   0.7s\n",
            "[CV] END criterion=entropy, max_depth=8, max_features=sqrt, n_estimators=80; total time=   0.7s\n",
            "[CV] END criterion=entropy, max_depth=8, max_features=sqrt, n_estimators=90; total time=   0.8s\n",
            "[CV] END criterion=entropy, max_depth=8, max_features=sqrt, n_estimators=90; total time=   0.8s\n",
            "[CV] END criterion=entropy, max_depth=8, max_features=sqrt, n_estimators=90; total time=   0.8s\n",
            "[CV] END criterion=entropy, max_depth=8, max_features=sqrt, n_estimators=100; total time=   0.7s\n",
            "[CV] END criterion=entropy, max_depth=8, max_features=sqrt, n_estimators=100; total time=   0.6s\n",
            "[CV] END criterion=entropy, max_depth=8, max_features=sqrt, n_estimators=100; total time=   0.6s\n",
            "[CV] END criterion=entropy, max_depth=8, max_features=sqrt, n_estimators=110; total time=   0.7s\n",
            "[CV] END criterion=entropy, max_depth=8, max_features=sqrt, n_estimators=110; total time=   0.7s\n",
            "[CV] END criterion=entropy, max_depth=8, max_features=sqrt, n_estimators=110; total time=   0.7s\n",
            "[CV] END criterion=entropy, max_depth=8, max_features=log2, n_estimators=70; total time=   0.4s\n",
            "[CV] END criterion=entropy, max_depth=8, max_features=log2, n_estimators=70; total time=   0.4s\n",
            "[CV] END criterion=entropy, max_depth=8, max_features=log2, n_estimators=70; total time=   0.4s\n",
            "[CV] END criterion=entropy, max_depth=8, max_features=log2, n_estimators=80; total time=   0.5s\n",
            "[CV] END criterion=entropy, max_depth=8, max_features=log2, n_estimators=80; total time=   0.5s\n",
            "[CV] END criterion=entropy, max_depth=8, max_features=log2, n_estimators=80; total time=   0.5s\n",
            "[CV] END criterion=entropy, max_depth=8, max_features=log2, n_estimators=90; total time=   0.5s\n",
            "[CV] END criterion=entropy, max_depth=8, max_features=log2, n_estimators=90; total time=   0.6s\n",
            "[CV] END criterion=entropy, max_depth=8, max_features=log2, n_estimators=90; total time=   0.5s\n",
            "[CV] END criterion=entropy, max_depth=8, max_features=log2, n_estimators=100; total time=   0.6s\n",
            "[CV] END criterion=entropy, max_depth=8, max_features=log2, n_estimators=100; total time=   0.6s\n",
            "[CV] END criterion=entropy, max_depth=8, max_features=log2, n_estimators=100; total time=   0.6s\n",
            "[CV] END criterion=entropy, max_depth=8, max_features=log2, n_estimators=110; total time=   1.0s\n",
            "[CV] END criterion=entropy, max_depth=8, max_features=log2, n_estimators=110; total time=   1.0s\n",
            "[CV] END criterion=entropy, max_depth=8, max_features=log2, n_estimators=110; total time=   1.0s\n",
            "[CV] END criterion=entropy, max_depth=8, max_features=None, n_estimators=70; total time=   1.3s\n",
            "[CV] END criterion=entropy, max_depth=8, max_features=None, n_estimators=70; total time=   1.0s\n",
            "[CV] END criterion=entropy, max_depth=8, max_features=None, n_estimators=70; total time=   0.9s\n",
            "[CV] END criterion=entropy, max_depth=8, max_features=None, n_estimators=80; total time=   1.0s\n",
            "[CV] END criterion=entropy, max_depth=8, max_features=None, n_estimators=80; total time=   1.0s\n",
            "[CV] END criterion=entropy, max_depth=8, max_features=None, n_estimators=80; total time=   1.0s\n",
            "[CV] END criterion=entropy, max_depth=8, max_features=None, n_estimators=90; total time=   1.1s\n",
            "[CV] END criterion=entropy, max_depth=8, max_features=None, n_estimators=90; total time=   1.1s\n",
            "[CV] END criterion=entropy, max_depth=8, max_features=None, n_estimators=90; total time=   1.1s\n",
            "[CV] END criterion=entropy, max_depth=8, max_features=None, n_estimators=100; total time=   1.2s\n",
            "[CV] END criterion=entropy, max_depth=8, max_features=None, n_estimators=100; total time=   1.4s\n",
            "[CV] END criterion=entropy, max_depth=8, max_features=None, n_estimators=100; total time=   1.8s\n",
            "[CV] END criterion=entropy, max_depth=8, max_features=None, n_estimators=110; total time=   2.0s\n",
            "[CV] END criterion=entropy, max_depth=8, max_features=None, n_estimators=110; total time=   1.5s\n",
            "[CV] END criterion=entropy, max_depth=8, max_features=None, n_estimators=110; total time=   1.4s\n",
            "[CV] END criterion=log_loss, max_depth=4, max_features=sqrt, n_estimators=70; total time=   0.3s\n",
            "[CV] END criterion=log_loss, max_depth=4, max_features=sqrt, n_estimators=70; total time=   0.3s\n",
            "[CV] END criterion=log_loss, max_depth=4, max_features=sqrt, n_estimators=70; total time=   0.3s\n",
            "[CV] END criterion=log_loss, max_depth=4, max_features=sqrt, n_estimators=80; total time=   0.3s\n",
            "[CV] END criterion=log_loss, max_depth=4, max_features=sqrt, n_estimators=80; total time=   0.3s\n",
            "[CV] END criterion=log_loss, max_depth=4, max_features=sqrt, n_estimators=80; total time=   0.3s\n",
            "[CV] END criterion=log_loss, max_depth=4, max_features=sqrt, n_estimators=90; total time=   0.4s\n",
            "[CV] END criterion=log_loss, max_depth=4, max_features=sqrt, n_estimators=90; total time=   0.4s\n",
            "[CV] END criterion=log_loss, max_depth=4, max_features=sqrt, n_estimators=90; total time=   0.4s\n",
            "[CV] END criterion=log_loss, max_depth=4, max_features=sqrt, n_estimators=100; total time=   0.4s\n",
            "[CV] END criterion=log_loss, max_depth=4, max_features=sqrt, n_estimators=100; total time=   0.4s\n",
            "[CV] END criterion=log_loss, max_depth=4, max_features=sqrt, n_estimators=100; total time=   0.4s\n",
            "[CV] END criterion=log_loss, max_depth=4, max_features=sqrt, n_estimators=110; total time=   0.4s\n",
            "[CV] END criterion=log_loss, max_depth=4, max_features=sqrt, n_estimators=110; total time=   0.4s\n",
            "[CV] END criterion=log_loss, max_depth=4, max_features=sqrt, n_estimators=110; total time=   0.4s\n",
            "[CV] END criterion=log_loss, max_depth=4, max_features=log2, n_estimators=70; total time=   0.3s\n",
            "[CV] END criterion=log_loss, max_depth=4, max_features=log2, n_estimators=70; total time=   0.3s\n",
            "[CV] END criterion=log_loss, max_depth=4, max_features=log2, n_estimators=70; total time=   0.3s\n",
            "[CV] END criterion=log_loss, max_depth=4, max_features=log2, n_estimators=80; total time=   0.3s\n",
            "[CV] END criterion=log_loss, max_depth=4, max_features=log2, n_estimators=80; total time=   0.3s\n",
            "[CV] END criterion=log_loss, max_depth=4, max_features=log2, n_estimators=80; total time=   0.3s\n",
            "[CV] END criterion=log_loss, max_depth=4, max_features=log2, n_estimators=90; total time=   0.4s\n",
            "[CV] END criterion=log_loss, max_depth=4, max_features=log2, n_estimators=90; total time=   0.5s\n",
            "[CV] END criterion=log_loss, max_depth=4, max_features=log2, n_estimators=90; total time=   0.5s\n",
            "[CV] END criterion=log_loss, max_depth=4, max_features=log2, n_estimators=100; total time=   0.6s\n",
            "[CV] END criterion=log_loss, max_depth=4, max_features=log2, n_estimators=100; total time=   0.6s\n",
            "[CV] END criterion=log_loss, max_depth=4, max_features=log2, n_estimators=100; total time=   0.6s\n",
            "[CV] END criterion=log_loss, max_depth=4, max_features=log2, n_estimators=110; total time=   0.6s\n",
            "[CV] END criterion=log_loss, max_depth=4, max_features=log2, n_estimators=110; total time=   0.7s\n",
            "[CV] END criterion=log_loss, max_depth=4, max_features=log2, n_estimators=110; total time=   0.5s\n",
            "[CV] END criterion=log_loss, max_depth=4, max_features=None, n_estimators=70; total time=   0.5s\n",
            "[CV] END criterion=log_loss, max_depth=4, max_features=None, n_estimators=70; total time=   0.5s\n",
            "[CV] END criterion=log_loss, max_depth=4, max_features=None, n_estimators=70; total time=   0.5s\n",
            "[CV] END criterion=log_loss, max_depth=4, max_features=None, n_estimators=80; total time=   0.6s\n",
            "[CV] END criterion=log_loss, max_depth=4, max_features=None, n_estimators=80; total time=   0.6s\n",
            "[CV] END criterion=log_loss, max_depth=4, max_features=None, n_estimators=80; total time=   0.6s\n",
            "[CV] END criterion=log_loss, max_depth=4, max_features=None, n_estimators=90; total time=   0.6s\n",
            "[CV] END criterion=log_loss, max_depth=4, max_features=None, n_estimators=90; total time=   0.6s\n",
            "[CV] END criterion=log_loss, max_depth=4, max_features=None, n_estimators=90; total time=   0.6s\n",
            "[CV] END criterion=log_loss, max_depth=4, max_features=None, n_estimators=100; total time=   0.7s\n",
            "[CV] END criterion=log_loss, max_depth=4, max_features=None, n_estimators=100; total time=   0.7s\n",
            "[CV] END criterion=log_loss, max_depth=4, max_features=None, n_estimators=100; total time=   0.7s\n",
            "[CV] END criterion=log_loss, max_depth=4, max_features=None, n_estimators=110; total time=   0.8s\n",
            "[CV] END criterion=log_loss, max_depth=4, max_features=None, n_estimators=110; total time=   0.8s\n",
            "[CV] END criterion=log_loss, max_depth=4, max_features=None, n_estimators=110; total time=   0.8s\n",
            "[CV] END criterion=log_loss, max_depth=5, max_features=sqrt, n_estimators=70; total time=   0.3s\n",
            "[CV] END criterion=log_loss, max_depth=5, max_features=sqrt, n_estimators=70; total time=   0.5s\n",
            "[CV] END criterion=log_loss, max_depth=5, max_features=sqrt, n_estimators=70; total time=   0.5s\n",
            "[CV] END criterion=log_loss, max_depth=5, max_features=sqrt, n_estimators=80; total time=   0.5s\n",
            "[CV] END criterion=log_loss, max_depth=5, max_features=sqrt, n_estimators=80; total time=   0.5s\n",
            "[CV] END criterion=log_loss, max_depth=5, max_features=sqrt, n_estimators=80; total time=   0.5s\n",
            "[CV] END criterion=log_loss, max_depth=5, max_features=sqrt, n_estimators=90; total time=   0.6s\n",
            "[CV] END criterion=log_loss, max_depth=5, max_features=sqrt, n_estimators=90; total time=   0.6s\n",
            "[CV] END criterion=log_loss, max_depth=5, max_features=sqrt, n_estimators=90; total time=   0.6s\n",
            "[CV] END criterion=log_loss, max_depth=5, max_features=sqrt, n_estimators=100; total time=   0.6s\n",
            "[CV] END criterion=log_loss, max_depth=5, max_features=sqrt, n_estimators=100; total time=   0.4s\n",
            "[CV] END criterion=log_loss, max_depth=5, max_features=sqrt, n_estimators=100; total time=   0.4s\n",
            "[CV] END criterion=log_loss, max_depth=5, max_features=sqrt, n_estimators=110; total time=   0.5s\n",
            "[CV] END criterion=log_loss, max_depth=5, max_features=sqrt, n_estimators=110; total time=   0.5s\n",
            "[CV] END criterion=log_loss, max_depth=5, max_features=sqrt, n_estimators=110; total time=   0.5s\n",
            "[CV] END criterion=log_loss, max_depth=5, max_features=log2, n_estimators=70; total time=   0.3s\n",
            "[CV] END criterion=log_loss, max_depth=5, max_features=log2, n_estimators=70; total time=   0.3s\n",
            "[CV] END criterion=log_loss, max_depth=5, max_features=log2, n_estimators=70; total time=   0.3s\n",
            "[CV] END criterion=log_loss, max_depth=5, max_features=log2, n_estimators=80; total time=   0.4s\n",
            "[CV] END criterion=log_loss, max_depth=5, max_features=log2, n_estimators=80; total time=   0.4s\n",
            "[CV] END criterion=log_loss, max_depth=5, max_features=log2, n_estimators=80; total time=   0.4s\n",
            "[CV] END criterion=log_loss, max_depth=5, max_features=log2, n_estimators=90; total time=   0.4s\n",
            "[CV] END criterion=log_loss, max_depth=5, max_features=log2, n_estimators=90; total time=   0.4s\n",
            "[CV] END criterion=log_loss, max_depth=5, max_features=log2, n_estimators=90; total time=   0.4s\n",
            "[CV] END criterion=log_loss, max_depth=5, max_features=log2, n_estimators=100; total time=   0.5s\n",
            "[CV] END criterion=log_loss, max_depth=5, max_features=log2, n_estimators=100; total time=   0.5s\n",
            "[CV] END criterion=log_loss, max_depth=5, max_features=log2, n_estimators=100; total time=   0.4s\n",
            "[CV] END criterion=log_loss, max_depth=5, max_features=log2, n_estimators=110; total time=   0.5s\n",
            "[CV] END criterion=log_loss, max_depth=5, max_features=log2, n_estimators=110; total time=   0.5s\n",
            "[CV] END criterion=log_loss, max_depth=5, max_features=log2, n_estimators=110; total time=   0.5s\n",
            "[CV] END criterion=log_loss, max_depth=5, max_features=None, n_estimators=70; total time=   0.6s\n",
            "[CV] END criterion=log_loss, max_depth=5, max_features=None, n_estimators=70; total time=   0.6s\n",
            "[CV] END criterion=log_loss, max_depth=5, max_features=None, n_estimators=70; total time=   0.8s\n",
            "[CV] END criterion=log_loss, max_depth=5, max_features=None, n_estimators=80; total time=   1.0s\n",
            "[CV] END criterion=log_loss, max_depth=5, max_features=None, n_estimators=80; total time=   1.0s\n",
            "[CV] END criterion=log_loss, max_depth=5, max_features=None, n_estimators=80; total time=   1.0s\n",
            "[CV] END criterion=log_loss, max_depth=5, max_features=None, n_estimators=90; total time=   1.0s\n",
            "[CV] END criterion=log_loss, max_depth=5, max_features=None, n_estimators=90; total time=   0.7s\n",
            "[CV] END criterion=log_loss, max_depth=5, max_features=None, n_estimators=90; total time=   0.8s\n",
            "[CV] END criterion=log_loss, max_depth=5, max_features=None, n_estimators=100; total time=   0.8s\n",
            "[CV] END criterion=log_loss, max_depth=5, max_features=None, n_estimators=100; total time=   0.8s\n",
            "[CV] END criterion=log_loss, max_depth=5, max_features=None, n_estimators=100; total time=   0.8s\n",
            "[CV] END criterion=log_loss, max_depth=5, max_features=None, n_estimators=110; total time=   0.9s\n",
            "[CV] END criterion=log_loss, max_depth=5, max_features=None, n_estimators=110; total time=   0.9s\n",
            "[CV] END criterion=log_loss, max_depth=5, max_features=None, n_estimators=110; total time=   0.9s\n",
            "[CV] END criterion=log_loss, max_depth=6, max_features=sqrt, n_estimators=70; total time=   0.4s\n",
            "[CV] END criterion=log_loss, max_depth=6, max_features=sqrt, n_estimators=70; total time=   0.3s\n",
            "[CV] END criterion=log_loss, max_depth=6, max_features=sqrt, n_estimators=70; total time=   0.4s\n",
            "[CV] END criterion=log_loss, max_depth=6, max_features=sqrt, n_estimators=80; total time=   0.4s\n",
            "[CV] END criterion=log_loss, max_depth=6, max_features=sqrt, n_estimators=80; total time=   0.4s\n",
            "[CV] END criterion=log_loss, max_depth=6, max_features=sqrt, n_estimators=80; total time=   0.4s\n",
            "[CV] END criterion=log_loss, max_depth=6, max_features=sqrt, n_estimators=90; total time=   0.5s\n",
            "[CV] END criterion=log_loss, max_depth=6, max_features=sqrt, n_estimators=90; total time=   0.5s\n",
            "[CV] END criterion=log_loss, max_depth=6, max_features=sqrt, n_estimators=90; total time=   0.7s\n",
            "[CV] END criterion=log_loss, max_depth=6, max_features=sqrt, n_estimators=100; total time=   0.8s\n",
            "[CV] END criterion=log_loss, max_depth=6, max_features=sqrt, n_estimators=100; total time=   0.8s\n",
            "[CV] END criterion=log_loss, max_depth=6, max_features=sqrt, n_estimators=100; total time=   0.8s\n",
            "[CV] END criterion=log_loss, max_depth=6, max_features=sqrt, n_estimators=110; total time=   0.8s\n",
            "[CV] END criterion=log_loss, max_depth=6, max_features=sqrt, n_estimators=110; total time=   0.8s\n",
            "[CV] END criterion=log_loss, max_depth=6, max_features=sqrt, n_estimators=110; total time=   0.5s\n",
            "[CV] END criterion=log_loss, max_depth=6, max_features=log2, n_estimators=70; total time=   0.4s\n",
            "[CV] END criterion=log_loss, max_depth=6, max_features=log2, n_estimators=70; total time=   0.4s\n",
            "[CV] END criterion=log_loss, max_depth=6, max_features=log2, n_estimators=70; total time=   0.3s\n",
            "[CV] END criterion=log_loss, max_depth=6, max_features=log2, n_estimators=80; total time=   0.4s\n",
            "[CV] END criterion=log_loss, max_depth=6, max_features=log2, n_estimators=80; total time=   0.4s\n",
            "[CV] END criterion=log_loss, max_depth=6, max_features=log2, n_estimators=80; total time=   0.4s\n",
            "[CV] END criterion=log_loss, max_depth=6, max_features=log2, n_estimators=90; total time=   0.5s\n",
            "[CV] END criterion=log_loss, max_depth=6, max_features=log2, n_estimators=90; total time=   0.5s\n",
            "[CV] END criterion=log_loss, max_depth=6, max_features=log2, n_estimators=90; total time=   0.4s\n",
            "[CV] END criterion=log_loss, max_depth=6, max_features=log2, n_estimators=100; total time=   0.5s\n",
            "[CV] END criterion=log_loss, max_depth=6, max_features=log2, n_estimators=100; total time=   0.5s\n",
            "[CV] END criterion=log_loss, max_depth=6, max_features=log2, n_estimators=100; total time=   0.5s\n",
            "[CV] END criterion=log_loss, max_depth=6, max_features=log2, n_estimators=110; total time=   0.5s\n",
            "[CV] END criterion=log_loss, max_depth=6, max_features=log2, n_estimators=110; total time=   0.6s\n",
            "[CV] END criterion=log_loss, max_depth=6, max_features=log2, n_estimators=110; total time=   0.6s\n",
            "[CV] END criterion=log_loss, max_depth=6, max_features=None, n_estimators=70; total time=   0.7s\n",
            "[CV] END criterion=log_loss, max_depth=6, max_features=None, n_estimators=70; total time=   0.7s\n",
            "[CV] END criterion=log_loss, max_depth=6, max_features=None, n_estimators=70; total time=   0.7s\n",
            "[CV] END criterion=log_loss, max_depth=6, max_features=None, n_estimators=80; total time=   0.9s\n",
            "[CV] END criterion=log_loss, max_depth=6, max_features=None, n_estimators=80; total time=   1.2s\n",
            "[CV] END criterion=log_loss, max_depth=6, max_features=None, n_estimators=80; total time=   1.2s\n",
            "[CV] END criterion=log_loss, max_depth=6, max_features=None, n_estimators=90; total time=   1.3s\n",
            "[CV] END criterion=log_loss, max_depth=6, max_features=None, n_estimators=90; total time=   1.1s\n",
            "[CV] END criterion=log_loss, max_depth=6, max_features=None, n_estimators=90; total time=   0.9s\n",
            "[CV] END criterion=log_loss, max_depth=6, max_features=None, n_estimators=100; total time=   1.0s\n",
            "[CV] END criterion=log_loss, max_depth=6, max_features=None, n_estimators=100; total time=   1.0s\n",
            "[CV] END criterion=log_loss, max_depth=6, max_features=None, n_estimators=100; total time=   1.0s\n",
            "[CV] END criterion=log_loss, max_depth=6, max_features=None, n_estimators=110; total time=   1.1s\n",
            "[CV] END criterion=log_loss, max_depth=6, max_features=None, n_estimators=110; total time=   1.1s\n",
            "[CV] END criterion=log_loss, max_depth=6, max_features=None, n_estimators=110; total time=   1.1s\n",
            "[CV] END criterion=log_loss, max_depth=7, max_features=sqrt, n_estimators=70; total time=   0.4s\n",
            "[CV] END criterion=log_loss, max_depth=7, max_features=sqrt, n_estimators=70; total time=   0.4s\n",
            "[CV] END criterion=log_loss, max_depth=7, max_features=sqrt, n_estimators=70; total time=   0.4s\n",
            "[CV] END criterion=log_loss, max_depth=7, max_features=sqrt, n_estimators=80; total time=   0.5s\n",
            "[CV] END criterion=log_loss, max_depth=7, max_features=sqrt, n_estimators=80; total time=   0.4s\n",
            "[CV] END criterion=log_loss, max_depth=7, max_features=sqrt, n_estimators=80; total time=   0.5s\n",
            "[CV] END criterion=log_loss, max_depth=7, max_features=sqrt, n_estimators=90; total time=   0.7s\n",
            "[CV] END criterion=log_loss, max_depth=7, max_features=sqrt, n_estimators=90; total time=   0.8s\n",
            "[CV] END criterion=log_loss, max_depth=7, max_features=sqrt, n_estimators=90; total time=   0.7s\n",
            "[CV] END criterion=log_loss, max_depth=7, max_features=sqrt, n_estimators=100; total time=   0.9s\n",
            "[CV] END criterion=log_loss, max_depth=7, max_features=sqrt, n_estimators=100; total time=   0.8s\n",
            "[CV] END criterion=log_loss, max_depth=7, max_features=sqrt, n_estimators=100; total time=   0.8s\n",
            "[CV] END criterion=log_loss, max_depth=7, max_features=sqrt, n_estimators=110; total time=   0.6s\n",
            "[CV] END criterion=log_loss, max_depth=7, max_features=sqrt, n_estimators=110; total time=   0.6s\n",
            "[CV] END criterion=log_loss, max_depth=7, max_features=sqrt, n_estimators=110; total time=   0.6s\n",
            "[CV] END criterion=log_loss, max_depth=7, max_features=log2, n_estimators=70; total time=   0.4s\n",
            "[CV] END criterion=log_loss, max_depth=7, max_features=log2, n_estimators=70; total time=   0.4s\n",
            "[CV] END criterion=log_loss, max_depth=7, max_features=log2, n_estimators=70; total time=   0.4s\n",
            "[CV] END criterion=log_loss, max_depth=7, max_features=log2, n_estimators=80; total time=   0.4s\n",
            "[CV] END criterion=log_loss, max_depth=7, max_features=log2, n_estimators=80; total time=   0.4s\n",
            "[CV] END criterion=log_loss, max_depth=7, max_features=log2, n_estimators=80; total time=   0.4s\n",
            "[CV] END criterion=log_loss, max_depth=7, max_features=log2, n_estimators=90; total time=   0.5s\n",
            "[CV] END criterion=log_loss, max_depth=7, max_features=log2, n_estimators=90; total time=   0.5s\n",
            "[CV] END criterion=log_loss, max_depth=7, max_features=log2, n_estimators=90; total time=   0.5s\n",
            "[CV] END criterion=log_loss, max_depth=7, max_features=log2, n_estimators=100; total time=   0.6s\n",
            "[CV] END criterion=log_loss, max_depth=7, max_features=log2, n_estimators=100; total time=   0.6s\n",
            "[CV] END criterion=log_loss, max_depth=7, max_features=log2, n_estimators=100; total time=   0.6s\n",
            "[CV] END criterion=log_loss, max_depth=7, max_features=log2, n_estimators=110; total time=   0.6s\n",
            "[CV] END criterion=log_loss, max_depth=7, max_features=log2, n_estimators=110; total time=   0.6s\n",
            "[CV] END criterion=log_loss, max_depth=7, max_features=log2, n_estimators=110; total time=   0.6s\n",
            "[CV] END criterion=log_loss, max_depth=7, max_features=None, n_estimators=70; total time=   0.9s\n",
            "[CV] END criterion=log_loss, max_depth=7, max_features=None, n_estimators=70; total time=   1.2s\n",
            "[CV] END criterion=log_loss, max_depth=7, max_features=None, n_estimators=70; total time=   1.2s\n",
            "[CV] END criterion=log_loss, max_depth=7, max_features=None, n_estimators=80; total time=   1.3s\n",
            "[CV] END criterion=log_loss, max_depth=7, max_features=None, n_estimators=80; total time=   1.1s\n",
            "[CV] END criterion=log_loss, max_depth=7, max_features=None, n_estimators=80; total time=   0.9s\n",
            "[CV] END criterion=log_loss, max_depth=7, max_features=None, n_estimators=90; total time=   1.0s\n",
            "[CV] END criterion=log_loss, max_depth=7, max_features=None, n_estimators=90; total time=   1.0s\n",
            "[CV] END criterion=log_loss, max_depth=7, max_features=None, n_estimators=90; total time=   1.0s\n",
            "[CV] END criterion=log_loss, max_depth=7, max_features=None, n_estimators=100; total time=   1.1s\n",
            "[CV] END criterion=log_loss, max_depth=7, max_features=None, n_estimators=100; total time=   1.1s\n",
            "[CV] END criterion=log_loss, max_depth=7, max_features=None, n_estimators=100; total time=   1.1s\n",
            "[CV] END criterion=log_loss, max_depth=7, max_features=None, n_estimators=110; total time=   1.2s\n",
            "[CV] END criterion=log_loss, max_depth=7, max_features=None, n_estimators=110; total time=   1.3s\n",
            "[CV] END criterion=log_loss, max_depth=7, max_features=None, n_estimators=110; total time=   1.8s\n",
            "[CV] END criterion=log_loss, max_depth=8, max_features=sqrt, n_estimators=70; total time=   0.7s\n",
            "[CV] END criterion=log_loss, max_depth=8, max_features=sqrt, n_estimators=70; total time=   0.7s\n",
            "[CV] END criterion=log_loss, max_depth=8, max_features=sqrt, n_estimators=70; total time=   0.6s\n",
            "[CV] END criterion=log_loss, max_depth=8, max_features=sqrt, n_estimators=80; total time=   0.7s\n",
            "[CV] END criterion=log_loss, max_depth=8, max_features=sqrt, n_estimators=80; total time=   0.5s\n",
            "[CV] END criterion=log_loss, max_depth=8, max_features=sqrt, n_estimators=80; total time=   0.5s\n",
            "[CV] END criterion=log_loss, max_depth=8, max_features=sqrt, n_estimators=90; total time=   0.5s\n",
            "[CV] END criterion=log_loss, max_depth=8, max_features=sqrt, n_estimators=90; total time=   0.6s\n",
            "[CV] END criterion=log_loss, max_depth=8, max_features=sqrt, n_estimators=90; total time=   0.5s\n",
            "[CV] END criterion=log_loss, max_depth=8, max_features=sqrt, n_estimators=100; total time=   0.6s\n",
            "[CV] END criterion=log_loss, max_depth=8, max_features=sqrt, n_estimators=100; total time=   0.6s\n",
            "[CV] END criterion=log_loss, max_depth=8, max_features=sqrt, n_estimators=100; total time=   0.6s\n",
            "[CV] END criterion=log_loss, max_depth=8, max_features=sqrt, n_estimators=110; total time=   0.7s\n",
            "[CV] END criterion=log_loss, max_depth=8, max_features=sqrt, n_estimators=110; total time=   0.7s\n",
            "[CV] END criterion=log_loss, max_depth=8, max_features=sqrt, n_estimators=110; total time=   0.7s\n",
            "[CV] END criterion=log_loss, max_depth=8, max_features=log2, n_estimators=70; total time=   0.4s\n",
            "[CV] END criterion=log_loss, max_depth=8, max_features=log2, n_estimators=70; total time=   0.4s\n",
            "[CV] END criterion=log_loss, max_depth=8, max_features=log2, n_estimators=70; total time=   0.4s\n",
            "[CV] END criterion=log_loss, max_depth=8, max_features=log2, n_estimators=80; total time=   0.5s\n",
            "[CV] END criterion=log_loss, max_depth=8, max_features=log2, n_estimators=80; total time=   0.5s\n",
            "[CV] END criterion=log_loss, max_depth=8, max_features=log2, n_estimators=80; total time=   0.5s\n",
            "[CV] END criterion=log_loss, max_depth=8, max_features=log2, n_estimators=90; total time=   0.5s\n",
            "[CV] END criterion=log_loss, max_depth=8, max_features=log2, n_estimators=90; total time=   0.8s\n",
            "[CV] END criterion=log_loss, max_depth=8, max_features=log2, n_estimators=90; total time=   0.8s\n",
            "[CV] END criterion=log_loss, max_depth=8, max_features=log2, n_estimators=100; total time=   0.9s\n",
            "[CV] END criterion=log_loss, max_depth=8, max_features=log2, n_estimators=100; total time=   0.9s\n",
            "[CV] END criterion=log_loss, max_depth=8, max_features=log2, n_estimators=100; total time=   0.9s\n",
            "[CV] END criterion=log_loss, max_depth=8, max_features=log2, n_estimators=110; total time=   0.8s\n",
            "[CV] END criterion=log_loss, max_depth=8, max_features=log2, n_estimators=110; total time=   0.7s\n",
            "[CV] END criterion=log_loss, max_depth=8, max_features=log2, n_estimators=110; total time=   0.7s\n",
            "[CV] END criterion=log_loss, max_depth=8, max_features=None, n_estimators=70; total time=   0.9s\n",
            "[CV] END criterion=log_loss, max_depth=8, max_features=None, n_estimators=70; total time=   0.9s\n",
            "[CV] END criterion=log_loss, max_depth=8, max_features=None, n_estimators=70; total time=   0.9s\n",
            "[CV] END criterion=log_loss, max_depth=8, max_features=None, n_estimators=80; total time=   1.0s\n",
            "[CV] END criterion=log_loss, max_depth=8, max_features=None, n_estimators=80; total time=   1.0s\n",
            "[CV] END criterion=log_loss, max_depth=8, max_features=None, n_estimators=80; total time=   1.0s\n",
            "[CV] END criterion=log_loss, max_depth=8, max_features=None, n_estimators=90; total time=   1.1s\n",
            "[CV] END criterion=log_loss, max_depth=8, max_features=None, n_estimators=90; total time=   1.1s\n",
            "[CV] END criterion=log_loss, max_depth=8, max_features=None, n_estimators=90; total time=   1.5s\n",
            "[CV] END criterion=log_loss, max_depth=8, max_features=None, n_estimators=100; total time=   1.8s\n",
            "[CV] END criterion=log_loss, max_depth=8, max_features=None, n_estimators=100; total time=   1.8s\n",
            "[CV] END criterion=log_loss, max_depth=8, max_features=None, n_estimators=100; total time=   1.3s\n",
            "[CV] END criterion=log_loss, max_depth=8, max_features=None, n_estimators=110; total time=   1.4s\n",
            "[CV] END criterion=log_loss, max_depth=8, max_features=None, n_estimators=110; total time=   1.4s\n",
            "[CV] END criterion=log_loss, max_depth=8, max_features=None, n_estimators=110; total time=   1.4s\n"
          ]
        },
        {
          "data": {
            "text/html": [
              "<style>#sk-container-id-10 {color: black;background-color: white;}#sk-container-id-10 pre{padding: 0;}#sk-container-id-10 div.sk-toggleable {background-color: white;}#sk-container-id-10 label.sk-toggleable__label {cursor: pointer;display: block;width: 100%;margin-bottom: 0;padding: 0.3em;box-sizing: border-box;text-align: center;}#sk-container-id-10 label.sk-toggleable__label-arrow:before {content: \"▸\";float: left;margin-right: 0.25em;color: #696969;}#sk-container-id-10 label.sk-toggleable__label-arrow:hover:before {color: black;}#sk-container-id-10 div.sk-estimator:hover label.sk-toggleable__label-arrow:before {color: black;}#sk-container-id-10 div.sk-toggleable__content {max-height: 0;max-width: 0;overflow: hidden;text-align: left;background-color: #f0f8ff;}#sk-container-id-10 div.sk-toggleable__content pre {margin: 0.2em;color: black;border-radius: 0.25em;background-color: #f0f8ff;}#sk-container-id-10 input.sk-toggleable__control:checked~div.sk-toggleable__content {max-height: 200px;max-width: 100%;overflow: auto;}#sk-container-id-10 input.sk-toggleable__control:checked~label.sk-toggleable__label-arrow:before {content: \"▾\";}#sk-container-id-10 div.sk-estimator input.sk-toggleable__control:checked~label.sk-toggleable__label {background-color: #d4ebff;}#sk-container-id-10 div.sk-label input.sk-toggleable__control:checked~label.sk-toggleable__label {background-color: #d4ebff;}#sk-container-id-10 input.sk-hidden--visually {border: 0;clip: rect(1px 1px 1px 1px);clip: rect(1px, 1px, 1px, 1px);height: 1px;margin: -1px;overflow: hidden;padding: 0;position: absolute;width: 1px;}#sk-container-id-10 div.sk-estimator {font-family: monospace;background-color: #f0f8ff;border: 1px dotted black;border-radius: 0.25em;box-sizing: border-box;margin-bottom: 0.5em;}#sk-container-id-10 div.sk-estimator:hover {background-color: #d4ebff;}#sk-container-id-10 div.sk-parallel-item::after {content: \"\";width: 100%;border-bottom: 1px solid gray;flex-grow: 1;}#sk-container-id-10 div.sk-label:hover label.sk-toggleable__label {background-color: #d4ebff;}#sk-container-id-10 div.sk-serial::before {content: \"\";position: absolute;border-left: 1px solid gray;box-sizing: border-box;top: 0;bottom: 0;left: 50%;z-index: 0;}#sk-container-id-10 div.sk-serial {display: flex;flex-direction: column;align-items: center;background-color: white;padding-right: 0.2em;padding-left: 0.2em;position: relative;}#sk-container-id-10 div.sk-item {position: relative;z-index: 1;}#sk-container-id-10 div.sk-parallel {display: flex;align-items: stretch;justify-content: center;background-color: white;position: relative;}#sk-container-id-10 div.sk-item::before, #sk-container-id-10 div.sk-parallel-item::before {content: \"\";position: absolute;border-left: 1px solid gray;box-sizing: border-box;top: 0;bottom: 0;left: 50%;z-index: -1;}#sk-container-id-10 div.sk-parallel-item {display: flex;flex-direction: column;z-index: 1;position: relative;background-color: white;}#sk-container-id-10 div.sk-parallel-item:first-child::after {align-self: flex-end;width: 50%;}#sk-container-id-10 div.sk-parallel-item:last-child::after {align-self: flex-start;width: 50%;}#sk-container-id-10 div.sk-parallel-item:only-child::after {width: 0;}#sk-container-id-10 div.sk-dashed-wrapped {border: 1px dashed gray;margin: 0 0.4em 0.5em 0.4em;box-sizing: border-box;padding-bottom: 0.4em;background-color: white;}#sk-container-id-10 div.sk-label label {font-family: monospace;font-weight: bold;display: inline-block;line-height: 1.2em;}#sk-container-id-10 div.sk-label-container {text-align: center;}#sk-container-id-10 div.sk-container {/* jupyter's `normalize.less` sets `[hidden] { display: none; }` but bootstrap.min.css set `[hidden] { display: none !important; }` so we also need the `!important` here to be able to override the default hidden behavior on the sphinx rendered scikit-learn.org. See: https://github.com/scikit-learn/scikit-learn/issues/21755 */display: inline-block !important;position: relative;}#sk-container-id-10 div.sk-text-repr-fallback {display: none;}</style><div id=\"sk-container-id-10\" class=\"sk-top-container\"><div class=\"sk-text-repr-fallback\"><pre>GridSearchCV(cv=3, estimator=RandomForestClassifier(),\n",
              "             param_grid={&#x27;criterion&#x27;: [&#x27;gini&#x27;, &#x27;entropy&#x27;, &#x27;log_loss&#x27;],\n",
              "                         &#x27;max_depth&#x27;: [4, 5, 6, 7, 8],\n",
              "                         &#x27;max_features&#x27;: [&#x27;sqrt&#x27;, &#x27;log2&#x27;, None],\n",
              "                         &#x27;n_estimators&#x27;: [70, 80, 90, 100, 110]},\n",
              "             verbose=2)</pre><b>In a Jupyter environment, please rerun this cell to show the HTML representation or trust the notebook. <br />On GitHub, the HTML representation is unable to render, please try loading this page with nbviewer.org.</b></div><div class=\"sk-container\" hidden><div class=\"sk-item sk-dashed-wrapped\"><div class=\"sk-label-container\"><div class=\"sk-label sk-toggleable\"><input class=\"sk-toggleable__control sk-hidden--visually\" id=\"sk-estimator-id-20\" type=\"checkbox\" ><label for=\"sk-estimator-id-20\" class=\"sk-toggleable__label sk-toggleable__label-arrow\">GridSearchCV</label><div class=\"sk-toggleable__content\"><pre>GridSearchCV(cv=3, estimator=RandomForestClassifier(),\n",
              "             param_grid={&#x27;criterion&#x27;: [&#x27;gini&#x27;, &#x27;entropy&#x27;, &#x27;log_loss&#x27;],\n",
              "                         &#x27;max_depth&#x27;: [4, 5, 6, 7, 8],\n",
              "                         &#x27;max_features&#x27;: [&#x27;sqrt&#x27;, &#x27;log2&#x27;, None],\n",
              "                         &#x27;n_estimators&#x27;: [70, 80, 90, 100, 110]},\n",
              "             verbose=2)</pre></div></div></div><div class=\"sk-parallel\"><div class=\"sk-parallel-item\"><div class=\"sk-item\"><div class=\"sk-label-container\"><div class=\"sk-label sk-toggleable\"><input class=\"sk-toggleable__control sk-hidden--visually\" id=\"sk-estimator-id-21\" type=\"checkbox\" ><label for=\"sk-estimator-id-21\" class=\"sk-toggleable__label sk-toggleable__label-arrow\">estimator: RandomForestClassifier</label><div class=\"sk-toggleable__content\"><pre>RandomForestClassifier()</pre></div></div></div><div class=\"sk-serial\"><div class=\"sk-item\"><div class=\"sk-estimator sk-toggleable\"><input class=\"sk-toggleable__control sk-hidden--visually\" id=\"sk-estimator-id-22\" type=\"checkbox\" ><label for=\"sk-estimator-id-22\" class=\"sk-toggleable__label sk-toggleable__label-arrow\">RandomForestClassifier</label><div class=\"sk-toggleable__content\"><pre>RandomForestClassifier()</pre></div></div></div></div></div></div></div></div></div></div>"
            ],
            "text/plain": [
              "GridSearchCV(cv=3, estimator=RandomForestClassifier(),\n",
              "             param_grid={'criterion': ['gini', 'entropy', 'log_loss'],\n",
              "                         'max_depth': [4, 5, 6, 7, 8],\n",
              "                         'max_features': ['sqrt', 'log2', None],\n",
              "                         'n_estimators': [70, 80, 90, 100, 110]},\n",
              "             verbose=2)"
            ]
          },
          "execution_count": 157,
          "metadata": {},
          "output_type": "execute_result"
        }
      ],
      "source": [
        "from sklearn.ensemble import RandomForestClassifier\n",
        "\n",
        "CV_rfc=GridSearchCV(estimator=RandomForestClassifier(), param_grid=param_grid, cv= 3, verbose=2)\n",
        "\n",
        "CV_rfc.fit(x_train,numpy.ravel(y_train))\n"
      ]
    },
    {
      "cell_type": "code",
      "execution_count": 159,
      "metadata": {
        "colab": {
          "base_uri": "https://localhost:8080/"
        },
        "id": "sKYffXtGowEg",
        "outputId": "43daab0a-df8c-47b7-c45b-7d89b077da21"
      },
      "outputs": [
        {
          "data": {
            "text/plain": [
              "{'criterion': 'log_loss',\n",
              " 'max_depth': 7,\n",
              " 'max_features': 'log2',\n",
              " 'n_estimators': 100}"
            ]
          },
          "execution_count": 159,
          "metadata": {},
          "output_type": "execute_result"
        }
      ],
      "source": [
        "CV_rfc.best_params_"
      ]
    },
    {
      "cell_type": "code",
      "execution_count": 160,
      "metadata": {
        "id": "elkq_SctuEf8"
      },
      "outputs": [],
      "source": [
        "rmf=RandomForestClassifier(**CV_rfc.best_params_)\n",
        "rmf_clf=rmf.fit(x_train,numpy.ravel(y_train))"
      ]
    },
    {
      "cell_type": "code",
      "execution_count": 161,
      "metadata": {
        "id": "yUb1Rx6ruEf9"
      },
      "outputs": [],
      "source": [
        "y_pred=rmf_clf.predict(x_test)"
      ]
    },
    {
      "cell_type": "code",
      "execution_count": 162,
      "metadata": {
        "colab": {
          "base_uri": "https://localhost:8080/"
        },
        "id": "Of1eAWo_uEf9",
        "outputId": "afbbace9-37b4-4052-bd5c-d701e06b62f1"
      },
      "outputs": [
        {
          "data": {
            "text/plain": [
              "array([[0],\n",
              "       [0],\n",
              "       [1],\n",
              "       ...,\n",
              "       [0],\n",
              "       [0],\n",
              "       [1]])"
            ]
          },
          "execution_count": 162,
          "metadata": {},
          "output_type": "execute_result"
        }
      ],
      "source": [
        "y_test.values"
      ]
    },
    {
      "cell_type": "code",
      "execution_count": 163,
      "metadata": {
        "id": "Uvfs6iMFuEf-"
      },
      "outputs": [],
      "source": [
        "from sklearn.metrics import accuracy_score,recall_score,roc_auc_score,confusion_matrix"
      ]
    },
    {
      "cell_type": "code",
      "execution_count": 164,
      "metadata": {
        "colab": {
          "base_uri": "https://localhost:8080/"
        },
        "id": "_ZO-z2jNuEf-",
        "outputId": "13292511-a1be-4c43-d2e3-fc52bc35ca02"
      },
      "outputs": [
        {
          "name": "stdout",
          "output_type": "stream",
          "text": [
            "accuracy:84.850000\n",
            "\n",
            " recall score:36.609337\n",
            "\n",
            " roc score :66.892239\n",
            "[[1548   45]\n",
            " [ 258  149]]\n"
          ]
        }
      ],
      "source": [
        "print(\"accuracy:%f\"%(accuracy_score(y_test,y_pred)*100))\n",
        "print(\"\\n recall score:%f\"%(recall_score(y_test,y_pred)*100))\n",
        "print(\"\\n roc score :%f\"%(roc_auc_score(y_test,y_pred)*100))\n",
        "print(confusion_matrix(y_test,y_pred))\n",
        "accuracy_rf = accuracy_score(y_test,y_pred)*100"
      ]
    },
    {
      "cell_type": "code",
      "execution_count": 165,
      "metadata": {
        "colab": {
          "base_uri": "https://localhost:8080/"
        },
        "id": "YC98YUqkuEf-",
        "outputId": "a6f762eb-a67b-4f7d-dfc2-c7b8e86d8845"
      },
      "outputs": [
        {
          "data": {
            "text/plain": [
              "array([[1548,   45],\n",
              "       [ 258,  149]])"
            ]
          },
          "execution_count": 165,
          "metadata": {},
          "output_type": "execute_result"
        }
      ],
      "source": [
        "confusion_matrix(y_test,y_pred)"
      ]
    },
    {
      "cell_type": "code",
      "execution_count": 166,
      "metadata": {
        "colab": {
          "base_uri": "https://localhost:8080/"
        },
        "id": "Wh1phxHHTbO7",
        "outputId": "451bf7e0-7a94-4a12-a005-430da5975126"
      },
      "outputs": [
        {
          "name": "stdout",
          "output_type": "stream",
          "text": [
            "Classification Report:\n",
            "               precision    recall  f1-score   support\n",
            "\n",
            "           0       0.86      0.97      0.91      1593\n",
            "           1       0.77      0.37      0.50       407\n",
            "\n",
            "    accuracy                           0.85      2000\n",
            "   macro avg       0.81      0.67      0.70      2000\n",
            "weighted avg       0.84      0.85      0.83      2000\n",
            "\n"
          ]
        }
      ],
      "source": [
        "from sklearn.metrics import classification_report\n",
        "rf_report = classification_report(y_test, y_pred)\n",
        "print('Classification Report:\\n', rf_report)"
      ]
    },
    {
      "cell_type": "code",
      "execution_count": 167,
      "metadata": {
        "colab": {
          "base_uri": "https://localhost:8080/"
        },
        "id": "9IZFJSWSuEgB",
        "outputId": "84298c67-1e5a-4050-984e-3bf988ef996c"
      },
      "outputs": [
        {
          "name": "stdout",
          "output_type": "stream",
          "text": [
            "Requirement already satisfied: tabulate in /usr/local/lib/python3.10/dist-packages (0.9.0)\n"
          ]
        }
      ],
      "source": [
        "!pip install tabulate"
      ]
    },
    {
      "cell_type": "code",
      "execution_count": 168,
      "metadata": {
        "colab": {
          "base_uri": "https://localhost:8080/"
        },
        "id": "scAluSbCuEgB",
        "outputId": "07020409-249f-43fe-e990-fe9652e5499d"
      },
      "outputs": [
        {
          "data": {
            "text/plain": [
              "[83.7, 82.45, 85.05, 84.7, 84.8, 84.39999999999999, 84.85000000000001, 84.25]"
            ]
          },
          "execution_count": 168,
          "metadata": {},
          "output_type": "execute_result"
        }
      ],
      "source": [
        "accuracy_list=[]\n",
        "accuracy_list.append(accuracy_knn)\n",
        "accuracy_list.append(accuracy_logreg)\n",
        "accuracy_list.append(accuracy_svc)\n",
        "accuracy_list.append(accuracy_dct)\n",
        "accuracy_list.append(accuracy_gb)\n",
        "accuracy_list.append(accuracy_xgb)\n",
        "accuracy_list.append(accuracy_rf)\n",
        "accuracy_list.append(accuracy_mlp)\n",
        "accuracy_list\n",
        "\n",
        "\n"
      ]
    },
    {
      "cell_type": "code",
      "execution_count": 169,
      "metadata": {
        "colab": {
          "base_uri": "https://localhost:8080/"
        },
        "id": "n_xZbktlH_Qi",
        "outputId": "ad0ec266-043c-47b5-b867-b83380e567dc"
      },
      "outputs": [
        {
          "data": {
            "text/plain": [
              "[82.45, 83.7, 84.25, 84.39999999999999, 84.7, 84.8, 84.85000000000001, 85.05]"
            ]
          },
          "execution_count": 169,
          "metadata": {},
          "output_type": "execute_result"
        }
      ],
      "source": [
        "accuracy_list.sort()\n",
        "accuracy_list"
      ]
    },
    {
      "cell_type": "code",
      "execution_count": 171,
      "metadata": {
        "colab": {
          "base_uri": "https://localhost:8080/"
        },
        "id": "uoFNYikHFX9f",
        "outputId": "c7cf26d3-ddb6-4fdd-8f4b-539c5689d534"
      },
      "outputs": [
        {
          "data": {
            "text/plain": [
              "85.05"
            ]
          },
          "execution_count": 171,
          "metadata": {},
          "output_type": "execute_result"
        }
      ],
      "source": [
        "highest_accuracy = accuracy_list[-1]\n",
        "highest_accuracy"
      ]
    },
    {
      "cell_type": "code",
      "execution_count": 172,
      "metadata": {
        "id": "x4eSxs_CuEgE"
      },
      "outputs": [],
      "source": [
        "# import pickle\n",
        "# pickle.dump(x,open('dataset.pkl','wb'))\n",
        "# pickle.dump(y,open('dataset1.pkl','wb'))\n",
        "# pickle.dump(data1,open('dataset2.pkl','wb'))"
      ]
    },
    {
      "cell_type": "code",
      "execution_count": 173,
      "metadata": {
        "id": "fKgKTi1NuEgE"
      },
      "outputs": [],
      "source": [
        "# Predict churn on the test dataset\n",
        "y_pred_prob = gb_clf.predict_proba(x_test)[:, 1]  # Get the probability of the positive class"
      ]
    },
    {
      "cell_type": "code",
      "execution_count": 174,
      "metadata": {
        "colab": {
          "base_uri": "https://localhost:8080/"
        },
        "id": "MyUXLmc-uEgF",
        "outputId": "f5c8adea-e6db-4ece-d178-e60ba2dcf4cd"
      },
      "outputs": [
        {
          "name": "stdout",
          "output_type": "stream",
          "text": [
            "   Churn_Probability  Actual_Churn  Predicted_Churn\n",
            "0           0.064118             0                0\n",
            "1           0.285492             0                0\n",
            "2           0.148881             1                0\n",
            "3           0.132904             0                0\n",
            "4           0.082710             0                0\n",
            "Average churn probability: 0.2002\n"
          ]
        }
      ],
      "source": [
        "# Convert probabilities to a DataFrame for better analysis\n",
        "probabilities_df = pd.DataFrame(y_pred_prob, columns=['Churn_Probability'])\n",
        "\n",
        "# Add actual churn labels and predicted labels for comparison\n",
        "probabilities_df['Actual_Churn'] = y_test.values\n",
        "probabilities_df['Predicted_Churn'] = y_pred\n",
        "\n",
        "# Display the head of the DataFrame\n",
        "print(probabilities_df.head())\n",
        "\n",
        "# Calculate the average churn probability\n",
        "average_churn_probability = probabilities_df['Churn_Probability'].mean()\n",
        "print('Average churn probability: {:.4f}'.format(average_churn_probability))"
      ]
    }
  ],
  "metadata": {
    "colab": {
      "provenance": []
    },
    "kernelspec": {
      "display_name": "Python 3",
      "language": "python",
      "name": "python3"
    },
    "language_info": {
      "codemirror_mode": {
        "name": "ipython",
        "version": 3
      },
      "file_extension": ".py",
      "mimetype": "text/x-python",
      "name": "python",
      "nbconvert_exporter": "python",
      "pygments_lexer": "ipython3",
      "version": "3.9.1"
    }
  },
  "nbformat": 4,
  "nbformat_minor": 0
}
